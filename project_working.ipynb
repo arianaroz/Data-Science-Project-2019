{
 "cells": [
  {
   "cell_type": "markdown",
   "metadata": {},
   "source": [
    "# The Economics of Film\n",
    "#### By Ariana Rozsnyoi, Caitlin Apcar, Mikhail Pavlov and Zachary Ash"
   ]
  },
  {
   "cell_type": "markdown",
   "metadata": {},
   "source": [
    "# Introduction\n",
    "\n",
    "Since the invention of the camera and moving pictures, film has been the main way for the world to experience media. However, with almost every household now owning a television set and the rise in streaming services such as Netflix, it can be argued that the popularity of going to the cinema to see a film is decreasing. Even with this change in the way we consume media, there are still films that hit the billion dollar box office mark - a definite hallmark of a film's success. <br>\n",
    "<br>\n",
    "What else determines a film's success? Do the director, actors and production companies play a part in how a film will perform at the box office? Can we predict the success of a film based on this?"
   ]
  },
  {
   "cell_type": "markdown",
   "metadata": {},
   "source": [
    "# Datasets\n",
    "\n",
    "We used 2 datasets in this analysis:\n",
    "* [IMDB dataset](https://data.world/popculture/imdb-5000-movie-dataset)\n",
    "    * This dataset contains 28 variables for 5043 movies, spanning across 100 years in 66 countries. \n",
    "* **Can somebody please add the second dataset here - I don't know which one we ended up using!**"
   ]
  },
  {
   "cell_type": "markdown",
   "metadata": {},
   "source": [
    "## Import statements"
   ]
  },
  {
   "cell_type": "code",
   "execution_count": 2,
   "metadata": {},
   "outputs": [],
   "source": [
    "import pandas as pd\n",
    "import numpy as np\n",
    "import seaborn as sns\n",
    "import matplotlib.pyplot as plt\n",
    "from sklearn.model_selection import train_test_split\n",
    "from sklearn.metrics import accuracy_score, confusion_matrix\n",
    "from sklearn.feature_selection import RFE\n",
    "from sklearn.metrics import r2_score\n",
    "from sklearn.metrics import mean_absolute_error\n",
    "from sklearn.metrics import mean_squared_error\n",
    "\n",
    "%matplotlib inline\n",
    "import warnings\n",
    "warnings.simplefilter('ignore')\n",
    "from wordcloud import WordCloud"
   ]
  },
  {
   "cell_type": "markdown",
   "metadata": {},
   "source": [
    "## Creating a usable Dataframe\n",
    "\n",
    "With our data coming from two seperate sources, it was ideal to merge them into a single data set as they both contained the same films but had varying columns."
   ]
  },
  {
   "cell_type": "code",
   "execution_count": 3,
   "metadata": {},
   "outputs": [],
   "source": [
    "#First Dataset \n",
    "\n",
    "movie_data = pd.read_csv(\"data/movie_metadata.csv\")"
   ]
  },
  {
   "cell_type": "code",
   "execution_count": 4,
   "metadata": {},
   "outputs": [
    {
     "data": {
      "text/plain": [
       "(5043, 28)"
      ]
     },
     "execution_count": 4,
     "metadata": {},
     "output_type": "execute_result"
    }
   ],
   "source": [
    "movie_data.shape"
   ]
  },
  {
   "cell_type": "code",
   "execution_count": 5,
   "metadata": {},
   "outputs": [
    {
     "data": {
      "text/html": [
       "<div>\n",
       "<style scoped>\n",
       "    .dataframe tbody tr th:only-of-type {\n",
       "        vertical-align: middle;\n",
       "    }\n",
       "\n",
       "    .dataframe tbody tr th {\n",
       "        vertical-align: top;\n",
       "    }\n",
       "\n",
       "    .dataframe thead th {\n",
       "        text-align: right;\n",
       "    }\n",
       "</style>\n",
       "<table border=\"1\" class=\"dataframe\">\n",
       "  <thead>\n",
       "    <tr style=\"text-align: right;\">\n",
       "      <th></th>\n",
       "      <th>color</th>\n",
       "      <th>director_name</th>\n",
       "      <th>num_critic_for_reviews</th>\n",
       "      <th>duration</th>\n",
       "      <th>director_facebook_likes</th>\n",
       "      <th>actor_3_facebook_likes</th>\n",
       "      <th>actor_2_name</th>\n",
       "      <th>actor_1_facebook_likes</th>\n",
       "      <th>gross</th>\n",
       "      <th>genres</th>\n",
       "      <th>...</th>\n",
       "      <th>num_user_for_reviews</th>\n",
       "      <th>language</th>\n",
       "      <th>country</th>\n",
       "      <th>content_rating</th>\n",
       "      <th>budget</th>\n",
       "      <th>title_year</th>\n",
       "      <th>actor_2_facebook_likes</th>\n",
       "      <th>imdb_score</th>\n",
       "      <th>aspect_ratio</th>\n",
       "      <th>movie_facebook_likes</th>\n",
       "    </tr>\n",
       "  </thead>\n",
       "  <tbody>\n",
       "    <tr>\n",
       "      <td>0</td>\n",
       "      <td>Color</td>\n",
       "      <td>James Cameron</td>\n",
       "      <td>723.0</td>\n",
       "      <td>178.0</td>\n",
       "      <td>0.0</td>\n",
       "      <td>855.0</td>\n",
       "      <td>Joel David Moore</td>\n",
       "      <td>1000.0</td>\n",
       "      <td>760505847.0</td>\n",
       "      <td>Action|Adventure|Fantasy|Sci-Fi</td>\n",
       "      <td>...</td>\n",
       "      <td>3054.0</td>\n",
       "      <td>English</td>\n",
       "      <td>USA</td>\n",
       "      <td>PG-13</td>\n",
       "      <td>237000000.0</td>\n",
       "      <td>2009.0</td>\n",
       "      <td>936.0</td>\n",
       "      <td>7.9</td>\n",
       "      <td>1.78</td>\n",
       "      <td>33000</td>\n",
       "    </tr>\n",
       "    <tr>\n",
       "      <td>1</td>\n",
       "      <td>Color</td>\n",
       "      <td>Gore Verbinski</td>\n",
       "      <td>302.0</td>\n",
       "      <td>169.0</td>\n",
       "      <td>563.0</td>\n",
       "      <td>1000.0</td>\n",
       "      <td>Orlando Bloom</td>\n",
       "      <td>40000.0</td>\n",
       "      <td>309404152.0</td>\n",
       "      <td>Action|Adventure|Fantasy</td>\n",
       "      <td>...</td>\n",
       "      <td>1238.0</td>\n",
       "      <td>English</td>\n",
       "      <td>USA</td>\n",
       "      <td>PG-13</td>\n",
       "      <td>300000000.0</td>\n",
       "      <td>2007.0</td>\n",
       "      <td>5000.0</td>\n",
       "      <td>7.1</td>\n",
       "      <td>2.35</td>\n",
       "      <td>0</td>\n",
       "    </tr>\n",
       "    <tr>\n",
       "      <td>2</td>\n",
       "      <td>Color</td>\n",
       "      <td>Sam Mendes</td>\n",
       "      <td>602.0</td>\n",
       "      <td>148.0</td>\n",
       "      <td>0.0</td>\n",
       "      <td>161.0</td>\n",
       "      <td>Rory Kinnear</td>\n",
       "      <td>11000.0</td>\n",
       "      <td>200074175.0</td>\n",
       "      <td>Action|Adventure|Thriller</td>\n",
       "      <td>...</td>\n",
       "      <td>994.0</td>\n",
       "      <td>English</td>\n",
       "      <td>UK</td>\n",
       "      <td>PG-13</td>\n",
       "      <td>245000000.0</td>\n",
       "      <td>2015.0</td>\n",
       "      <td>393.0</td>\n",
       "      <td>6.8</td>\n",
       "      <td>2.35</td>\n",
       "      <td>85000</td>\n",
       "    </tr>\n",
       "    <tr>\n",
       "      <td>3</td>\n",
       "      <td>Color</td>\n",
       "      <td>Christopher Nolan</td>\n",
       "      <td>813.0</td>\n",
       "      <td>164.0</td>\n",
       "      <td>22000.0</td>\n",
       "      <td>23000.0</td>\n",
       "      <td>Christian Bale</td>\n",
       "      <td>27000.0</td>\n",
       "      <td>448130642.0</td>\n",
       "      <td>Action|Thriller</td>\n",
       "      <td>...</td>\n",
       "      <td>2701.0</td>\n",
       "      <td>English</td>\n",
       "      <td>USA</td>\n",
       "      <td>PG-13</td>\n",
       "      <td>250000000.0</td>\n",
       "      <td>2012.0</td>\n",
       "      <td>23000.0</td>\n",
       "      <td>8.5</td>\n",
       "      <td>2.35</td>\n",
       "      <td>164000</td>\n",
       "    </tr>\n",
       "    <tr>\n",
       "      <td>4</td>\n",
       "      <td>NaN</td>\n",
       "      <td>Doug Walker</td>\n",
       "      <td>NaN</td>\n",
       "      <td>NaN</td>\n",
       "      <td>131.0</td>\n",
       "      <td>NaN</td>\n",
       "      <td>Rob Walker</td>\n",
       "      <td>131.0</td>\n",
       "      <td>NaN</td>\n",
       "      <td>Documentary</td>\n",
       "      <td>...</td>\n",
       "      <td>NaN</td>\n",
       "      <td>NaN</td>\n",
       "      <td>NaN</td>\n",
       "      <td>NaN</td>\n",
       "      <td>NaN</td>\n",
       "      <td>NaN</td>\n",
       "      <td>12.0</td>\n",
       "      <td>7.1</td>\n",
       "      <td>NaN</td>\n",
       "      <td>0</td>\n",
       "    </tr>\n",
       "  </tbody>\n",
       "</table>\n",
       "<p>5 rows × 28 columns</p>\n",
       "</div>"
      ],
      "text/plain": [
       "   color      director_name  num_critic_for_reviews  duration  \\\n",
       "0  Color      James Cameron                   723.0     178.0   \n",
       "1  Color     Gore Verbinski                   302.0     169.0   \n",
       "2  Color         Sam Mendes                   602.0     148.0   \n",
       "3  Color  Christopher Nolan                   813.0     164.0   \n",
       "4    NaN        Doug Walker                     NaN       NaN   \n",
       "\n",
       "   director_facebook_likes  actor_3_facebook_likes      actor_2_name  \\\n",
       "0                      0.0                   855.0  Joel David Moore   \n",
       "1                    563.0                  1000.0     Orlando Bloom   \n",
       "2                      0.0                   161.0      Rory Kinnear   \n",
       "3                  22000.0                 23000.0    Christian Bale   \n",
       "4                    131.0                     NaN        Rob Walker   \n",
       "\n",
       "   actor_1_facebook_likes        gross                           genres  ...  \\\n",
       "0                  1000.0  760505847.0  Action|Adventure|Fantasy|Sci-Fi  ...   \n",
       "1                 40000.0  309404152.0         Action|Adventure|Fantasy  ...   \n",
       "2                 11000.0  200074175.0        Action|Adventure|Thriller  ...   \n",
       "3                 27000.0  448130642.0                  Action|Thriller  ...   \n",
       "4                   131.0          NaN                      Documentary  ...   \n",
       "\n",
       "  num_user_for_reviews language  country  content_rating       budget  \\\n",
       "0               3054.0  English      USA           PG-13  237000000.0   \n",
       "1               1238.0  English      USA           PG-13  300000000.0   \n",
       "2                994.0  English       UK           PG-13  245000000.0   \n",
       "3               2701.0  English      USA           PG-13  250000000.0   \n",
       "4                  NaN      NaN      NaN             NaN          NaN   \n",
       "\n",
       "   title_year actor_2_facebook_likes imdb_score  aspect_ratio  \\\n",
       "0      2009.0                  936.0        7.9          1.78   \n",
       "1      2007.0                 5000.0        7.1          2.35   \n",
       "2      2015.0                  393.0        6.8          2.35   \n",
       "3      2012.0                23000.0        8.5          2.35   \n",
       "4         NaN                   12.0        7.1           NaN   \n",
       "\n",
       "  movie_facebook_likes  \n",
       "0                33000  \n",
       "1                    0  \n",
       "2                85000  \n",
       "3               164000  \n",
       "4                    0  \n",
       "\n",
       "[5 rows x 28 columns]"
      ]
     },
     "execution_count": 5,
     "metadata": {},
     "output_type": "execute_result"
    }
   ],
   "source": [
    "movie_data.head()"
   ]
  },
  {
   "cell_type": "code",
   "execution_count": 6,
   "metadata": {},
   "outputs": [],
   "source": [
    "#Second Dataset \n",
    "movies = pd.read_csv(\"data/movies.csv\")"
   ]
  },
  {
   "cell_type": "code",
   "execution_count": 7,
   "metadata": {},
   "outputs": [
    {
     "data": {
      "text/plain": [
       "(212385, 14)"
      ]
     },
     "execution_count": 7,
     "metadata": {},
     "output_type": "execute_result"
    }
   ],
   "source": [
    "movies.shape"
   ]
  },
  {
   "cell_type": "code",
   "execution_count": 8,
   "metadata": {},
   "outputs": [
    {
     "data": {
      "text/html": [
       "<div>\n",
       "<style scoped>\n",
       "    .dataframe tbody tr th:only-of-type {\n",
       "        vertical-align: middle;\n",
       "    }\n",
       "\n",
       "    .dataframe tbody tr th {\n",
       "        vertical-align: top;\n",
       "    }\n",
       "\n",
       "    .dataframe thead th {\n",
       "        text-align: right;\n",
       "    }\n",
       "</style>\n",
       "<table border=\"1\" class=\"dataframe\">\n",
       "  <thead>\n",
       "    <tr style=\"text-align: right;\">\n",
       "      <th></th>\n",
       "      <th>id</th>\n",
       "      <th>budget</th>\n",
       "      <th>genres</th>\n",
       "      <th>imdb_id</th>\n",
       "      <th>original_language</th>\n",
       "      <th>original_title</th>\n",
       "      <th>popularity</th>\n",
       "      <th>production_companies</th>\n",
       "      <th>production_countries</th>\n",
       "      <th>release_date</th>\n",
       "      <th>revenue</th>\n",
       "      <th>title</th>\n",
       "      <th>vote_average</th>\n",
       "      <th>vote_count</th>\n",
       "    </tr>\n",
       "  </thead>\n",
       "  <tbody>\n",
       "    <tr>\n",
       "      <td>0</td>\n",
       "      <td>5</td>\n",
       "      <td>4000000</td>\n",
       "      <td>Crime|Comedy</td>\n",
       "      <td>tt0113101</td>\n",
       "      <td>en</td>\n",
       "      <td>Four Rooms</td>\n",
       "      <td>1.698</td>\n",
       "      <td>Miramax Films</td>\n",
       "      <td>United States of America</td>\n",
       "      <td>25-12-95</td>\n",
       "      <td>4300000</td>\n",
       "      <td>Four Rooms</td>\n",
       "      <td>6.5</td>\n",
       "      <td>485</td>\n",
       "    </tr>\n",
       "    <tr>\n",
       "      <td>1</td>\n",
       "      <td>6</td>\n",
       "      <td>0</td>\n",
       "      <td>Action|Thriller|Crime</td>\n",
       "      <td>tt0107286</td>\n",
       "      <td>en</td>\n",
       "      <td>Judgment Night</td>\n",
       "      <td>1.32287</td>\n",
       "      <td>Universal Pictures</td>\n",
       "      <td>Japan</td>\n",
       "      <td>15-10-93</td>\n",
       "      <td>12136938</td>\n",
       "      <td>Judgment Night</td>\n",
       "      <td>6.5</td>\n",
       "      <td>69</td>\n",
       "    </tr>\n",
       "    <tr>\n",
       "      <td>2</td>\n",
       "      <td>8</td>\n",
       "      <td>42000</td>\n",
       "      <td>Documentary</td>\n",
       "      <td>tt0825671</td>\n",
       "      <td>en</td>\n",
       "      <td>Life in Loops (A Megacities RMX)</td>\n",
       "      <td>0.054716</td>\n",
       "      <td>inLoops</td>\n",
       "      <td>Austria</td>\n",
       "      <td>01-01-06</td>\n",
       "      <td>0</td>\n",
       "      <td>Life in Loops (A Megacities RMX)</td>\n",
       "      <td>6.4</td>\n",
       "      <td>4</td>\n",
       "    </tr>\n",
       "    <tr>\n",
       "      <td>3</td>\n",
       "      <td>11</td>\n",
       "      <td>11000000</td>\n",
       "      <td>Adventure|Action|Science Fiction</td>\n",
       "      <td>tt0076759</td>\n",
       "      <td>en</td>\n",
       "      <td>Star Wars</td>\n",
       "      <td>10.492614</td>\n",
       "      <td>Lucasfilm</td>\n",
       "      <td>United States of America</td>\n",
       "      <td>25-05-77</td>\n",
       "      <td>775398007</td>\n",
       "      <td>Star Wars</td>\n",
       "      <td>8.0</td>\n",
       "      <td>6168</td>\n",
       "    </tr>\n",
       "    <tr>\n",
       "      <td>4</td>\n",
       "      <td>12</td>\n",
       "      <td>94000000</td>\n",
       "      <td>Animation|Family</td>\n",
       "      <td>tt0266543</td>\n",
       "      <td>en</td>\n",
       "      <td>Finding Nemo</td>\n",
       "      <td>9.915573</td>\n",
       "      <td>Pixar Animation Studios</td>\n",
       "      <td>United States of America</td>\n",
       "      <td>30-05-03</td>\n",
       "      <td>940335536</td>\n",
       "      <td>Finding Nemo</td>\n",
       "      <td>7.6</td>\n",
       "      <td>5531</td>\n",
       "    </tr>\n",
       "  </tbody>\n",
       "</table>\n",
       "</div>"
      ],
      "text/plain": [
       "   id    budget                            genres    imdb_id  \\\n",
       "0   5   4000000                      Crime|Comedy  tt0113101   \n",
       "1   6         0             Action|Thriller|Crime  tt0107286   \n",
       "2   8     42000                       Documentary  tt0825671   \n",
       "3  11  11000000  Adventure|Action|Science Fiction  tt0076759   \n",
       "4  12  94000000                  Animation|Family  tt0266543   \n",
       "\n",
       "  original_language                    original_title popularity  \\\n",
       "0                en                        Four Rooms      1.698   \n",
       "1                en                    Judgment Night    1.32287   \n",
       "2                en  Life in Loops (A Megacities RMX)   0.054716   \n",
       "3                en                         Star Wars  10.492614   \n",
       "4                en                      Finding Nemo   9.915573   \n",
       "\n",
       "      production_companies      production_countries release_date    revenue  \\\n",
       "0            Miramax Films  United States of America     25-12-95    4300000   \n",
       "1       Universal Pictures                     Japan     15-10-93   12136938   \n",
       "2                  inLoops                   Austria     01-01-06          0   \n",
       "3                Lucasfilm  United States of America     25-05-77  775398007   \n",
       "4  Pixar Animation Studios  United States of America     30-05-03  940335536   \n",
       "\n",
       "                              title  vote_average  vote_count  \n",
       "0                        Four Rooms           6.5         485  \n",
       "1                    Judgment Night           6.5          69  \n",
       "2  Life in Loops (A Megacities RMX)           6.4           4  \n",
       "3                         Star Wars           8.0        6168  \n",
       "4                      Finding Nemo           7.6        5531  "
      ]
     },
     "execution_count": 8,
     "metadata": {},
     "output_type": "execute_result"
    }
   ],
   "source": [
    "movies.head()"
   ]
  },
  {
   "cell_type": "code",
   "execution_count": 9,
   "metadata": {
    "scrolled": true
   },
   "outputs": [
    {
     "data": {
      "text/plain": [
       "<bound method IndexOpsMixin.tolist of Index(['id', 'budget', 'genres', 'imdb_id', 'original_language',\n",
       "       'original_title', 'popularity', 'production_companies',\n",
       "       'production_countries', 'release_date', 'revenue', 'title',\n",
       "       'vote_average', 'vote_count'],\n",
       "      dtype='object')>"
      ]
     },
     "execution_count": 9,
     "metadata": {},
     "output_type": "execute_result"
    }
   ],
   "source": [
    "movies.columns.tolist "
   ]
  },
  {
   "cell_type": "markdown",
   "metadata": {},
   "source": [
    "To easily join the data frames we first need to extract the `IMDB ID` from the movie link url in the first data frame."
   ]
  },
  {
   "cell_type": "code",
   "execution_count": 10,
   "metadata": {},
   "outputs": [
    {
     "name": "stdout",
     "output_type": "stream",
     "text": [
      "http://www.imdb.com/title/tt2379713/?ref_=fn_tt_tt_1\n"
     ]
    },
    {
     "data": {
      "text/plain": [
       "'tt2379713'"
      ]
     },
     "execution_count": 10,
     "metadata": {},
     "output_type": "execute_result"
    }
   ],
   "source": [
    "print(movie_data['movie_imdb_link'][2])\n",
    "test = movie_data['movie_imdb_link'][2].split('/')\n",
    "test[-2]"
   ]
  },
  {
   "cell_type": "code",
   "execution_count": 11,
   "metadata": {},
   "outputs": [
    {
     "data": {
      "text/plain": [
       "5043"
      ]
     },
     "execution_count": 11,
     "metadata": {},
     "output_type": "execute_result"
    }
   ],
   "source": [
    "len(movie_data['movie_imdb_link'])"
   ]
  },
  {
   "cell_type": "code",
   "execution_count": 12,
   "metadata": {},
   "outputs": [],
   "source": [
    "#get length of the col\n",
    "total_len = len(movie_data['movie_imdb_link'])\n",
    "values = []\n",
    "for i in range(total_len):\n",
    "    value = movie_data['movie_imdb_link'][i].split('/')[-2]\n",
    "    values.append(value)#split the string to obtain id\n",
    "movie_data['imdb_id'] = values #add the values in a new column"
   ]
  },
  {
   "cell_type": "code",
   "execution_count": 13,
   "metadata": {},
   "outputs": [
    {
     "data": {
      "text/html": [
       "<div>\n",
       "<style scoped>\n",
       "    .dataframe tbody tr th:only-of-type {\n",
       "        vertical-align: middle;\n",
       "    }\n",
       "\n",
       "    .dataframe tbody tr th {\n",
       "        vertical-align: top;\n",
       "    }\n",
       "\n",
       "    .dataframe thead th {\n",
       "        text-align: right;\n",
       "    }\n",
       "</style>\n",
       "<table border=\"1\" class=\"dataframe\">\n",
       "  <thead>\n",
       "    <tr style=\"text-align: right;\">\n",
       "      <th></th>\n",
       "      <th>imdb_id</th>\n",
       "      <th>movie_imdb_link</th>\n",
       "    </tr>\n",
       "  </thead>\n",
       "  <tbody>\n",
       "    <tr>\n",
       "      <td>0</td>\n",
       "      <td>tt0499549</td>\n",
       "      <td>http://www.imdb.com/title/tt0499549/?ref_=fn_t...</td>\n",
       "    </tr>\n",
       "    <tr>\n",
       "      <td>1</td>\n",
       "      <td>tt0449088</td>\n",
       "      <td>http://www.imdb.com/title/tt0449088/?ref_=fn_t...</td>\n",
       "    </tr>\n",
       "    <tr>\n",
       "      <td>2</td>\n",
       "      <td>tt2379713</td>\n",
       "      <td>http://www.imdb.com/title/tt2379713/?ref_=fn_t...</td>\n",
       "    </tr>\n",
       "    <tr>\n",
       "      <td>3</td>\n",
       "      <td>tt1345836</td>\n",
       "      <td>http://www.imdb.com/title/tt1345836/?ref_=fn_t...</td>\n",
       "    </tr>\n",
       "    <tr>\n",
       "      <td>4</td>\n",
       "      <td>tt5289954</td>\n",
       "      <td>http://www.imdb.com/title/tt5289954/?ref_=fn_t...</td>\n",
       "    </tr>\n",
       "    <tr>\n",
       "      <td>5</td>\n",
       "      <td>tt0401729</td>\n",
       "      <td>http://www.imdb.com/title/tt0401729/?ref_=fn_t...</td>\n",
       "    </tr>\n",
       "    <tr>\n",
       "      <td>6</td>\n",
       "      <td>tt0413300</td>\n",
       "      <td>http://www.imdb.com/title/tt0413300/?ref_=fn_t...</td>\n",
       "    </tr>\n",
       "    <tr>\n",
       "      <td>7</td>\n",
       "      <td>tt0398286</td>\n",
       "      <td>http://www.imdb.com/title/tt0398286/?ref_=fn_t...</td>\n",
       "    </tr>\n",
       "    <tr>\n",
       "      <td>8</td>\n",
       "      <td>tt2395427</td>\n",
       "      <td>http://www.imdb.com/title/tt2395427/?ref_=fn_t...</td>\n",
       "    </tr>\n",
       "    <tr>\n",
       "      <td>9</td>\n",
       "      <td>tt0417741</td>\n",
       "      <td>http://www.imdb.com/title/tt0417741/?ref_=fn_t...</td>\n",
       "    </tr>\n",
       "  </tbody>\n",
       "</table>\n",
       "</div>"
      ],
      "text/plain": [
       "     imdb_id                                    movie_imdb_link\n",
       "0  tt0499549  http://www.imdb.com/title/tt0499549/?ref_=fn_t...\n",
       "1  tt0449088  http://www.imdb.com/title/tt0449088/?ref_=fn_t...\n",
       "2  tt2379713  http://www.imdb.com/title/tt2379713/?ref_=fn_t...\n",
       "3  tt1345836  http://www.imdb.com/title/tt1345836/?ref_=fn_t...\n",
       "4  tt5289954  http://www.imdb.com/title/tt5289954/?ref_=fn_t...\n",
       "5  tt0401729  http://www.imdb.com/title/tt0401729/?ref_=fn_t...\n",
       "6  tt0413300  http://www.imdb.com/title/tt0413300/?ref_=fn_t...\n",
       "7  tt0398286  http://www.imdb.com/title/tt0398286/?ref_=fn_t...\n",
       "8  tt2395427  http://www.imdb.com/title/tt2395427/?ref_=fn_t...\n",
       "9  tt0417741  http://www.imdb.com/title/tt0417741/?ref_=fn_t..."
      ]
     },
     "execution_count": 13,
     "metadata": {},
     "output_type": "execute_result"
    }
   ],
   "source": [
    "#check that ID matches\n",
    "movie_data[['imdb_id','movie_imdb_link']].head(10)"
   ]
  },
  {
   "cell_type": "code",
   "execution_count": 14,
   "metadata": {},
   "outputs": [
    {
     "name": "stdout",
     "output_type": "stream",
     "text": [
      "Avatar \n"
     ]
    }
   ],
   "source": [
    "#example\n",
    "for index, row in movie_data.iterrows():\n",
    "    if row['imdb_id'] == 'tt0499549':\n",
    "        print(row['movie_title'])"
   ]
  },
  {
   "cell_type": "markdown",
   "metadata": {},
   "source": [
    "Now that we have the `IMDB ID` in both datasets, we can combine them into a single dataframe."
   ]
  },
  {
   "cell_type": "code",
   "execution_count": 15,
   "metadata": {},
   "outputs": [],
   "source": [
    "new_df = pd.merge(movies,movie_data,on='imdb_id')"
   ]
  },
  {
   "cell_type": "code",
   "execution_count": 16,
   "metadata": {},
   "outputs": [
    {
     "data": {
      "text/plain": [
       "(4594, 42)"
      ]
     },
     "execution_count": 16,
     "metadata": {},
     "output_type": "execute_result"
    }
   ],
   "source": [
    "new_df.shape"
   ]
  },
  {
   "cell_type": "code",
   "execution_count": 17,
   "metadata": {},
   "outputs": [
    {
     "data": {
      "text/plain": [
       "Index(['id', 'budget_x', 'genres_x', 'imdb_id', 'original_language',\n",
       "       'original_title', 'popularity', 'production_companies',\n",
       "       'production_countries', 'release_date', 'revenue', 'title',\n",
       "       'vote_average', 'vote_count', 'color', 'director_name',\n",
       "       'num_critic_for_reviews', 'duration', 'director_facebook_likes',\n",
       "       'actor_3_facebook_likes', 'actor_2_name', 'actor_1_facebook_likes',\n",
       "       'gross', 'genres_y', 'actor_1_name', 'movie_title', 'num_voted_users',\n",
       "       'cast_total_facebook_likes', 'actor_3_name', 'facenumber_in_poster',\n",
       "       'plot_keywords', 'movie_imdb_link', 'num_user_for_reviews', 'language',\n",
       "       'country', 'content_rating', 'budget_y', 'title_year',\n",
       "       'actor_2_facebook_likes', 'imdb_score', 'aspect_ratio',\n",
       "       'movie_facebook_likes'],\n",
       "      dtype='object')"
      ]
     },
     "execution_count": 17,
     "metadata": {},
     "output_type": "execute_result"
    }
   ],
   "source": [
    "new_df.columns"
   ]
  },
  {
   "cell_type": "code",
   "execution_count": 18,
   "metadata": {},
   "outputs": [
    {
     "data": {
      "text/html": [
       "<div>\n",
       "<style scoped>\n",
       "    .dataframe tbody tr th:only-of-type {\n",
       "        vertical-align: middle;\n",
       "    }\n",
       "\n",
       "    .dataframe tbody tr th {\n",
       "        vertical-align: top;\n",
       "    }\n",
       "\n",
       "    .dataframe thead th {\n",
       "        text-align: right;\n",
       "    }\n",
       "</style>\n",
       "<table border=\"1\" class=\"dataframe\">\n",
       "  <thead>\n",
       "    <tr style=\"text-align: right;\">\n",
       "      <th></th>\n",
       "      <th>id</th>\n",
       "      <th>budget_x</th>\n",
       "      <th>genres_x</th>\n",
       "      <th>imdb_id</th>\n",
       "      <th>original_language</th>\n",
       "      <th>original_title</th>\n",
       "      <th>popularity</th>\n",
       "      <th>production_companies</th>\n",
       "      <th>production_countries</th>\n",
       "      <th>release_date</th>\n",
       "      <th>...</th>\n",
       "      <th>num_user_for_reviews</th>\n",
       "      <th>language</th>\n",
       "      <th>country</th>\n",
       "      <th>content_rating</th>\n",
       "      <th>budget_y</th>\n",
       "      <th>title_year</th>\n",
       "      <th>actor_2_facebook_likes</th>\n",
       "      <th>imdb_score</th>\n",
       "      <th>aspect_ratio</th>\n",
       "      <th>movie_facebook_likes</th>\n",
       "    </tr>\n",
       "  </thead>\n",
       "  <tbody>\n",
       "    <tr>\n",
       "      <td>0</td>\n",
       "      <td>5</td>\n",
       "      <td>4000000</td>\n",
       "      <td>Crime|Comedy</td>\n",
       "      <td>tt0113101</td>\n",
       "      <td>en</td>\n",
       "      <td>Four Rooms</td>\n",
       "      <td>1.698</td>\n",
       "      <td>Miramax Films</td>\n",
       "      <td>United States of America</td>\n",
       "      <td>25-12-95</td>\n",
       "      <td>...</td>\n",
       "      <td>177.0</td>\n",
       "      <td>English</td>\n",
       "      <td>USA</td>\n",
       "      <td>R</td>\n",
       "      <td>4000000.0</td>\n",
       "      <td>1995.0</td>\n",
       "      <td>975.0</td>\n",
       "      <td>6.7</td>\n",
       "      <td>1.85</td>\n",
       "      <td>0</td>\n",
       "    </tr>\n",
       "    <tr>\n",
       "      <td>1</td>\n",
       "      <td>11</td>\n",
       "      <td>11000000</td>\n",
       "      <td>Adventure|Action|Science Fiction</td>\n",
       "      <td>tt0076759</td>\n",
       "      <td>en</td>\n",
       "      <td>Star Wars</td>\n",
       "      <td>10.492614</td>\n",
       "      <td>Lucasfilm</td>\n",
       "      <td>United States of America</td>\n",
       "      <td>25-05-77</td>\n",
       "      <td>...</td>\n",
       "      <td>1470.0</td>\n",
       "      <td>English</td>\n",
       "      <td>USA</td>\n",
       "      <td>PG</td>\n",
       "      <td>11000000.0</td>\n",
       "      <td>1977.0</td>\n",
       "      <td>1000.0</td>\n",
       "      <td>8.7</td>\n",
       "      <td>2.35</td>\n",
       "      <td>33000</td>\n",
       "    </tr>\n",
       "    <tr>\n",
       "      <td>2</td>\n",
       "      <td>12</td>\n",
       "      <td>94000000</td>\n",
       "      <td>Animation|Family</td>\n",
       "      <td>tt0266543</td>\n",
       "      <td>en</td>\n",
       "      <td>Finding Nemo</td>\n",
       "      <td>9.915573</td>\n",
       "      <td>Pixar Animation Studios</td>\n",
       "      <td>United States of America</td>\n",
       "      <td>30-05-03</td>\n",
       "      <td>...</td>\n",
       "      <td>866.0</td>\n",
       "      <td>English</td>\n",
       "      <td>USA</td>\n",
       "      <td>G</td>\n",
       "      <td>94000000.0</td>\n",
       "      <td>2003.0</td>\n",
       "      <td>939.0</td>\n",
       "      <td>8.2</td>\n",
       "      <td>1.85</td>\n",
       "      <td>11000</td>\n",
       "    </tr>\n",
       "    <tr>\n",
       "      <td>3</td>\n",
       "      <td>13</td>\n",
       "      <td>55000000</td>\n",
       "      <td>Comedy|Drama|Romance</td>\n",
       "      <td>tt0109830</td>\n",
       "      <td>en</td>\n",
       "      <td>Forrest Gump</td>\n",
       "      <td>10.351236</td>\n",
       "      <td>Paramount Pictures</td>\n",
       "      <td>United States of America</td>\n",
       "      <td>06-07-94</td>\n",
       "      <td>...</td>\n",
       "      <td>1398.0</td>\n",
       "      <td>English</td>\n",
       "      <td>USA</td>\n",
       "      <td>PG-13</td>\n",
       "      <td>55000000.0</td>\n",
       "      <td>1994.0</td>\n",
       "      <td>294.0</td>\n",
       "      <td>8.8</td>\n",
       "      <td>2.35</td>\n",
       "      <td>59000</td>\n",
       "    </tr>\n",
       "    <tr>\n",
       "      <td>4</td>\n",
       "      <td>14</td>\n",
       "      <td>15000000</td>\n",
       "      <td>Drama</td>\n",
       "      <td>tt0169547</td>\n",
       "      <td>en</td>\n",
       "      <td>American Beauty</td>\n",
       "      <td>8.191009</td>\n",
       "      <td>DreamWorks SKG</td>\n",
       "      <td>United States of America</td>\n",
       "      <td>15-09-99</td>\n",
       "      <td>...</td>\n",
       "      <td>2715.0</td>\n",
       "      <td>English</td>\n",
       "      <td>USA</td>\n",
       "      <td>R</td>\n",
       "      <td>15000000.0</td>\n",
       "      <td>1999.0</td>\n",
       "      <td>828.0</td>\n",
       "      <td>8.4</td>\n",
       "      <td>2.35</td>\n",
       "      <td>22000</td>\n",
       "    </tr>\n",
       "  </tbody>\n",
       "</table>\n",
       "<p>5 rows × 42 columns</p>\n",
       "</div>"
      ],
      "text/plain": [
       "   id  budget_x                          genres_x    imdb_id  \\\n",
       "0   5   4000000                      Crime|Comedy  tt0113101   \n",
       "1  11  11000000  Adventure|Action|Science Fiction  tt0076759   \n",
       "2  12  94000000                  Animation|Family  tt0266543   \n",
       "3  13  55000000              Comedy|Drama|Romance  tt0109830   \n",
       "4  14  15000000                             Drama  tt0169547   \n",
       "\n",
       "  original_language   original_title popularity     production_companies  \\\n",
       "0                en       Four Rooms      1.698            Miramax Films   \n",
       "1                en        Star Wars  10.492614                Lucasfilm   \n",
       "2                en     Finding Nemo   9.915573  Pixar Animation Studios   \n",
       "3                en     Forrest Gump  10.351236       Paramount Pictures   \n",
       "4                en  American Beauty   8.191009           DreamWorks SKG   \n",
       "\n",
       "       production_countries release_date  ...  num_user_for_reviews language  \\\n",
       "0  United States of America     25-12-95  ...                 177.0  English   \n",
       "1  United States of America     25-05-77  ...                1470.0  English   \n",
       "2  United States of America     30-05-03  ...                 866.0  English   \n",
       "3  United States of America     06-07-94  ...                1398.0  English   \n",
       "4  United States of America     15-09-99  ...                2715.0  English   \n",
       "\n",
       "   country  content_rating    budget_y title_year  actor_2_facebook_likes  \\\n",
       "0      USA               R   4000000.0     1995.0                   975.0   \n",
       "1      USA              PG  11000000.0     1977.0                  1000.0   \n",
       "2      USA               G  94000000.0     2003.0                   939.0   \n",
       "3      USA           PG-13  55000000.0     1994.0                   294.0   \n",
       "4      USA               R  15000000.0     1999.0                   828.0   \n",
       "\n",
       "   imdb_score  aspect_ratio  movie_facebook_likes  \n",
       "0         6.7          1.85                     0  \n",
       "1         8.7          2.35                 33000  \n",
       "2         8.2          1.85                 11000  \n",
       "3         8.8          2.35                 59000  \n",
       "4         8.4          2.35                 22000  \n",
       "\n",
       "[5 rows x 42 columns]"
      ]
     },
     "execution_count": 18,
     "metadata": {},
     "output_type": "execute_result"
    }
   ],
   "source": [
    "new_df.head()"
   ]
  },
  {
   "cell_type": "markdown",
   "metadata": {},
   "source": [
    "# Dropping Irrelevant Columns\n",
    "\n",
    "There are a number of columns in our merged dataframe that are duplicate or will not provide anything of use in our analysis so they will be dropped."
   ]
  },
  {
   "cell_type": "code",
   "execution_count": 19,
   "metadata": {},
   "outputs": [],
   "source": [
    "new_df= new_df.drop(['id', 'title','original_language', 'popularity', 'vote_count', 'color', 'num_critic_for_reviews', 'duration', \n",
    "                     'num_voted_users', 'cast_total_facebook_likes', 'facenumber_in_poster', 'plot_keywords', 'movie_imdb_link', \n",
    "                     'num_user_for_reviews', 'content_rating', 'aspect_ratio', 'original_title'], axis=1) "
   ]
  },
  {
   "cell_type": "code",
   "execution_count": 20,
   "metadata": {},
   "outputs": [
    {
     "data": {
      "text/plain": [
       "Index(['budget_x', 'genres_x', 'imdb_id', 'production_companies',\n",
       "       'production_countries', 'release_date', 'revenue', 'vote_average',\n",
       "       'director_name', 'director_facebook_likes', 'actor_3_facebook_likes',\n",
       "       'actor_2_name', 'actor_1_facebook_likes', 'gross', 'genres_y',\n",
       "       'actor_1_name', 'movie_title', 'actor_3_name', 'language', 'country',\n",
       "       'budget_y', 'title_year', 'actor_2_facebook_likes', 'imdb_score',\n",
       "       'movie_facebook_likes'],\n",
       "      dtype='object')"
      ]
     },
     "execution_count": 20,
     "metadata": {},
     "output_type": "execute_result"
    }
   ],
   "source": [
    "new_df.columns"
   ]
  },
  {
   "cell_type": "code",
   "execution_count": 21,
   "metadata": {},
   "outputs": [
    {
     "data": {
      "text/plain": [
       "(4594, 25)"
      ]
     },
     "execution_count": 21,
     "metadata": {},
     "output_type": "execute_result"
    }
   ],
   "source": [
    "new_df.shape"
   ]
  },
  {
   "cell_type": "code",
   "execution_count": 22,
   "metadata": {},
   "outputs": [
    {
     "data": {
      "text/html": [
       "<div>\n",
       "<style scoped>\n",
       "    .dataframe tbody tr th:only-of-type {\n",
       "        vertical-align: middle;\n",
       "    }\n",
       "\n",
       "    .dataframe tbody tr th {\n",
       "        vertical-align: top;\n",
       "    }\n",
       "\n",
       "    .dataframe thead th {\n",
       "        text-align: right;\n",
       "    }\n",
       "</style>\n",
       "<table border=\"1\" class=\"dataframe\">\n",
       "  <thead>\n",
       "    <tr style=\"text-align: right;\">\n",
       "      <th></th>\n",
       "      <th>budget_x</th>\n",
       "      <th>genres_x</th>\n",
       "      <th>imdb_id</th>\n",
       "      <th>production_companies</th>\n",
       "      <th>production_countries</th>\n",
       "      <th>release_date</th>\n",
       "      <th>revenue</th>\n",
       "      <th>vote_average</th>\n",
       "      <th>director_name</th>\n",
       "      <th>director_facebook_likes</th>\n",
       "      <th>...</th>\n",
       "      <th>actor_1_name</th>\n",
       "      <th>movie_title</th>\n",
       "      <th>actor_3_name</th>\n",
       "      <th>language</th>\n",
       "      <th>country</th>\n",
       "      <th>budget_y</th>\n",
       "      <th>title_year</th>\n",
       "      <th>actor_2_facebook_likes</th>\n",
       "      <th>imdb_score</th>\n",
       "      <th>movie_facebook_likes</th>\n",
       "    </tr>\n",
       "  </thead>\n",
       "  <tbody>\n",
       "    <tr>\n",
       "      <td>0</td>\n",
       "      <td>4000000</td>\n",
       "      <td>Crime|Comedy</td>\n",
       "      <td>tt0113101</td>\n",
       "      <td>Miramax Films</td>\n",
       "      <td>United States of America</td>\n",
       "      <td>25-12-95</td>\n",
       "      <td>4300000</td>\n",
       "      <td>6.5</td>\n",
       "      <td>Allison Anders</td>\n",
       "      <td>99.0</td>\n",
       "      <td>...</td>\n",
       "      <td>Salma Hayek</td>\n",
       "      <td>Four Rooms</td>\n",
       "      <td>Lili Taylor</td>\n",
       "      <td>English</td>\n",
       "      <td>USA</td>\n",
       "      <td>4000000.0</td>\n",
       "      <td>1995.0</td>\n",
       "      <td>975.0</td>\n",
       "      <td>6.7</td>\n",
       "      <td>0</td>\n",
       "    </tr>\n",
       "    <tr>\n",
       "      <td>1</td>\n",
       "      <td>11000000</td>\n",
       "      <td>Adventure|Action|Science Fiction</td>\n",
       "      <td>tt0076759</td>\n",
       "      <td>Lucasfilm</td>\n",
       "      <td>United States of America</td>\n",
       "      <td>25-05-77</td>\n",
       "      <td>775398007</td>\n",
       "      <td>8.0</td>\n",
       "      <td>George Lucas</td>\n",
       "      <td>0.0</td>\n",
       "      <td>...</td>\n",
       "      <td>Harrison Ford</td>\n",
       "      <td>Star Wars: Episode IV - A New Hope</td>\n",
       "      <td>Kenny Baker</td>\n",
       "      <td>English</td>\n",
       "      <td>USA</td>\n",
       "      <td>11000000.0</td>\n",
       "      <td>1977.0</td>\n",
       "      <td>1000.0</td>\n",
       "      <td>8.7</td>\n",
       "      <td>33000</td>\n",
       "    </tr>\n",
       "    <tr>\n",
       "      <td>2</td>\n",
       "      <td>94000000</td>\n",
       "      <td>Animation|Family</td>\n",
       "      <td>tt0266543</td>\n",
       "      <td>Pixar Animation Studios</td>\n",
       "      <td>United States of America</td>\n",
       "      <td>30-05-03</td>\n",
       "      <td>940335536</td>\n",
       "      <td>7.6</td>\n",
       "      <td>Andrew Stanton</td>\n",
       "      <td>475.0</td>\n",
       "      <td>...</td>\n",
       "      <td>Alexander Gould</td>\n",
       "      <td>Finding Nemo</td>\n",
       "      <td>Brad Garrett</td>\n",
       "      <td>English</td>\n",
       "      <td>USA</td>\n",
       "      <td>94000000.0</td>\n",
       "      <td>2003.0</td>\n",
       "      <td>939.0</td>\n",
       "      <td>8.2</td>\n",
       "      <td>11000</td>\n",
       "    </tr>\n",
       "    <tr>\n",
       "      <td>3</td>\n",
       "      <td>55000000</td>\n",
       "      <td>Comedy|Drama|Romance</td>\n",
       "      <td>tt0109830</td>\n",
       "      <td>Paramount Pictures</td>\n",
       "      <td>United States of America</td>\n",
       "      <td>06-07-94</td>\n",
       "      <td>677945399</td>\n",
       "      <td>8.2</td>\n",
       "      <td>Robert Zemeckis</td>\n",
       "      <td>0.0</td>\n",
       "      <td>...</td>\n",
       "      <td>Tom Hanks</td>\n",
       "      <td>Forrest Gump</td>\n",
       "      <td>Sam Anderson</td>\n",
       "      <td>English</td>\n",
       "      <td>USA</td>\n",
       "      <td>55000000.0</td>\n",
       "      <td>1994.0</td>\n",
       "      <td>294.0</td>\n",
       "      <td>8.8</td>\n",
       "      <td>59000</td>\n",
       "    </tr>\n",
       "    <tr>\n",
       "      <td>4</td>\n",
       "      <td>15000000</td>\n",
       "      <td>Drama</td>\n",
       "      <td>tt0169547</td>\n",
       "      <td>DreamWorks SKG</td>\n",
       "      <td>United States of America</td>\n",
       "      <td>15-09-99</td>\n",
       "      <td>356296601</td>\n",
       "      <td>7.9</td>\n",
       "      <td>Sam Mendes</td>\n",
       "      <td>0.0</td>\n",
       "      <td>...</td>\n",
       "      <td>Kevin Spacey</td>\n",
       "      <td>American Beauty</td>\n",
       "      <td>Ara Celi</td>\n",
       "      <td>English</td>\n",
       "      <td>USA</td>\n",
       "      <td>15000000.0</td>\n",
       "      <td>1999.0</td>\n",
       "      <td>828.0</td>\n",
       "      <td>8.4</td>\n",
       "      <td>22000</td>\n",
       "    </tr>\n",
       "  </tbody>\n",
       "</table>\n",
       "<p>5 rows × 25 columns</p>\n",
       "</div>"
      ],
      "text/plain": [
       "   budget_x                          genres_x    imdb_id  \\\n",
       "0   4000000                      Crime|Comedy  tt0113101   \n",
       "1  11000000  Adventure|Action|Science Fiction  tt0076759   \n",
       "2  94000000                  Animation|Family  tt0266543   \n",
       "3  55000000              Comedy|Drama|Romance  tt0109830   \n",
       "4  15000000                             Drama  tt0169547   \n",
       "\n",
       "      production_companies      production_countries release_date    revenue  \\\n",
       "0            Miramax Films  United States of America     25-12-95    4300000   \n",
       "1                Lucasfilm  United States of America     25-05-77  775398007   \n",
       "2  Pixar Animation Studios  United States of America     30-05-03  940335536   \n",
       "3       Paramount Pictures  United States of America     06-07-94  677945399   \n",
       "4           DreamWorks SKG  United States of America     15-09-99  356296601   \n",
       "\n",
       "   vote_average    director_name  director_facebook_likes  ...  \\\n",
       "0           6.5   Allison Anders                     99.0  ...   \n",
       "1           8.0     George Lucas                      0.0  ...   \n",
       "2           7.6   Andrew Stanton                    475.0  ...   \n",
       "3           8.2  Robert Zemeckis                      0.0  ...   \n",
       "4           7.9       Sam Mendes                      0.0  ...   \n",
       "\n",
       "      actor_1_name                          movie_title  actor_3_name  \\\n",
       "0      Salma Hayek                          Four Rooms    Lili Taylor   \n",
       "1    Harrison Ford  Star Wars: Episode IV - A New Hope    Kenny Baker   \n",
       "2  Alexander Gould                        Finding Nemo   Brad Garrett   \n",
       "3        Tom Hanks                        Forrest Gump   Sam Anderson   \n",
       "4     Kevin Spacey                     American Beauty       Ara Celi   \n",
       "\n",
       "   language country    budget_y title_year actor_2_facebook_likes imdb_score  \\\n",
       "0   English     USA   4000000.0     1995.0                  975.0        6.7   \n",
       "1   English     USA  11000000.0     1977.0                 1000.0        8.7   \n",
       "2   English     USA  94000000.0     2003.0                  939.0        8.2   \n",
       "3   English     USA  55000000.0     1994.0                  294.0        8.8   \n",
       "4   English     USA  15000000.0     1999.0                  828.0        8.4   \n",
       "\n",
       "  movie_facebook_likes  \n",
       "0                    0  \n",
       "1                33000  \n",
       "2                11000  \n",
       "3                59000  \n",
       "4                22000  \n",
       "\n",
       "[5 rows x 25 columns]"
      ]
     },
     "execution_count": 22,
     "metadata": {},
     "output_type": "execute_result"
    }
   ],
   "source": [
    "new_df.head()"
   ]
  },
  {
   "cell_type": "markdown",
   "metadata": {},
   "source": [
    "## Reformating the Dataframe"
   ]
  },
  {
   "cell_type": "code",
   "execution_count": 56,
   "metadata": {},
   "outputs": [],
   "source": [
    "#Reordering columns for easy reading\n",
    "sequence = ['imdb_id', 'movie_title','title_year','budget_x', 'genres_x',  'production_companies',\n",
    "       'production_countries', 'release_date', 'revenue', \n",
    "       'vote_average', 'director_name', 'director_facebook_likes',\n",
    "       'actor_3_facebook_likes', 'actor_2_name', 'actor_1_facebook_likes',\n",
    "       'gross', 'genres_y', 'actor_1_name',  'actor_3_name',\n",
    "       'language', 'country', 'budget_y', \n",
    "       'actor_2_facebook_likes', 'imdb_score', 'movie_facebook_likes']\n",
    "new_df = new_df.reindex(columns=sequence)"
   ]
  },
  {
   "cell_type": "code",
   "execution_count": 57,
   "metadata": {},
   "outputs": [
    {
     "data": {
      "text/html": [
       "<div>\n",
       "<style scoped>\n",
       "    .dataframe tbody tr th:only-of-type {\n",
       "        vertical-align: middle;\n",
       "    }\n",
       "\n",
       "    .dataframe tbody tr th {\n",
       "        vertical-align: top;\n",
       "    }\n",
       "\n",
       "    .dataframe thead th {\n",
       "        text-align: right;\n",
       "    }\n",
       "</style>\n",
       "<table border=\"1\" class=\"dataframe\">\n",
       "  <thead>\n",
       "    <tr style=\"text-align: right;\">\n",
       "      <th></th>\n",
       "      <th>imdb_id</th>\n",
       "      <th>movie_title</th>\n",
       "      <th>title_year</th>\n",
       "      <th>budget_x</th>\n",
       "      <th>genres_x</th>\n",
       "      <th>production_companies</th>\n",
       "      <th>production_countries</th>\n",
       "      <th>release_date</th>\n",
       "      <th>revenue</th>\n",
       "      <th>vote_average</th>\n",
       "      <th>...</th>\n",
       "      <th>gross</th>\n",
       "      <th>genres_y</th>\n",
       "      <th>actor_1_name</th>\n",
       "      <th>actor_3_name</th>\n",
       "      <th>language</th>\n",
       "      <th>country</th>\n",
       "      <th>budget_y</th>\n",
       "      <th>actor_2_facebook_likes</th>\n",
       "      <th>imdb_score</th>\n",
       "      <th>movie_facebook_likes</th>\n",
       "    </tr>\n",
       "  </thead>\n",
       "  <tbody>\n",
       "    <tr>\n",
       "      <td>0</td>\n",
       "      <td>tt0113101</td>\n",
       "      <td>Four Rooms</td>\n",
       "      <td>1995.0</td>\n",
       "      <td>4000000</td>\n",
       "      <td>Crime|Comedy</td>\n",
       "      <td>Miramax Films</td>\n",
       "      <td>United States of America</td>\n",
       "      <td>25-12-95</td>\n",
       "      <td>4300000</td>\n",
       "      <td>6.5</td>\n",
       "      <td>...</td>\n",
       "      <td>4301331.0</td>\n",
       "      <td>Comedy|Fantasy</td>\n",
       "      <td>Salma Hayek</td>\n",
       "      <td>Lili Taylor</td>\n",
       "      <td>English</td>\n",
       "      <td>USA</td>\n",
       "      <td>4000000.0</td>\n",
       "      <td>975.0</td>\n",
       "      <td>6.7</td>\n",
       "      <td>0</td>\n",
       "    </tr>\n",
       "    <tr>\n",
       "      <td>1</td>\n",
       "      <td>tt0076759</td>\n",
       "      <td>Star Wars: Episode IV - A New Hope</td>\n",
       "      <td>1977.0</td>\n",
       "      <td>11000000</td>\n",
       "      <td>Adventure|Action|Science Fiction</td>\n",
       "      <td>Lucasfilm</td>\n",
       "      <td>United States of America</td>\n",
       "      <td>25-05-77</td>\n",
       "      <td>775398007</td>\n",
       "      <td>8.0</td>\n",
       "      <td>...</td>\n",
       "      <td>460935665.0</td>\n",
       "      <td>Action|Adventure|Fantasy|Sci-Fi</td>\n",
       "      <td>Harrison Ford</td>\n",
       "      <td>Kenny Baker</td>\n",
       "      <td>English</td>\n",
       "      <td>USA</td>\n",
       "      <td>11000000.0</td>\n",
       "      <td>1000.0</td>\n",
       "      <td>8.7</td>\n",
       "      <td>33000</td>\n",
       "    </tr>\n",
       "    <tr>\n",
       "      <td>2</td>\n",
       "      <td>tt0266543</td>\n",
       "      <td>Finding Nemo</td>\n",
       "      <td>2003.0</td>\n",
       "      <td>94000000</td>\n",
       "      <td>Animation|Family</td>\n",
       "      <td>Pixar Animation Studios</td>\n",
       "      <td>United States of America</td>\n",
       "      <td>30-05-03</td>\n",
       "      <td>940335536</td>\n",
       "      <td>7.6</td>\n",
       "      <td>...</td>\n",
       "      <td>380838870.0</td>\n",
       "      <td>Adventure|Animation|Comedy|Family</td>\n",
       "      <td>Alexander Gould</td>\n",
       "      <td>Brad Garrett</td>\n",
       "      <td>English</td>\n",
       "      <td>USA</td>\n",
       "      <td>94000000.0</td>\n",
       "      <td>939.0</td>\n",
       "      <td>8.2</td>\n",
       "      <td>11000</td>\n",
       "    </tr>\n",
       "    <tr>\n",
       "      <td>3</td>\n",
       "      <td>tt0109830</td>\n",
       "      <td>Forrest Gump</td>\n",
       "      <td>1994.0</td>\n",
       "      <td>55000000</td>\n",
       "      <td>Comedy|Drama|Romance</td>\n",
       "      <td>Paramount Pictures</td>\n",
       "      <td>United States of America</td>\n",
       "      <td>06-07-94</td>\n",
       "      <td>677945399</td>\n",
       "      <td>8.2</td>\n",
       "      <td>...</td>\n",
       "      <td>329691196.0</td>\n",
       "      <td>Comedy|Drama</td>\n",
       "      <td>Tom Hanks</td>\n",
       "      <td>Sam Anderson</td>\n",
       "      <td>English</td>\n",
       "      <td>USA</td>\n",
       "      <td>55000000.0</td>\n",
       "      <td>294.0</td>\n",
       "      <td>8.8</td>\n",
       "      <td>59000</td>\n",
       "    </tr>\n",
       "    <tr>\n",
       "      <td>4</td>\n",
       "      <td>tt0169547</td>\n",
       "      <td>American Beauty</td>\n",
       "      <td>1999.0</td>\n",
       "      <td>15000000</td>\n",
       "      <td>Drama</td>\n",
       "      <td>DreamWorks SKG</td>\n",
       "      <td>United States of America</td>\n",
       "      <td>15-09-99</td>\n",
       "      <td>356296601</td>\n",
       "      <td>7.9</td>\n",
       "      <td>...</td>\n",
       "      <td>130058047.0</td>\n",
       "      <td>Drama</td>\n",
       "      <td>Kevin Spacey</td>\n",
       "      <td>Ara Celi</td>\n",
       "      <td>English</td>\n",
       "      <td>USA</td>\n",
       "      <td>15000000.0</td>\n",
       "      <td>828.0</td>\n",
       "      <td>8.4</td>\n",
       "      <td>22000</td>\n",
       "    </tr>\n",
       "  </tbody>\n",
       "</table>\n",
       "<p>5 rows × 25 columns</p>\n",
       "</div>"
      ],
      "text/plain": [
       "     imdb_id                          movie_title  title_year  budget_x  \\\n",
       "0  tt0113101                          Four Rooms       1995.0   4000000   \n",
       "1  tt0076759  Star Wars: Episode IV - A New Hope       1977.0  11000000   \n",
       "2  tt0266543                        Finding Nemo       2003.0  94000000   \n",
       "3  tt0109830                        Forrest Gump       1994.0  55000000   \n",
       "4  tt0169547                     American Beauty       1999.0  15000000   \n",
       "\n",
       "                           genres_x     production_companies  \\\n",
       "0                      Crime|Comedy            Miramax Films   \n",
       "1  Adventure|Action|Science Fiction                Lucasfilm   \n",
       "2                  Animation|Family  Pixar Animation Studios   \n",
       "3              Comedy|Drama|Romance       Paramount Pictures   \n",
       "4                             Drama           DreamWorks SKG   \n",
       "\n",
       "       production_countries release_date    revenue  vote_average  ...  \\\n",
       "0  United States of America     25-12-95    4300000           6.5  ...   \n",
       "1  United States of America     25-05-77  775398007           8.0  ...   \n",
       "2  United States of America     30-05-03  940335536           7.6  ...   \n",
       "3  United States of America     06-07-94  677945399           8.2  ...   \n",
       "4  United States of America     15-09-99  356296601           7.9  ...   \n",
       "\n",
       "         gross                           genres_y     actor_1_name  \\\n",
       "0    4301331.0                     Comedy|Fantasy      Salma Hayek   \n",
       "1  460935665.0    Action|Adventure|Fantasy|Sci-Fi    Harrison Ford   \n",
       "2  380838870.0  Adventure|Animation|Comedy|Family  Alexander Gould   \n",
       "3  329691196.0                       Comedy|Drama        Tom Hanks   \n",
       "4  130058047.0                              Drama     Kevin Spacey   \n",
       "\n",
       "   actor_3_name  language  country    budget_y actor_2_facebook_likes  \\\n",
       "0   Lili Taylor   English      USA   4000000.0                  975.0   \n",
       "1   Kenny Baker   English      USA  11000000.0                 1000.0   \n",
       "2  Brad Garrett   English      USA  94000000.0                  939.0   \n",
       "3  Sam Anderson   English      USA  55000000.0                  294.0   \n",
       "4      Ara Celi   English      USA  15000000.0                  828.0   \n",
       "\n",
       "  imdb_score movie_facebook_likes  \n",
       "0        6.7                    0  \n",
       "1        8.7                33000  \n",
       "2        8.2                11000  \n",
       "3        8.8                59000  \n",
       "4        8.4                22000  \n",
       "\n",
       "[5 rows x 25 columns]"
      ]
     },
     "execution_count": 57,
     "metadata": {},
     "output_type": "execute_result"
    }
   ],
   "source": [
    "new_df.head()"
   ]
  },
  {
   "cell_type": "code",
   "execution_count": 58,
   "metadata": {
    "scrolled": false
   },
   "outputs": [
    {
     "data": {
      "text/plain": [
       "(3683, 25)"
      ]
     },
     "execution_count": 58,
     "metadata": {},
     "output_type": "execute_result"
    }
   ],
   "source": [
    "#Dropping any rows that had missing/NaN data in order for us to be able to change the data types\n",
    "clean_df = new_df.dropna()\n",
    "\n",
    "clean_df.shape"
   ]
  },
  {
   "cell_type": "code",
   "execution_count": 59,
   "metadata": {},
   "outputs": [
    {
     "data": {
      "text/plain": [
       "imdb_id                     object\n",
       "movie_title                 object\n",
       "title_year                   int32\n",
       "budget_x                     int64\n",
       "genres_x                    object\n",
       "production_companies        object\n",
       "production_countries        object\n",
       "release_date                object\n",
       "revenue                      int64\n",
       "vote_average               float64\n",
       "director_name               object\n",
       "director_facebook_likes      int32\n",
       "actor_3_facebook_likes       int32\n",
       "actor_2_name                object\n",
       "actor_1_facebook_likes       int32\n",
       "gross                        int32\n",
       "genres_y                    object\n",
       "actor_1_name                object\n",
       "actor_3_name                object\n",
       "language                    object\n",
       "country                     object\n",
       "budget_y                     int32\n",
       "actor_2_facebook_likes     float64\n",
       "imdb_score                 float64\n",
       "movie_facebook_likes         int64\n",
       "dtype: object"
      ]
     },
     "execution_count": 59,
     "metadata": {},
     "output_type": "execute_result"
    }
   ],
   "source": [
    "#Converting columns that had floating point data types to integers\n",
    "clean_df.astype({'title_year': 'int32', 'budget_y': 'int32', 'gross': 'int32','director_facebook_likes': 'int32', 'actor_3_facebook_likes' : 'int32', 'actor_1_facebook_likes' : 'int32'}).dtypes"
   ]
  },
  {
   "cell_type": "code",
   "execution_count": 60,
   "metadata": {},
   "outputs": [],
   "source": [
    "clean_df['title_year'] = clean_df['title_year'].round(0).astype(int)"
   ]
  },
  {
   "cell_type": "code",
   "execution_count": 61,
   "metadata": {},
   "outputs": [],
   "source": [
    "clean_df['title_year']=  clean_df['title_year'].astype(str)"
   ]
  },
  {
   "cell_type": "code",
   "execution_count": 62,
   "metadata": {},
   "outputs": [
    {
     "data": {
      "text/plain": [
       "0    1995\n",
       "1    1977\n",
       "2    2003\n",
       "3    1994\n",
       "4    1999\n",
       "Name: title_year, dtype: object"
      ]
     },
     "execution_count": 62,
     "metadata": {},
     "output_type": "execute_result"
    }
   ],
   "source": [
    "clean_df['title_year'].head()"
   ]
  },
  {
   "cell_type": "code",
   "execution_count": 54,
   "metadata": {},
   "outputs": [
    {
     "ename": "KeyError",
     "evalue": "\"['budget_y'] not found in axis\"",
     "output_type": "error",
     "traceback": [
      "\u001b[0;31m---------------------------------------------------------------------------\u001b[0m",
      "\u001b[0;31mKeyError\u001b[0m                                  Traceback (most recent call last)",
      "\u001b[0;32m<ipython-input-54-5dc2ce75910e>\u001b[0m in \u001b[0;36m<module>\u001b[0;34m\u001b[0m\n\u001b[0;32m----> 1\u001b[0;31m \u001b[0mclean_df\u001b[0m \u001b[0;34m=\u001b[0m \u001b[0mclean_df\u001b[0m\u001b[0;34m.\u001b[0m\u001b[0mdrop\u001b[0m\u001b[0;34m(\u001b[0m\u001b[0;34m[\u001b[0m\u001b[0;34m'budget_y'\u001b[0m\u001b[0;34m]\u001b[0m\u001b[0;34m,\u001b[0m \u001b[0maxis\u001b[0m\u001b[0;34m=\u001b[0m\u001b[0;36m1\u001b[0m\u001b[0;34m)\u001b[0m\u001b[0;34m\u001b[0m\u001b[0;34m\u001b[0m\u001b[0m\n\u001b[0m",
      "\u001b[0;32m~/opt/anaconda3/lib/python3.7/site-packages/pandas/core/frame.py\u001b[0m in \u001b[0;36mdrop\u001b[0;34m(self, labels, axis, index, columns, level, inplace, errors)\u001b[0m\n\u001b[1;32m   4100\u001b[0m             \u001b[0mlevel\u001b[0m\u001b[0;34m=\u001b[0m\u001b[0mlevel\u001b[0m\u001b[0;34m,\u001b[0m\u001b[0;34m\u001b[0m\u001b[0;34m\u001b[0m\u001b[0m\n\u001b[1;32m   4101\u001b[0m             \u001b[0minplace\u001b[0m\u001b[0;34m=\u001b[0m\u001b[0minplace\u001b[0m\u001b[0;34m,\u001b[0m\u001b[0;34m\u001b[0m\u001b[0;34m\u001b[0m\u001b[0m\n\u001b[0;32m-> 4102\u001b[0;31m             \u001b[0merrors\u001b[0m\u001b[0;34m=\u001b[0m\u001b[0merrors\u001b[0m\u001b[0;34m,\u001b[0m\u001b[0;34m\u001b[0m\u001b[0;34m\u001b[0m\u001b[0m\n\u001b[0m\u001b[1;32m   4103\u001b[0m         )\n\u001b[1;32m   4104\u001b[0m \u001b[0;34m\u001b[0m\u001b[0m\n",
      "\u001b[0;32m~/opt/anaconda3/lib/python3.7/site-packages/pandas/core/generic.py\u001b[0m in \u001b[0;36mdrop\u001b[0;34m(self, labels, axis, index, columns, level, inplace, errors)\u001b[0m\n\u001b[1;32m   3912\u001b[0m         \u001b[0;32mfor\u001b[0m \u001b[0maxis\u001b[0m\u001b[0;34m,\u001b[0m \u001b[0mlabels\u001b[0m \u001b[0;32min\u001b[0m \u001b[0maxes\u001b[0m\u001b[0;34m.\u001b[0m\u001b[0mitems\u001b[0m\u001b[0;34m(\u001b[0m\u001b[0;34m)\u001b[0m\u001b[0;34m:\u001b[0m\u001b[0;34m\u001b[0m\u001b[0;34m\u001b[0m\u001b[0m\n\u001b[1;32m   3913\u001b[0m             \u001b[0;32mif\u001b[0m \u001b[0mlabels\u001b[0m \u001b[0;32mis\u001b[0m \u001b[0;32mnot\u001b[0m \u001b[0;32mNone\u001b[0m\u001b[0;34m:\u001b[0m\u001b[0;34m\u001b[0m\u001b[0;34m\u001b[0m\u001b[0m\n\u001b[0;32m-> 3914\u001b[0;31m                 \u001b[0mobj\u001b[0m \u001b[0;34m=\u001b[0m \u001b[0mobj\u001b[0m\u001b[0;34m.\u001b[0m\u001b[0m_drop_axis\u001b[0m\u001b[0;34m(\u001b[0m\u001b[0mlabels\u001b[0m\u001b[0;34m,\u001b[0m \u001b[0maxis\u001b[0m\u001b[0;34m,\u001b[0m \u001b[0mlevel\u001b[0m\u001b[0;34m=\u001b[0m\u001b[0mlevel\u001b[0m\u001b[0;34m,\u001b[0m \u001b[0merrors\u001b[0m\u001b[0;34m=\u001b[0m\u001b[0merrors\u001b[0m\u001b[0;34m)\u001b[0m\u001b[0;34m\u001b[0m\u001b[0;34m\u001b[0m\u001b[0m\n\u001b[0m\u001b[1;32m   3915\u001b[0m \u001b[0;34m\u001b[0m\u001b[0m\n\u001b[1;32m   3916\u001b[0m         \u001b[0;32mif\u001b[0m \u001b[0minplace\u001b[0m\u001b[0;34m:\u001b[0m\u001b[0;34m\u001b[0m\u001b[0;34m\u001b[0m\u001b[0m\n",
      "\u001b[0;32m~/opt/anaconda3/lib/python3.7/site-packages/pandas/core/generic.py\u001b[0m in \u001b[0;36m_drop_axis\u001b[0;34m(self, labels, axis, level, errors)\u001b[0m\n\u001b[1;32m   3944\u001b[0m                 \u001b[0mnew_axis\u001b[0m \u001b[0;34m=\u001b[0m \u001b[0maxis\u001b[0m\u001b[0;34m.\u001b[0m\u001b[0mdrop\u001b[0m\u001b[0;34m(\u001b[0m\u001b[0mlabels\u001b[0m\u001b[0;34m,\u001b[0m \u001b[0mlevel\u001b[0m\u001b[0;34m=\u001b[0m\u001b[0mlevel\u001b[0m\u001b[0;34m,\u001b[0m \u001b[0merrors\u001b[0m\u001b[0;34m=\u001b[0m\u001b[0merrors\u001b[0m\u001b[0;34m)\u001b[0m\u001b[0;34m\u001b[0m\u001b[0;34m\u001b[0m\u001b[0m\n\u001b[1;32m   3945\u001b[0m             \u001b[0;32melse\u001b[0m\u001b[0;34m:\u001b[0m\u001b[0;34m\u001b[0m\u001b[0;34m\u001b[0m\u001b[0m\n\u001b[0;32m-> 3946\u001b[0;31m                 \u001b[0mnew_axis\u001b[0m \u001b[0;34m=\u001b[0m \u001b[0maxis\u001b[0m\u001b[0;34m.\u001b[0m\u001b[0mdrop\u001b[0m\u001b[0;34m(\u001b[0m\u001b[0mlabels\u001b[0m\u001b[0;34m,\u001b[0m \u001b[0merrors\u001b[0m\u001b[0;34m=\u001b[0m\u001b[0merrors\u001b[0m\u001b[0;34m)\u001b[0m\u001b[0;34m\u001b[0m\u001b[0;34m\u001b[0m\u001b[0m\n\u001b[0m\u001b[1;32m   3947\u001b[0m             \u001b[0mresult\u001b[0m \u001b[0;34m=\u001b[0m \u001b[0mself\u001b[0m\u001b[0;34m.\u001b[0m\u001b[0mreindex\u001b[0m\u001b[0;34m(\u001b[0m\u001b[0;34m**\u001b[0m\u001b[0;34m{\u001b[0m\u001b[0maxis_name\u001b[0m\u001b[0;34m:\u001b[0m \u001b[0mnew_axis\u001b[0m\u001b[0;34m}\u001b[0m\u001b[0;34m)\u001b[0m\u001b[0;34m\u001b[0m\u001b[0;34m\u001b[0m\u001b[0m\n\u001b[1;32m   3948\u001b[0m \u001b[0;34m\u001b[0m\u001b[0m\n",
      "\u001b[0;32m~/opt/anaconda3/lib/python3.7/site-packages/pandas/core/indexes/base.py\u001b[0m in \u001b[0;36mdrop\u001b[0;34m(self, labels, errors)\u001b[0m\n\u001b[1;32m   5338\u001b[0m         \u001b[0;32mif\u001b[0m \u001b[0mmask\u001b[0m\u001b[0;34m.\u001b[0m\u001b[0many\u001b[0m\u001b[0;34m(\u001b[0m\u001b[0;34m)\u001b[0m\u001b[0;34m:\u001b[0m\u001b[0;34m\u001b[0m\u001b[0;34m\u001b[0m\u001b[0m\n\u001b[1;32m   5339\u001b[0m             \u001b[0;32mif\u001b[0m \u001b[0merrors\u001b[0m \u001b[0;34m!=\u001b[0m \u001b[0;34m\"ignore\"\u001b[0m\u001b[0;34m:\u001b[0m\u001b[0;34m\u001b[0m\u001b[0;34m\u001b[0m\u001b[0m\n\u001b[0;32m-> 5340\u001b[0;31m                 \u001b[0;32mraise\u001b[0m \u001b[0mKeyError\u001b[0m\u001b[0;34m(\u001b[0m\u001b[0;34m\"{} not found in axis\"\u001b[0m\u001b[0;34m.\u001b[0m\u001b[0mformat\u001b[0m\u001b[0;34m(\u001b[0m\u001b[0mlabels\u001b[0m\u001b[0;34m[\u001b[0m\u001b[0mmask\u001b[0m\u001b[0;34m]\u001b[0m\u001b[0;34m)\u001b[0m\u001b[0;34m)\u001b[0m\u001b[0;34m\u001b[0m\u001b[0;34m\u001b[0m\u001b[0m\n\u001b[0m\u001b[1;32m   5341\u001b[0m             \u001b[0mindexer\u001b[0m \u001b[0;34m=\u001b[0m \u001b[0mindexer\u001b[0m\u001b[0;34m[\u001b[0m\u001b[0;34m~\u001b[0m\u001b[0mmask\u001b[0m\u001b[0;34m]\u001b[0m\u001b[0;34m\u001b[0m\u001b[0;34m\u001b[0m\u001b[0m\n\u001b[1;32m   5342\u001b[0m         \u001b[0;32mreturn\u001b[0m \u001b[0mself\u001b[0m\u001b[0;34m.\u001b[0m\u001b[0mdelete\u001b[0m\u001b[0;34m(\u001b[0m\u001b[0mindexer\u001b[0m\u001b[0;34m)\u001b[0m\u001b[0;34m\u001b[0m\u001b[0;34m\u001b[0m\u001b[0m\n",
      "\u001b[0;31mKeyError\u001b[0m: \"['budget_y'] not found in axis\""
     ]
    }
   ],
   "source": [
    "clean_df = clean_df.drop(['budget_y'], axis=1)"
   ]
  },
  {
   "cell_type": "code",
   "execution_count": 31,
   "metadata": {},
   "outputs": [
    {
     "data": {
      "text/html": [
       "<div>\n",
       "<style scoped>\n",
       "    .dataframe tbody tr th:only-of-type {\n",
       "        vertical-align: middle;\n",
       "    }\n",
       "\n",
       "    .dataframe tbody tr th {\n",
       "        vertical-align: top;\n",
       "    }\n",
       "\n",
       "    .dataframe thead th {\n",
       "        text-align: right;\n",
       "    }\n",
       "</style>\n",
       "<table border=\"1\" class=\"dataframe\">\n",
       "  <thead>\n",
       "    <tr style=\"text-align: right;\">\n",
       "      <th></th>\n",
       "      <th>imdb_id</th>\n",
       "      <th>movie_title</th>\n",
       "      <th>title_year</th>\n",
       "      <th>budget_x</th>\n",
       "      <th>genres_x</th>\n",
       "      <th>production_companies</th>\n",
       "      <th>production_countries</th>\n",
       "      <th>release_date</th>\n",
       "      <th>revenue</th>\n",
       "      <th>vote_average</th>\n",
       "      <th>...</th>\n",
       "      <th>actor_1_facebook_likes</th>\n",
       "      <th>gross</th>\n",
       "      <th>genres_y</th>\n",
       "      <th>actor_1_name</th>\n",
       "      <th>actor_3_name</th>\n",
       "      <th>language</th>\n",
       "      <th>country</th>\n",
       "      <th>actor_2_facebook_likes</th>\n",
       "      <th>imdb_score</th>\n",
       "      <th>movie_facebook_likes</th>\n",
       "    </tr>\n",
       "  </thead>\n",
       "  <tbody>\n",
       "    <tr>\n",
       "      <td>0</td>\n",
       "      <td>tt0113101</td>\n",
       "      <td>Four Rooms</td>\n",
       "      <td>1995</td>\n",
       "      <td>4000000</td>\n",
       "      <td>Crime|Comedy</td>\n",
       "      <td>Miramax Films</td>\n",
       "      <td>United States of America</td>\n",
       "      <td>25-12-95</td>\n",
       "      <td>4300000</td>\n",
       "      <td>6.5</td>\n",
       "      <td>...</td>\n",
       "      <td>4000.0</td>\n",
       "      <td>4301331.0</td>\n",
       "      <td>Comedy|Fantasy</td>\n",
       "      <td>Salma Hayek</td>\n",
       "      <td>Lili Taylor</td>\n",
       "      <td>English</td>\n",
       "      <td>USA</td>\n",
       "      <td>975.0</td>\n",
       "      <td>6.7</td>\n",
       "      <td>0</td>\n",
       "    </tr>\n",
       "    <tr>\n",
       "      <td>1</td>\n",
       "      <td>tt0076759</td>\n",
       "      <td>Star Wars: Episode IV - A New Hope</td>\n",
       "      <td>1977</td>\n",
       "      <td>11000000</td>\n",
       "      <td>Adventure|Action|Science Fiction</td>\n",
       "      <td>Lucasfilm</td>\n",
       "      <td>United States of America</td>\n",
       "      <td>25-05-77</td>\n",
       "      <td>775398007</td>\n",
       "      <td>8.0</td>\n",
       "      <td>...</td>\n",
       "      <td>11000.0</td>\n",
       "      <td>460935665.0</td>\n",
       "      <td>Action|Adventure|Fantasy|Sci-Fi</td>\n",
       "      <td>Harrison Ford</td>\n",
       "      <td>Kenny Baker</td>\n",
       "      <td>English</td>\n",
       "      <td>USA</td>\n",
       "      <td>1000.0</td>\n",
       "      <td>8.7</td>\n",
       "      <td>33000</td>\n",
       "    </tr>\n",
       "    <tr>\n",
       "      <td>2</td>\n",
       "      <td>tt0266543</td>\n",
       "      <td>Finding Nemo</td>\n",
       "      <td>2003</td>\n",
       "      <td>94000000</td>\n",
       "      <td>Animation|Family</td>\n",
       "      <td>Pixar Animation Studios</td>\n",
       "      <td>United States of America</td>\n",
       "      <td>30-05-03</td>\n",
       "      <td>940335536</td>\n",
       "      <td>7.6</td>\n",
       "      <td>...</td>\n",
       "      <td>1000.0</td>\n",
       "      <td>380838870.0</td>\n",
       "      <td>Adventure|Animation|Comedy|Family</td>\n",
       "      <td>Alexander Gould</td>\n",
       "      <td>Brad Garrett</td>\n",
       "      <td>English</td>\n",
       "      <td>USA</td>\n",
       "      <td>939.0</td>\n",
       "      <td>8.2</td>\n",
       "      <td>11000</td>\n",
       "    </tr>\n",
       "    <tr>\n",
       "      <td>3</td>\n",
       "      <td>tt0109830</td>\n",
       "      <td>Forrest Gump</td>\n",
       "      <td>1994</td>\n",
       "      <td>55000000</td>\n",
       "      <td>Comedy|Drama|Romance</td>\n",
       "      <td>Paramount Pictures</td>\n",
       "      <td>United States of America</td>\n",
       "      <td>06-07-94</td>\n",
       "      <td>677945399</td>\n",
       "      <td>8.2</td>\n",
       "      <td>...</td>\n",
       "      <td>15000.0</td>\n",
       "      <td>329691196.0</td>\n",
       "      <td>Comedy|Drama</td>\n",
       "      <td>Tom Hanks</td>\n",
       "      <td>Sam Anderson</td>\n",
       "      <td>English</td>\n",
       "      <td>USA</td>\n",
       "      <td>294.0</td>\n",
       "      <td>8.8</td>\n",
       "      <td>59000</td>\n",
       "    </tr>\n",
       "    <tr>\n",
       "      <td>4</td>\n",
       "      <td>tt0169547</td>\n",
       "      <td>American Beauty</td>\n",
       "      <td>1999</td>\n",
       "      <td>15000000</td>\n",
       "      <td>Drama</td>\n",
       "      <td>DreamWorks SKG</td>\n",
       "      <td>United States of America</td>\n",
       "      <td>15-09-99</td>\n",
       "      <td>356296601</td>\n",
       "      <td>7.9</td>\n",
       "      <td>...</td>\n",
       "      <td>18000.0</td>\n",
       "      <td>130058047.0</td>\n",
       "      <td>Drama</td>\n",
       "      <td>Kevin Spacey</td>\n",
       "      <td>Ara Celi</td>\n",
       "      <td>English</td>\n",
       "      <td>USA</td>\n",
       "      <td>828.0</td>\n",
       "      <td>8.4</td>\n",
       "      <td>22000</td>\n",
       "    </tr>\n",
       "  </tbody>\n",
       "</table>\n",
       "<p>5 rows × 24 columns</p>\n",
       "</div>"
      ],
      "text/plain": [
       "     imdb_id                          movie_title title_year  budget_x  \\\n",
       "0  tt0113101                          Four Rooms        1995   4000000   \n",
       "1  tt0076759  Star Wars: Episode IV - A New Hope        1977  11000000   \n",
       "2  tt0266543                        Finding Nemo        2003  94000000   \n",
       "3  tt0109830                        Forrest Gump        1994  55000000   \n",
       "4  tt0169547                     American Beauty        1999  15000000   \n",
       "\n",
       "                           genres_x     production_companies  \\\n",
       "0                      Crime|Comedy            Miramax Films   \n",
       "1  Adventure|Action|Science Fiction                Lucasfilm   \n",
       "2                  Animation|Family  Pixar Animation Studios   \n",
       "3              Comedy|Drama|Romance       Paramount Pictures   \n",
       "4                             Drama           DreamWorks SKG   \n",
       "\n",
       "       production_countries release_date    revenue  vote_average  ...  \\\n",
       "0  United States of America     25-12-95    4300000           6.5  ...   \n",
       "1  United States of America     25-05-77  775398007           8.0  ...   \n",
       "2  United States of America     30-05-03  940335536           7.6  ...   \n",
       "3  United States of America     06-07-94  677945399           8.2  ...   \n",
       "4  United States of America     15-09-99  356296601           7.9  ...   \n",
       "\n",
       "  actor_1_facebook_likes        gross                           genres_y  \\\n",
       "0                 4000.0    4301331.0                     Comedy|Fantasy   \n",
       "1                11000.0  460935665.0    Action|Adventure|Fantasy|Sci-Fi   \n",
       "2                 1000.0  380838870.0  Adventure|Animation|Comedy|Family   \n",
       "3                15000.0  329691196.0                       Comedy|Drama   \n",
       "4                18000.0  130058047.0                              Drama   \n",
       "\n",
       "      actor_1_name  actor_3_name  language country actor_2_facebook_likes  \\\n",
       "0      Salma Hayek   Lili Taylor   English     USA                  975.0   \n",
       "1    Harrison Ford   Kenny Baker   English     USA                 1000.0   \n",
       "2  Alexander Gould  Brad Garrett   English     USA                  939.0   \n",
       "3        Tom Hanks  Sam Anderson   English     USA                  294.0   \n",
       "4     Kevin Spacey      Ara Celi   English     USA                  828.0   \n",
       "\n",
       "  imdb_score movie_facebook_likes  \n",
       "0        6.7                    0  \n",
       "1        8.7                33000  \n",
       "2        8.2                11000  \n",
       "3        8.8                59000  \n",
       "4        8.4                22000  \n",
       "\n",
       "[5 rows x 24 columns]"
      ]
     },
     "execution_count": 31,
     "metadata": {},
     "output_type": "execute_result"
    }
   ],
   "source": [
    "clean_df.head()"
   ]
  },
  {
   "cell_type": "code",
   "execution_count": 32,
   "metadata": {},
   "outputs": [
    {
     "data": {
      "text/plain": [
       "(3197, 24)"
      ]
     },
     "execution_count": 32,
     "metadata": {},
     "output_type": "execute_result"
    }
   ],
   "source": [
    "# drop rows that do not have any budget information\n",
    "clean_df = clean_df.drop(clean_df[clean_df.budget_x == 0].index)\n",
    "clean_df.shape"
   ]
  },
  {
   "cell_type": "markdown",
   "metadata": {},
   "source": [
    "## Exploring the Data"
   ]
  },
  {
   "cell_type": "code",
   "execution_count": 33,
   "metadata": {},
   "outputs": [
    {
     "data": {
      "image/png": "[encoded data removed]",
      "text/plain": [
       "<Figure size 864x864 with 1 Axes>"
      ]
     },
     "metadata": {
      "needs_background": "light"
     },
     "output_type": "display_data"
    }
   ],
   "source": [
    "# Create a wordcloud to display most common Production Companies\n",
    "\n",
    "wordcloud = WordCloud().generate(' '.join(clean_df['production_companies']))\n",
    "plt.rcParams[\"figure.figsize\"] = (12,12)\n",
    "plt.title('Production Companies Word Cloud')\n",
    "plt.imshow(wordcloud)\n",
    "plt.axis(\"off\")\n",
    "plt.show()"
   ]
  },
  {
   "cell_type": "code",
   "execution_count": 34,
   "metadata": {},
   "outputs": [
    {
     "data": {
      "image/png": "[encoded data removed]",
      "text/plain": [
       "<Figure size 864x864 with 1 Axes>"
      ]
     },
     "metadata": {
      "needs_background": "light"
     },
     "output_type": "display_data"
    }
   ],
   "source": [
    "#Create graphic of number of films released each year\n",
    "new_df.hist(column='title_year',bins=50, grid=False, color='lightblue',edgecolor='darkblue')\n",
    "plt.rcParams[\"figure.figsize\"] = (10,5)\n",
    "plt.xlabel('Title Year')\n",
    "plt.ylabel('Movie count')\n",
    "plt.title('Movie Release')\n",
    "plt.show()"
   ]
  },
  {
   "cell_type": "markdown",
   "metadata": {},
   "source": [
    "We can see that the number of movies produced started to increase after the 1990s and in the 2000s. This can be attributed to the age of digital media, with directors transitioning from using 38/70mm film to digital camera recordings which are cheaper and easier to edit (no need to physically cut film!). <br>\n",
    "Also as disposable income and demand increased, directors and production companies needed to keep up and thus saturating the market with new movies. It can also be said that people nowadays are so used to binging content as a result of streaming services, that no one has the patience to wait for a movie's sequel - hence production companies churning them out so quickly in the last few years. "
   ]
  },
  {
   "cell_type": "code",
   "execution_count": 35,
   "metadata": {},
   "outputs": [
    {
     "data": {
      "text/html": [
       "<div>\n",
       "<style scoped>\n",
       "    .dataframe tbody tr th:only-of-type {\n",
       "        vertical-align: middle;\n",
       "    }\n",
       "\n",
       "    .dataframe tbody tr th {\n",
       "        vertical-align: top;\n",
       "    }\n",
       "\n",
       "    .dataframe thead th {\n",
       "        text-align: right;\n",
       "    }\n",
       "</style>\n",
       "<table border=\"1\" class=\"dataframe\">\n",
       "  <thead>\n",
       "    <tr style=\"text-align: right;\">\n",
       "      <th></th>\n",
       "      <th>title_year</th>\n",
       "      <th>imdb_score</th>\n",
       "      <th>production_countries</th>\n",
       "    </tr>\n",
       "  </thead>\n",
       "  <tbody>\n",
       "    <tr>\n",
       "      <td>0</td>\n",
       "      <td>1995</td>\n",
       "      <td>6.7</td>\n",
       "      <td>United States of America</td>\n",
       "    </tr>\n",
       "    <tr>\n",
       "      <td>1</td>\n",
       "      <td>1977</td>\n",
       "      <td>8.7</td>\n",
       "      <td>United States of America</td>\n",
       "    </tr>\n",
       "    <tr>\n",
       "      <td>2</td>\n",
       "      <td>2003</td>\n",
       "      <td>8.2</td>\n",
       "      <td>United States of America</td>\n",
       "    </tr>\n",
       "    <tr>\n",
       "      <td>3</td>\n",
       "      <td>1994</td>\n",
       "      <td>8.8</td>\n",
       "      <td>United States of America</td>\n",
       "    </tr>\n",
       "    <tr>\n",
       "      <td>4</td>\n",
       "      <td>1999</td>\n",
       "      <td>8.4</td>\n",
       "      <td>United States of America</td>\n",
       "    </tr>\n",
       "  </tbody>\n",
       "</table>\n",
       "</div>"
      ],
      "text/plain": [
       "  title_year  imdb_score      production_countries\n",
       "0       1995         6.7  United States of America\n",
       "1       1977         8.7  United States of America\n",
       "2       2003         8.2  United States of America\n",
       "3       1994         8.8  United States of America\n",
       "4       1999         8.4  United States of America"
      ]
     },
     "execution_count": 35,
     "metadata": {},
     "output_type": "execute_result"
    }
   ],
   "source": [
    "average_score = clean_df[['title_year','imdb_score', 'production_countries']]\n",
    "average_score.head()"
   ]
  },
  {
   "cell_type": "code",
   "execution_count": 36,
   "metadata": {},
   "outputs": [
    {
     "data": {
      "text/html": [
       "<div>\n",
       "<style scoped>\n",
       "    .dataframe tbody tr th:only-of-type {\n",
       "        vertical-align: middle;\n",
       "    }\n",
       "\n",
       "    .dataframe tbody tr th {\n",
       "        vertical-align: top;\n",
       "    }\n",
       "\n",
       "    .dataframe thead th {\n",
       "        text-align: right;\n",
       "    }\n",
       "</style>\n",
       "<table border=\"1\" class=\"dataframe\">\n",
       "  <thead>\n",
       "    <tr style=\"text-align: right;\">\n",
       "      <th></th>\n",
       "      <th>imdb_score</th>\n",
       "      <th>production_countries</th>\n",
       "    </tr>\n",
       "    <tr>\n",
       "      <th>title_year</th>\n",
       "      <th></th>\n",
       "      <th></th>\n",
       "    </tr>\n",
       "  </thead>\n",
       "  <tbody>\n",
       "    <tr>\n",
       "      <td>1995-01-01</td>\n",
       "      <td>6.7</td>\n",
       "      <td>United States of America</td>\n",
       "    </tr>\n",
       "    <tr>\n",
       "      <td>1977-01-01</td>\n",
       "      <td>8.7</td>\n",
       "      <td>United States of America</td>\n",
       "    </tr>\n",
       "    <tr>\n",
       "      <td>2003-01-01</td>\n",
       "      <td>8.2</td>\n",
       "      <td>United States of America</td>\n",
       "    </tr>\n",
       "    <tr>\n",
       "      <td>1994-01-01</td>\n",
       "      <td>8.8</td>\n",
       "      <td>United States of America</td>\n",
       "    </tr>\n",
       "    <tr>\n",
       "      <td>1999-01-01</td>\n",
       "      <td>8.4</td>\n",
       "      <td>United States of America</td>\n",
       "    </tr>\n",
       "  </tbody>\n",
       "</table>\n",
       "</div>"
      ],
      "text/plain": [
       "            imdb_score      production_countries\n",
       "title_year                                      \n",
       "1995-01-01         6.7  United States of America\n",
       "1977-01-01         8.7  United States of America\n",
       "2003-01-01         8.2  United States of America\n",
       "1994-01-01         8.8  United States of America\n",
       "1999-01-01         8.4  United States of America"
      ]
     },
     "execution_count": 36,
     "metadata": {},
     "output_type": "execute_result"
    }
   ],
   "source": [
    "average_score['title_year'] = pd.to_datetime(average_score['title_year'])\n",
    "average_score.index = average_score['title_year']\n",
    "average_score = average_score.drop(['title_year'], 1)\n",
    "average_score.head()"
   ]
  },
  {
   "cell_type": "code",
   "execution_count": 37,
   "metadata": {},
   "outputs": [
    {
     "data": {
      "text/html": [
       "<div>\n",
       "<style scoped>\n",
       "    .dataframe tbody tr th:only-of-type {\n",
       "        vertical-align: middle;\n",
       "    }\n",
       "\n",
       "    .dataframe tbody tr th {\n",
       "        vertical-align: top;\n",
       "    }\n",
       "\n",
       "    .dataframe thead th {\n",
       "        text-align: right;\n",
       "    }\n",
       "</style>\n",
       "<table border=\"1\" class=\"dataframe\">\n",
       "  <thead>\n",
       "    <tr style=\"text-align: right;\">\n",
       "      <th></th>\n",
       "      <th>imdb_score</th>\n",
       "      <th>production_countries</th>\n",
       "    </tr>\n",
       "    <tr>\n",
       "      <th>title_year</th>\n",
       "      <th></th>\n",
       "      <th></th>\n",
       "    </tr>\n",
       "  </thead>\n",
       "  <tbody>\n",
       "    <tr>\n",
       "      <td>1995-01-01</td>\n",
       "      <td>6.7</td>\n",
       "      <td>United States of America</td>\n",
       "    </tr>\n",
       "    <tr>\n",
       "      <td>1977-01-01</td>\n",
       "      <td>8.7</td>\n",
       "      <td>United States of America</td>\n",
       "    </tr>\n",
       "    <tr>\n",
       "      <td>2003-01-01</td>\n",
       "      <td>8.2</td>\n",
       "      <td>United States of America</td>\n",
       "    </tr>\n",
       "    <tr>\n",
       "      <td>1994-01-01</td>\n",
       "      <td>8.8</td>\n",
       "      <td>United States of America</td>\n",
       "    </tr>\n",
       "    <tr>\n",
       "      <td>1999-01-01</td>\n",
       "      <td>8.4</td>\n",
       "      <td>United States of America</td>\n",
       "    </tr>\n",
       "  </tbody>\n",
       "</table>\n",
       "</div>"
      ],
      "text/plain": [
       "            imdb_score      production_countries\n",
       "title_year                                      \n",
       "1995-01-01         6.7  United States of America\n",
       "1977-01-01         8.7  United States of America\n",
       "2003-01-01         8.2  United States of America\n",
       "1994-01-01         8.8  United States of America\n",
       "1999-01-01         8.4  United States of America"
      ]
     },
     "execution_count": 37,
     "metadata": {},
     "output_type": "execute_result"
    }
   ],
   "source": [
    "usa = average_score[average_score['production_countries'].str.contains(\"United States of America\")]\n",
    "usa.head()"
   ]
  },
  {
   "cell_type": "code",
   "execution_count": 38,
   "metadata": {},
   "outputs": [
    {
     "data": {
      "text/html": [
       "<div>\n",
       "<style scoped>\n",
       "    .dataframe tbody tr th:only-of-type {\n",
       "        vertical-align: middle;\n",
       "    }\n",
       "\n",
       "    .dataframe tbody tr th {\n",
       "        vertical-align: top;\n",
       "    }\n",
       "\n",
       "    .dataframe thead th {\n",
       "        text-align: right;\n",
       "    }\n",
       "</style>\n",
       "<table border=\"1\" class=\"dataframe\">\n",
       "  <thead>\n",
       "    <tr style=\"text-align: right;\">\n",
       "      <th></th>\n",
       "      <th>imdb_score</th>\n",
       "      <th>production_countries</th>\n",
       "    </tr>\n",
       "    <tr>\n",
       "      <th>title_year</th>\n",
       "      <th></th>\n",
       "      <th></th>\n",
       "    </tr>\n",
       "  </thead>\n",
       "  <tbody>\n",
       "    <tr>\n",
       "      <td>1929-01-01</td>\n",
       "      <td>6.3</td>\n",
       "      <td>United States of America</td>\n",
       "    </tr>\n",
       "    <tr>\n",
       "      <td>1930-01-01</td>\n",
       "      <td>NaN</td>\n",
       "      <td>NaN</td>\n",
       "    </tr>\n",
       "    <tr>\n",
       "      <td>1931-01-01</td>\n",
       "      <td>NaN</td>\n",
       "      <td>NaN</td>\n",
       "    </tr>\n",
       "    <tr>\n",
       "      <td>1932-01-01</td>\n",
       "      <td>NaN</td>\n",
       "      <td>NaN</td>\n",
       "    </tr>\n",
       "    <tr>\n",
       "      <td>1933-01-01</td>\n",
       "      <td>7.7</td>\n",
       "      <td>United States of America</td>\n",
       "    </tr>\n",
       "    <tr>\n",
       "      <td>1934-01-01</td>\n",
       "      <td>NaN</td>\n",
       "      <td>NaN</td>\n",
       "    </tr>\n",
       "    <tr>\n",
       "      <td>1935-01-01</td>\n",
       "      <td>7.8</td>\n",
       "      <td>United States of America</td>\n",
       "    </tr>\n",
       "    <tr>\n",
       "      <td>1936-01-01</td>\n",
       "      <td>8.6</td>\n",
       "      <td>United States of America</td>\n",
       "    </tr>\n",
       "    <tr>\n",
       "      <td>1937-01-01</td>\n",
       "      <td>7.7</td>\n",
       "      <td>United States of America</td>\n",
       "    </tr>\n",
       "    <tr>\n",
       "      <td>1938-01-01</td>\n",
       "      <td>NaN</td>\n",
       "      <td>NaN</td>\n",
       "    </tr>\n",
       "  </tbody>\n",
       "</table>\n",
       "</div>"
      ],
      "text/plain": [
       "            imdb_score      production_countries\n",
       "title_year                                      \n",
       "1929-01-01         6.3  United States of America\n",
       "1930-01-01         NaN                       NaN\n",
       "1931-01-01         NaN                       NaN\n",
       "1932-01-01         NaN                       NaN\n",
       "1933-01-01         7.7  United States of America\n",
       "1934-01-01         NaN                       NaN\n",
       "1935-01-01         7.8  United States of America\n",
       "1936-01-01         8.6  United States of America\n",
       "1937-01-01         7.7  United States of America\n",
       "1938-01-01         NaN                       NaN"
      ]
     },
     "execution_count": 38,
     "metadata": {},
     "output_type": "execute_result"
    }
   ],
   "source": [
    "#Adapted from https://stackoverflow.com/questions/57577805/my-non-numeric-columns-are-deleted-on-resample\n",
    "num = usa.select_dtypes('float64').columns\n",
    "non_num = usa.columns.difference(num)\n",
    "d = {**{x: 'mean' for x in num}, **{x: 'first' for x in non_num}}\n",
    "\n",
    "#resample the data to get the mean imbd score for each year while keeping the non-numerical data\n",
    "usa = usa.resample('AS').agg(d)\n",
    "usa.head(10)"
   ]
  },
  {
   "cell_type": "code",
   "execution_count": 39,
   "metadata": {},
   "outputs": [],
   "source": [
    "usa = usa.dropna()"
   ]
  },
  {
   "cell_type": "code",
   "execution_count": 40,
   "metadata": {},
   "outputs": [
    {
     "data": {
      "text/html": [
       "<div>\n",
       "<style scoped>\n",
       "    .dataframe tbody tr th:only-of-type {\n",
       "        vertical-align: middle;\n",
       "    }\n",
       "\n",
       "    .dataframe tbody tr th {\n",
       "        vertical-align: top;\n",
       "    }\n",
       "\n",
       "    .dataframe thead th {\n",
       "        text-align: right;\n",
       "    }\n",
       "</style>\n",
       "<table border=\"1\" class=\"dataframe\">\n",
       "  <thead>\n",
       "    <tr style=\"text-align: right;\">\n",
       "      <th></th>\n",
       "      <th>imdb_score</th>\n",
       "      <th>production_countries</th>\n",
       "    </tr>\n",
       "    <tr>\n",
       "      <th>title_year</th>\n",
       "      <th></th>\n",
       "      <th></th>\n",
       "    </tr>\n",
       "  </thead>\n",
       "  <tbody>\n",
       "    <tr>\n",
       "      <td>1929-01-01</td>\n",
       "      <td>6.3</td>\n",
       "      <td>United States of America</td>\n",
       "    </tr>\n",
       "    <tr>\n",
       "      <td>1933-01-01</td>\n",
       "      <td>7.7</td>\n",
       "      <td>United States of America</td>\n",
       "    </tr>\n",
       "    <tr>\n",
       "      <td>1935-01-01</td>\n",
       "      <td>7.8</td>\n",
       "      <td>United States of America</td>\n",
       "    </tr>\n",
       "    <tr>\n",
       "      <td>1936-01-01</td>\n",
       "      <td>8.6</td>\n",
       "      <td>United States of America</td>\n",
       "    </tr>\n",
       "    <tr>\n",
       "      <td>1937-01-01</td>\n",
       "      <td>7.7</td>\n",
       "      <td>United States of America</td>\n",
       "    </tr>\n",
       "  </tbody>\n",
       "</table>\n",
       "</div>"
      ],
      "text/plain": [
       "            imdb_score      production_countries\n",
       "title_year                                      \n",
       "1929-01-01         6.3  United States of America\n",
       "1933-01-01         7.7  United States of America\n",
       "1935-01-01         7.8  United States of America\n",
       "1936-01-01         8.6  United States of America\n",
       "1937-01-01         7.7  United States of America"
      ]
     },
     "execution_count": 40,
     "metadata": {},
     "output_type": "execute_result"
    }
   ],
   "source": [
    "usa.head()"
   ]
  },
  {
   "cell_type": "code",
   "execution_count": 41,
   "metadata": {},
   "outputs": [],
   "source": [
    "usa.index = pd.to_datetime(usa.index, format='%Y').year #format the index to just display year"
   ]
  },
  {
   "cell_type": "code",
   "execution_count": 42,
   "metadata": {},
   "outputs": [],
   "source": [
    "usa_pivot = pd.pivot_table(usa, index=['production_countries'], columns=usa.index, values=\"imdb_score\")"
   ]
  },
  {
   "cell_type": "code",
   "execution_count": 43,
   "metadata": {},
   "outputs": [
    {
     "data": {
      "image/png": "[encoded data removed]",
      "text/plain": [
       "<Figure size 1080x360 with 2 Axes>"
      ]
     },
     "metadata": {
      "needs_background": "light"
     },
     "output_type": "display_data"
    }
   ],
   "source": [
    "fig = plt.figure(figsize = (15,5))\n",
    "ax = fig.add_subplot(111)\n",
    "sns.heatmap(usa_pivot,ax=ax, cbar_kws={'label': 'IMDB Score'})\n",
    "ax.set_ylabel('Production Country')\n",
    "ax.set_xlabel('year')\n",
    "ax.set_title('Average IMDB Score')\n",
    "plt.show()"
   ]
  },
  {
   "cell_type": "markdown",
   "metadata": {},
   "source": [
    "The above heatplot displays that the average IMDB score for American produced movies has declined over the years."
   ]
  },
  {
   "cell_type": "code",
   "execution_count": 44,
   "metadata": {},
   "outputs": [],
   "source": [
    "corr = clean_df.corr()"
   ]
  },
  {
   "cell_type": "code",
   "execution_count": 45,
   "metadata": {},
   "outputs": [
    {
     "data": {
      "image/png": "[encoded data removed]",
      "text/plain": [
       "<Figure size 720x432 with 2 Axes>"
      ]
     },
     "metadata": {
      "needs_background": "light"
     },
     "output_type": "display_data"
    }
   ],
   "source": [
    "fig = plt.figure(figsize = (10,6))\n",
    "ax = fig.add_subplot(111)\n",
    "sns.heatmap(corr,ax=ax, annot=True, fmt=\".3f\")\n",
    "plt.show()"
   ]
  },
  {
   "cell_type": "markdown",
   "metadata": {},
   "source": [
    "Correlation between 10 variables"
   ]
  },
  {
   "cell_type": "code",
   "execution_count": 46,
   "metadata": {},
   "outputs": [],
   "source": [
    "#sort revenue column in descending order + store it in a new dataframe.\n",
    "top_10 = pd.DataFrame(clean_df['revenue'].sort_values(ascending = False))\n",
    "top_10['movie_title'] = clean_df['movie_title']\n",
    "\n",
    "top_10 = top_10.drop_duplicates()\n",
    "\n",
    "#get top 10 movies with high revenue data from the dataframe.\n",
    "top_10= top_10[['movie_title','revenue']][:10]"
   ]
  },
  {
   "cell_type": "code",
   "execution_count": 47,
   "metadata": {},
   "outputs": [
    {
     "data": {
      "image/png": "[encoded data removed]",
      "text/plain": [
       "<Figure size 864x360 with 1 Axes>"
      ]
     },
     "metadata": {},
     "output_type": "display_data"
    }
   ],
   "source": [
    "sns.set_style(\"whitegrid\")\n",
    "plt.figure(figsize=(12,5))\n",
    "ax = sns.pointplot(x='revenue',y='movie_title', data=top_10)\n",
    "ax.set_title(\"Top 10: Highest revenue Movies\",fontsize = 15)\n",
    "ax.set_xlabel(\"Revenue\",fontsize = 13)\n",
    "plt.show()"
   ]
  },
  {
   "cell_type": "code",
   "execution_count": 48,
   "metadata": {},
   "outputs": [],
   "source": [
    "#sort revenue column in descending order + store it in a new dataframe for top production companies\n",
    "top_10_prod = pd.DataFrame(clean_df['revenue'].sort_values(ascending = False))\n",
    "top_10_prod['production_companies'] = clean_df['production_companies']\n",
    "top_10_prod['production_countries'] = clean_df['production_countries']\n",
    "top_10= top_10_prod[['production_companies','revenue', 'production_countries']][:20]"
   ]
  },
  {
   "cell_type": "code",
   "execution_count": 49,
   "metadata": {},
   "outputs": [
    {
     "data": {
      "image/png": "[encoded data removed]",
      "text/plain": [
       "<Figure size 1440x432 with 1 Axes>"
      ]
     },
     "metadata": {},
     "output_type": "display_data"
    }
   ],
   "source": [
    "plt.figure(figsize=(20, 6))\n",
    "ax = sns.barplot(x=\"production_companies\", y=\"revenue\", hue='production_countries',data=top_10,dodge=False, palette='muted');\n",
    "ax.set(xlabel='Production Company', ylabel='Revenue',title='Top 10 Production Companies')\n",
    "plt.legend(loc='upper right')\n",
    "plt.show()"
   ]
  },
  {
   "cell_type": "markdown",
   "metadata": {},
   "source": [
    "As we can see there is a high saturation of American production companies with 6/10 being American."
   ]
  },
  {
   "cell_type": "markdown",
   "metadata": {},
   "source": [
    "# Splitting Genres\n",
    "\n",
    "In our original dataframe, genres had been grouped together into a single column (`genres_x`). Obviously, films are classified into many genres and to have each genre apply to a seperate row would make for a messy (and enormous) dataframe. <br>\n",
    "\n",
    "We created a dummy dataframe with each genre, which is then joined back into `clean_df` - each genre has it's own column and if it applies to a film it is marked with a `1` in that row."
   ]
  },
  {
   "cell_type": "code",
   "execution_count": 50,
   "metadata": {},
   "outputs": [],
   "source": [
    "#Creating a dummy dataframe for genres and joining it back into our original dataframe\n",
    "clean_df1 = clean_df.join(clean_df.pop('genres_x').str.get_dummies('|'))"
   ]
  },
  {
   "cell_type": "code",
   "execution_count": 51,
   "metadata": {},
   "outputs": [
    {
     "data": {
      "text/html": [
       "<div>\n",
       "<style scoped>\n",
       "    .dataframe tbody tr th:only-of-type {\n",
       "        vertical-align: middle;\n",
       "    }\n",
       "\n",
       "    .dataframe tbody tr th {\n",
       "        vertical-align: top;\n",
       "    }\n",
       "\n",
       "    .dataframe thead th {\n",
       "        text-align: right;\n",
       "    }\n",
       "</style>\n",
       "<table border=\"1\" class=\"dataframe\">\n",
       "  <thead>\n",
       "    <tr style=\"text-align: right;\">\n",
       "      <th></th>\n",
       "      <th>imdb_id</th>\n",
       "      <th>movie_title</th>\n",
       "      <th>title_year</th>\n",
       "      <th>budget_x</th>\n",
       "      <th>production_companies</th>\n",
       "      <th>production_countries</th>\n",
       "      <th>release_date</th>\n",
       "      <th>revenue</th>\n",
       "      <th>vote_average</th>\n",
       "      <th>director_name</th>\n",
       "      <th>...</th>\n",
       "      <th>Foreign</th>\n",
       "      <th>History</th>\n",
       "      <th>Horror</th>\n",
       "      <th>Music</th>\n",
       "      <th>Mystery</th>\n",
       "      <th>Romance</th>\n",
       "      <th>Science Fiction</th>\n",
       "      <th>Thriller</th>\n",
       "      <th>War</th>\n",
       "      <th>Western</th>\n",
       "    </tr>\n",
       "  </thead>\n",
       "  <tbody>\n",
       "    <tr>\n",
       "      <td>0</td>\n",
       "      <td>tt0113101</td>\n",
       "      <td>Four Rooms</td>\n",
       "      <td>1995</td>\n",
       "      <td>4000000</td>\n",
       "      <td>Miramax Films</td>\n",
       "      <td>United States of America</td>\n",
       "      <td>25-12-95</td>\n",
       "      <td>4300000</td>\n",
       "      <td>6.5</td>\n",
       "      <td>Allison Anders</td>\n",
       "      <td>...</td>\n",
       "      <td>0</td>\n",
       "      <td>0</td>\n",
       "      <td>0</td>\n",
       "      <td>0</td>\n",
       "      <td>0</td>\n",
       "      <td>0</td>\n",
       "      <td>0</td>\n",
       "      <td>0</td>\n",
       "      <td>0</td>\n",
       "      <td>0</td>\n",
       "    </tr>\n",
       "    <tr>\n",
       "      <td>1</td>\n",
       "      <td>tt0076759</td>\n",
       "      <td>Star Wars: Episode IV - A New Hope</td>\n",
       "      <td>1977</td>\n",
       "      <td>11000000</td>\n",
       "      <td>Lucasfilm</td>\n",
       "      <td>United States of America</td>\n",
       "      <td>25-05-77</td>\n",
       "      <td>775398007</td>\n",
       "      <td>8.0</td>\n",
       "      <td>George Lucas</td>\n",
       "      <td>...</td>\n",
       "      <td>0</td>\n",
       "      <td>0</td>\n",
       "      <td>0</td>\n",
       "      <td>0</td>\n",
       "      <td>0</td>\n",
       "      <td>0</td>\n",
       "      <td>1</td>\n",
       "      <td>0</td>\n",
       "      <td>0</td>\n",
       "      <td>0</td>\n",
       "    </tr>\n",
       "    <tr>\n",
       "      <td>2</td>\n",
       "      <td>tt0266543</td>\n",
       "      <td>Finding Nemo</td>\n",
       "      <td>2003</td>\n",
       "      <td>94000000</td>\n",
       "      <td>Pixar Animation Studios</td>\n",
       "      <td>United States of America</td>\n",
       "      <td>30-05-03</td>\n",
       "      <td>940335536</td>\n",
       "      <td>7.6</td>\n",
       "      <td>Andrew Stanton</td>\n",
       "      <td>...</td>\n",
       "      <td>0</td>\n",
       "      <td>0</td>\n",
       "      <td>0</td>\n",
       "      <td>0</td>\n",
       "      <td>0</td>\n",
       "      <td>0</td>\n",
       "      <td>0</td>\n",
       "      <td>0</td>\n",
       "      <td>0</td>\n",
       "      <td>0</td>\n",
       "    </tr>\n",
       "    <tr>\n",
       "      <td>3</td>\n",
       "      <td>tt0109830</td>\n",
       "      <td>Forrest Gump</td>\n",
       "      <td>1994</td>\n",
       "      <td>55000000</td>\n",
       "      <td>Paramount Pictures</td>\n",
       "      <td>United States of America</td>\n",
       "      <td>06-07-94</td>\n",
       "      <td>677945399</td>\n",
       "      <td>8.2</td>\n",
       "      <td>Robert Zemeckis</td>\n",
       "      <td>...</td>\n",
       "      <td>0</td>\n",
       "      <td>0</td>\n",
       "      <td>0</td>\n",
       "      <td>0</td>\n",
       "      <td>0</td>\n",
       "      <td>1</td>\n",
       "      <td>0</td>\n",
       "      <td>0</td>\n",
       "      <td>0</td>\n",
       "      <td>0</td>\n",
       "    </tr>\n",
       "    <tr>\n",
       "      <td>4</td>\n",
       "      <td>tt0169547</td>\n",
       "      <td>American Beauty</td>\n",
       "      <td>1999</td>\n",
       "      <td>15000000</td>\n",
       "      <td>DreamWorks SKG</td>\n",
       "      <td>United States of America</td>\n",
       "      <td>15-09-99</td>\n",
       "      <td>356296601</td>\n",
       "      <td>7.9</td>\n",
       "      <td>Sam Mendes</td>\n",
       "      <td>...</td>\n",
       "      <td>0</td>\n",
       "      <td>0</td>\n",
       "      <td>0</td>\n",
       "      <td>0</td>\n",
       "      <td>0</td>\n",
       "      <td>0</td>\n",
       "      <td>0</td>\n",
       "      <td>0</td>\n",
       "      <td>0</td>\n",
       "      <td>0</td>\n",
       "    </tr>\n",
       "  </tbody>\n",
       "</table>\n",
       "<p>5 rows × 42 columns</p>\n",
       "</div>"
      ],
      "text/plain": [
       "     imdb_id                          movie_title title_year  budget_x  \\\n",
       "0  tt0113101                          Four Rooms        1995   4000000   \n",
       "1  tt0076759  Star Wars: Episode IV - A New Hope        1977  11000000   \n",
       "2  tt0266543                        Finding Nemo        2003  94000000   \n",
       "3  tt0109830                        Forrest Gump        1994  55000000   \n",
       "4  tt0169547                     American Beauty        1999  15000000   \n",
       "\n",
       "      production_companies      production_countries release_date    revenue  \\\n",
       "0            Miramax Films  United States of America     25-12-95    4300000   \n",
       "1                Lucasfilm  United States of America     25-05-77  775398007   \n",
       "2  Pixar Animation Studios  United States of America     30-05-03  940335536   \n",
       "3       Paramount Pictures  United States of America     06-07-94  677945399   \n",
       "4           DreamWorks SKG  United States of America     15-09-99  356296601   \n",
       "\n",
       "   vote_average    director_name  ...  Foreign  History Horror  Music  \\\n",
       "0           6.5   Allison Anders  ...        0        0      0      0   \n",
       "1           8.0     George Lucas  ...        0        0      0      0   \n",
       "2           7.6   Andrew Stanton  ...        0        0      0      0   \n",
       "3           8.2  Robert Zemeckis  ...        0        0      0      0   \n",
       "4           7.9       Sam Mendes  ...        0        0      0      0   \n",
       "\n",
       "   Mystery Romance Science Fiction Thriller War Western  \n",
       "0        0       0               0        0   0       0  \n",
       "1        0       0               1        0   0       0  \n",
       "2        0       0               0        0   0       0  \n",
       "3        0       1               0        0   0       0  \n",
       "4        0       0               0        0   0       0  \n",
       "\n",
       "[5 rows x 42 columns]"
      ]
     },
     "execution_count": 51,
     "metadata": {},
     "output_type": "execute_result"
    }
   ],
   "source": [
    "clean_df1.head()"
   ]
  },
  {
   "cell_type": "code",
   "execution_count": 52,
   "metadata": {},
   "outputs": [
    {
     "data": {
      "text/plain": [
       "Index(['imdb_id', 'movie_title', 'title_year', 'budget_x',\n",
       "       'production_companies', 'production_countries', 'release_date',\n",
       "       'revenue', 'vote_average', 'director_name', 'director_facebook_likes',\n",
       "       'actor_3_facebook_likes', 'actor_2_name', 'actor_1_facebook_likes',\n",
       "       'gross', 'genres_y', 'actor_1_name', 'actor_3_name', 'language',\n",
       "       'country', 'actor_2_facebook_likes', 'imdb_score',\n",
       "       'movie_facebook_likes', 'Action', 'Adventure', 'Animation', 'Comedy',\n",
       "       'Crime', 'Documentary', 'Drama', 'Family', 'Fantasy', 'Foreign',\n",
       "       'History', 'Horror', 'Music', 'Mystery', 'Romance', 'Science Fiction',\n",
       "       'Thriller', 'War', 'Western'],\n",
       "      dtype='object')"
      ]
     },
     "execution_count": 52,
     "metadata": {},
     "output_type": "execute_result"
    }
   ],
   "source": [
    "clean_df1.columns"
   ]
  },
  {
   "cell_type": "markdown",
   "metadata": {},
   "source": [
    "#### Exploring Genres"
   ]
  },
  {
   "cell_type": "code",
   "execution_count": 53,
   "metadata": {},
   "outputs": [
    {
     "ename": "KeyError",
     "evalue": "'genres_x'",
     "output_type": "error",
     "traceback": [
      "\u001b[0;31m---------------------------------------------------------------------------\u001b[0m",
      "\u001b[0;31mKeyError\u001b[0m                                  Traceback (most recent call last)",
      "\u001b[0;32m~/opt/anaconda3/lib/python3.7/site-packages/pandas/core/indexes/base.py\u001b[0m in \u001b[0;36mget_loc\u001b[0;34m(self, key, method, tolerance)\u001b[0m\n\u001b[1;32m   2896\u001b[0m             \u001b[0;32mtry\u001b[0m\u001b[0;34m:\u001b[0m\u001b[0;34m\u001b[0m\u001b[0;34m\u001b[0m\u001b[0m\n\u001b[0;32m-> 2897\u001b[0;31m                 \u001b[0;32mreturn\u001b[0m \u001b[0mself\u001b[0m\u001b[0;34m.\u001b[0m\u001b[0m_engine\u001b[0m\u001b[0;34m.\u001b[0m\u001b[0mget_loc\u001b[0m\u001b[0;34m(\u001b[0m\u001b[0mkey\u001b[0m\u001b[0;34m)\u001b[0m\u001b[0;34m\u001b[0m\u001b[0;34m\u001b[0m\u001b[0m\n\u001b[0m\u001b[1;32m   2898\u001b[0m             \u001b[0;32mexcept\u001b[0m \u001b[0mKeyError\u001b[0m\u001b[0;34m:\u001b[0m\u001b[0;34m\u001b[0m\u001b[0;34m\u001b[0m\u001b[0m\n",
      "\u001b[0;32mpandas/_libs/index.pyx\u001b[0m in \u001b[0;36mpandas._libs.index.IndexEngine.get_loc\u001b[0;34m()\u001b[0m\n",
      "\u001b[0;32mpandas/_libs/index.pyx\u001b[0m in \u001b[0;36mpandas._libs.index.IndexEngine.get_loc\u001b[0;34m()\u001b[0m\n",
      "\u001b[0;32mpandas/_libs/hashtable_class_helper.pxi\u001b[0m in \u001b[0;36mpandas._libs.hashtable.PyObjectHashTable.get_item\u001b[0;34m()\u001b[0m\n",
      "\u001b[0;32mpandas/_libs/hashtable_class_helper.pxi\u001b[0m in \u001b[0;36mpandas._libs.hashtable.PyObjectHashTable.get_item\u001b[0;34m()\u001b[0m\n",
      "\u001b[0;31mKeyError\u001b[0m: 'genres_x'",
      "\nDuring handling of the above exception, another exception occurred:\n",
      "\u001b[0;31mKeyError\u001b[0m                                  Traceback (most recent call last)",
      "\u001b[0;32m<ipython-input-53-7ae645e7e9f1>\u001b[0m in \u001b[0;36m<module>\u001b[0;34m\u001b[0m\n\u001b[1;32m      1\u001b[0m \u001b[0;31m#Adapted from https://stackoverflow.com/questions/12680754/split-explode-pandas-dataframe-string-entry-to-separate-rows\u001b[0m\u001b[0;34m\u001b[0m\u001b[0;34m\u001b[0m\u001b[0;34m\u001b[0m\u001b[0m\n\u001b[1;32m      2\u001b[0m \u001b[0;31m#go through genres_x column and split on | to get the genre and apply to a series\u001b[0m\u001b[0;34m\u001b[0m\u001b[0;34m\u001b[0m\u001b[0;34m\u001b[0m\u001b[0m\n\u001b[0;32m----> 3\u001b[0;31m \u001b[0mclean\u001b[0m \u001b[0;34m=\u001b[0m \u001b[0mclean_df\u001b[0m\u001b[0;34m[\u001b[0m\u001b[0;34m'genres_x'\u001b[0m\u001b[0;34m]\u001b[0m\u001b[0;34m.\u001b[0m\u001b[0mstr\u001b[0m\u001b[0;34m.\u001b[0m\u001b[0msplit\u001b[0m\u001b[0;34m(\u001b[0m\u001b[0;34m'|'\u001b[0m\u001b[0;34m)\u001b[0m\u001b[0;34m.\u001b[0m\u001b[0mapply\u001b[0m\u001b[0;34m(\u001b[0m\u001b[0mpd\u001b[0m\u001b[0;34m.\u001b[0m\u001b[0mSeries\u001b[0m\u001b[0;34m,\u001b[0m \u001b[0;36m1\u001b[0m\u001b[0;34m)\u001b[0m\u001b[0;34m.\u001b[0m\u001b[0mstack\u001b[0m\u001b[0;34m(\u001b[0m\u001b[0;34m)\u001b[0m\u001b[0;34m\u001b[0m\u001b[0;34m\u001b[0m\u001b[0m\n\u001b[0m",
      "\u001b[0;32m~/opt/anaconda3/lib/python3.7/site-packages/pandas/core/frame.py\u001b[0m in \u001b[0;36m__getitem__\u001b[0;34m(self, key)\u001b[0m\n\u001b[1;32m   2978\u001b[0m             \u001b[0;32mif\u001b[0m \u001b[0mself\u001b[0m\u001b[0;34m.\u001b[0m\u001b[0mcolumns\u001b[0m\u001b[0;34m.\u001b[0m\u001b[0mnlevels\u001b[0m \u001b[0;34m>\u001b[0m \u001b[0;36m1\u001b[0m\u001b[0;34m:\u001b[0m\u001b[0;34m\u001b[0m\u001b[0;34m\u001b[0m\u001b[0m\n\u001b[1;32m   2979\u001b[0m                 \u001b[0;32mreturn\u001b[0m \u001b[0mself\u001b[0m\u001b[0;34m.\u001b[0m\u001b[0m_getitem_multilevel\u001b[0m\u001b[0;34m(\u001b[0m\u001b[0mkey\u001b[0m\u001b[0;34m)\u001b[0m\u001b[0;34m\u001b[0m\u001b[0;34m\u001b[0m\u001b[0m\n\u001b[0;32m-> 2980\u001b[0;31m             \u001b[0mindexer\u001b[0m \u001b[0;34m=\u001b[0m \u001b[0mself\u001b[0m\u001b[0;34m.\u001b[0m\u001b[0mcolumns\u001b[0m\u001b[0;34m.\u001b[0m\u001b[0mget_loc\u001b[0m\u001b[0;34m(\u001b[0m\u001b[0mkey\u001b[0m\u001b[0;34m)\u001b[0m\u001b[0;34m\u001b[0m\u001b[0;34m\u001b[0m\u001b[0m\n\u001b[0m\u001b[1;32m   2981\u001b[0m             \u001b[0;32mif\u001b[0m \u001b[0mis_integer\u001b[0m\u001b[0;34m(\u001b[0m\u001b[0mindexer\u001b[0m\u001b[0;34m)\u001b[0m\u001b[0;34m:\u001b[0m\u001b[0;34m\u001b[0m\u001b[0;34m\u001b[0m\u001b[0m\n\u001b[1;32m   2982\u001b[0m                 \u001b[0mindexer\u001b[0m \u001b[0;34m=\u001b[0m \u001b[0;34m[\u001b[0m\u001b[0mindexer\u001b[0m\u001b[0;34m]\u001b[0m\u001b[0;34m\u001b[0m\u001b[0;34m\u001b[0m\u001b[0m\n",
      "\u001b[0;32m~/opt/anaconda3/lib/python3.7/site-packages/pandas/core/indexes/base.py\u001b[0m in \u001b[0;36mget_loc\u001b[0;34m(self, key, method, tolerance)\u001b[0m\n\u001b[1;32m   2897\u001b[0m                 \u001b[0;32mreturn\u001b[0m \u001b[0mself\u001b[0m\u001b[0;34m.\u001b[0m\u001b[0m_engine\u001b[0m\u001b[0;34m.\u001b[0m\u001b[0mget_loc\u001b[0m\u001b[0;34m(\u001b[0m\u001b[0mkey\u001b[0m\u001b[0;34m)\u001b[0m\u001b[0;34m\u001b[0m\u001b[0;34m\u001b[0m\u001b[0m\n\u001b[1;32m   2898\u001b[0m             \u001b[0;32mexcept\u001b[0m \u001b[0mKeyError\u001b[0m\u001b[0;34m:\u001b[0m\u001b[0;34m\u001b[0m\u001b[0;34m\u001b[0m\u001b[0m\n\u001b[0;32m-> 2899\u001b[0;31m                 \u001b[0;32mreturn\u001b[0m \u001b[0mself\u001b[0m\u001b[0;34m.\u001b[0m\u001b[0m_engine\u001b[0m\u001b[0;34m.\u001b[0m\u001b[0mget_loc\u001b[0m\u001b[0;34m(\u001b[0m\u001b[0mself\u001b[0m\u001b[0;34m.\u001b[0m\u001b[0m_maybe_cast_indexer\u001b[0m\u001b[0;34m(\u001b[0m\u001b[0mkey\u001b[0m\u001b[0;34m)\u001b[0m\u001b[0;34m)\u001b[0m\u001b[0;34m\u001b[0m\u001b[0;34m\u001b[0m\u001b[0m\n\u001b[0m\u001b[1;32m   2900\u001b[0m         \u001b[0mindexer\u001b[0m \u001b[0;34m=\u001b[0m \u001b[0mself\u001b[0m\u001b[0;34m.\u001b[0m\u001b[0mget_indexer\u001b[0m\u001b[0;34m(\u001b[0m\u001b[0;34m[\u001b[0m\u001b[0mkey\u001b[0m\u001b[0;34m]\u001b[0m\u001b[0;34m,\u001b[0m \u001b[0mmethod\u001b[0m\u001b[0;34m=\u001b[0m\u001b[0mmethod\u001b[0m\u001b[0;34m,\u001b[0m \u001b[0mtolerance\u001b[0m\u001b[0;34m=\u001b[0m\u001b[0mtolerance\u001b[0m\u001b[0;34m)\u001b[0m\u001b[0;34m\u001b[0m\u001b[0;34m\u001b[0m\u001b[0m\n\u001b[1;32m   2901\u001b[0m         \u001b[0;32mif\u001b[0m \u001b[0mindexer\u001b[0m\u001b[0;34m.\u001b[0m\u001b[0mndim\u001b[0m \u001b[0;34m>\u001b[0m \u001b[0;36m1\u001b[0m \u001b[0;32mor\u001b[0m \u001b[0mindexer\u001b[0m\u001b[0;34m.\u001b[0m\u001b[0msize\u001b[0m \u001b[0;34m>\u001b[0m \u001b[0;36m1\u001b[0m\u001b[0;34m:\u001b[0m\u001b[0;34m\u001b[0m\u001b[0;34m\u001b[0m\u001b[0m\n",
      "\u001b[0;32mpandas/_libs/index.pyx\u001b[0m in \u001b[0;36mpandas._libs.index.IndexEngine.get_loc\u001b[0;34m()\u001b[0m\n",
      "\u001b[0;32mpandas/_libs/index.pyx\u001b[0m in \u001b[0;36mpandas._libs.index.IndexEngine.get_loc\u001b[0;34m()\u001b[0m\n",
      "\u001b[0;32mpandas/_libs/hashtable_class_helper.pxi\u001b[0m in \u001b[0;36mpandas._libs.hashtable.PyObjectHashTable.get_item\u001b[0;34m()\u001b[0m\n",
      "\u001b[0;32mpandas/_libs/hashtable_class_helper.pxi\u001b[0m in \u001b[0;36mpandas._libs.hashtable.PyObjectHashTable.get_item\u001b[0;34m()\u001b[0m\n",
      "\u001b[0;31mKeyError\u001b[0m: 'genres_x'"
     ]
    }
   ],
   "source": [
    "#Adapted from https://stackoverflow.com/questions/12680754/split-explode-pandas-dataframe-string-entry-to-separate-rows\n",
    "#go through genres_x column and split on | to get the genre and apply to a series\n",
    "clean = clean_df['genres_x'].str.split('|').apply(pd.Series, 1).stack()"
   ]
  },
  {
   "cell_type": "code",
   "execution_count": null,
   "metadata": {},
   "outputs": [],
   "source": [
    "clean.index = clean.index.droplevel(-1) #drop the multi-index\n",
    "clean.name = 'genres' #add new column with the genre names\n",
    "clean_df2 = clean_df.join(clean) #join back df"
   ]
  },
  {
   "cell_type": "code",
   "execution_count": null,
   "metadata": {},
   "outputs": [],
   "source": [
    "#clean_df2 = clean_df2.drop(['genres_x', 'genres_y'], 1)\n",
    "clean_df2.columns"
   ]
  },
  {
   "cell_type": "code",
   "execution_count": null,
   "metadata": {},
   "outputs": [],
   "source": [
    "genre = (pd.DataFrame(clean_df2.groupby('genres').movie_title.nunique())).sort_values('movie_title', ascending=False)\n",
    "genre"
   ]
  },
  {
   "cell_type": "code",
   "execution_count": null,
   "metadata": {},
   "outputs": [],
   "source": [
    "plt.figure(figsize=(20, 8))\n",
    "ax = sns.barplot(x=\"movie_title\", y=genre.index, data=genre,dodge=False, palette='muted');\n",
    "ax.set(xlabel='Movie Count', ylabel='Genres',title='Movies per genre')\n",
    "plt.show()"
   ]
  },
  {
   "cell_type": "code",
   "execution_count": null,
   "metadata": {},
   "outputs": [],
   "source": [
    "genres = Counter([item for sublist in lsist(clean_df2['genre'])])"
   ]
  },
  {
   "cell_type": "markdown",
   "metadata": {},
   "source": [
    "## Analysis Questions"
   ]
  },
  {
   "cell_type": "markdown",
   "metadata": {},
   "source": [
    "* Can we can predict a film’s genre based on its budget or other factors?\n",
    "* Does social media have an impact on movie success? Do more social media likes lead to more profit generated?\n",
    "* Looking at the patterns of budget spend over time - is there a noticeable increase or decrease. If so why?\n",
    "* Predicting budget spend based on the genre of the movie\n",
    "* Does the time of year a movie is released impact profit?\n",
    "* Does a director’s IMDB score have any impact on popularity or profit ?\n",
    "* Overall do economic impacts lead to a decrease in film uniqueness and originality?\n"
   ]
  },
  {
   "cell_type": "markdown",
   "metadata": {},
   "source": [
    "### Prediciting a film's genre "
   ]
  },
  {
   "cell_type": "markdown",
   "metadata": {},
   "source": [
    "#### KNN"
   ]
  },
  {
   "cell_type": "code",
   "execution_count": null,
   "metadata": {},
   "outputs": [],
   "source": [
    "train, test = train_test_split(clean_df2, test_size=0.2, random_state=22)\n",
    "print(test.shape)\n",
    "print(train.shape)"
   ]
  },
  {
   "cell_type": "code",
   "execution_count": null,
   "metadata": {},
   "outputs": [],
   "source": [
    "x_train = train[['budget_x', 'revenue']]\n",
    "y_train = train['genres']\n",
    "\n",
    "x_test = test[['budget_x','revenue']]\n",
    "y_test = test['genres']\n",
    "\n",
    "print('x_train shape:', x_train.shape)\n",
    "print('y_train shape:', y_train.shape)\n",
    "print('x_test shape:', x_test.shape)\n",
    "print('y_test shape:', y_test.shape)"
   ]
  },
  {
   "cell_type": "code",
   "execution_count": null,
   "metadata": {},
   "outputs": [],
   "source": [
    "from sklearn.neighbors import KNeighborsClassifier\n",
    "knn = KNeighborsClassifier(n_neighbors=1)"
   ]
  },
  {
   "cell_type": "code",
   "execution_count": null,
   "metadata": {},
   "outputs": [],
   "source": [
    "knn.fit(x_train, y_train)"
   ]
  },
  {
   "cell_type": "code",
   "execution_count": null,
   "metadata": {},
   "outputs": [],
   "source": [
    "y_train_p = knn.predict(x_train)\n",
    "\n",
    "print('Training set metrics')\n",
    "print('Accuracy score: ', accuracy_score(y_train_p, y_train)) \n"
   ]
  },
  {
   "cell_type": "code",
   "execution_count": null,
   "metadata": {},
   "outputs": [],
   "source": [
    "y_test_p = knn.predict(x_test)\n",
    "\n",
    "print('Testing set metrics')\n",
    "print('Accuracy score: ', accuracy_score(y_test_p, y_test)) \n",
    "\n"
   ]
  },
  {
   "cell_type": "markdown",
   "metadata": {},
   "source": [
    "As we can see the model is performing poorly on the training set and extremly poorly on the test set. A reason for this may be the high number of variance in the provided values. Where budget and revenue can range anywhere from the tens of thousands up to millions of dollars."
   ]
  },
  {
   "cell_type": "markdown",
   "metadata": {},
   "source": [
    "#### Cross Fold Validation"
   ]
  },
  {
   "cell_type": "markdown",
   "metadata": {},
   "source": [
    "Fine tuning the parameters with CV looking at the accurcay score of different K values and CV folds."
   ]
  },
  {
   "cell_type": "code",
   "execution_count": null,
   "metadata": {},
   "outputs": [],
   "source": [
    "from sklearn.neighbors import KNeighborsClassifier\n",
    "from sklearn.model_selection import cross_val_score\n",
    "neighbors = list(range(1,11))\n",
    "cv_scores = []\n",
    "for n in neighbors:\n",
    "    knn = KNeighborsClassifier(n_neighbors=n)\n",
    "    scores = cross_val_score(knn, x_test, y_test, cv=10, scoring='accuracy')\n",
    "    cv_scores.append(scores.mean()) #get mean for each fold\n",
    "print(cv_scores)"
   ]
  },
  {
   "cell_type": "code",
   "execution_count": null,
   "metadata": {},
   "outputs": [],
   "source": [
    "plt.plot(neighbors, cv_scores)\n",
    "plt.ylabel(\"10-fold acc score\")\n",
    "plt.title(\"10-fold acc scores at different k values\")\n",
    "plt.show()"
   ]
  },
  {
   "cell_type": "markdown",
   "metadata": {},
   "source": [
    "#### Gaussian Naive Bayes"
   ]
  },
  {
   "cell_type": "code",
   "execution_count": null,
   "metadata": {},
   "outputs": [],
   "source": [
    "from sklearn.naive_bayes import GaussianNB\n",
    "gnb = GaussianNB()\n",
    "gnb.fit(x_train, y_train)"
   ]
  },
  {
   "cell_type": "code",
   "execution_count": null,
   "metadata": {},
   "outputs": [],
   "source": [
    "y_train_pred = gnb.predict(x_train)\n",
    "print('Accuracy score on training set: ', accuracy_score(y_train_pred, y_train)) "
   ]
  },
  {
   "cell_type": "code",
   "execution_count": null,
   "metadata": {},
   "outputs": [],
   "source": [
    "y_test_pred = gnb.predict(x_test)\n",
    "print('Accuracy score on testing set: ', accuracy_score(y_test, y_test_pred))"
   ]
  },
  {
   "cell_type": "markdown",
   "metadata": {},
   "source": [
    "In terms of overfitting Gaussian Navie Bayes is performing better than KNN, but still the model is predicitng very poorly."
   ]
  },
  {
   "cell_type": "markdown",
   "metadata": {},
   "source": [
    "#### Logistic Regression"
   ]
  },
  {
   "cell_type": "code",
   "execution_count": null,
   "metadata": {},
   "outputs": [],
   "source": [
    "from sklearn import linear_model\n",
    "from sklearn.linear_model import LogisticRegression\n",
    "lrmodel = LogisticRegression()\n",
    "lrmodel.fit(x_train,y_train)"
   ]
  },
  {
   "cell_type": "code",
   "execution_count": null,
   "metadata": {},
   "outputs": [],
   "source": [
    "print(\"Accuracy score for y_predict: \",accuracy_score(y_test,lry_pred))"
   ]
  },
  {
   "cell_type": "markdown",
   "metadata": {},
   "source": []
  },
  {
   "cell_type": "markdown",
   "metadata": {},
   "source": [
    "#### MLP Classifier"
   ]
  },
  {
   "cell_type": "code",
   "execution_count": null,
   "metadata": {},
   "outputs": [],
   "source": [
    "from sklearn.neural_network import MLPClassifier\n",
    "mlp = MLPClassifier(random_state=0)\n",
    "mlp.fit(x_train,y_train)"
   ]
  },
  {
   "cell_type": "code",
   "execution_count": null,
   "metadata": {},
   "outputs": [],
   "source": [
    "mlpy_train_pred = mlp.predict(x_train)\n",
    "mlpy_test_pred = mlp.predict(x_test)\n",
    "print(\"train acc.: \", accuracy_score(y_train, mlpy_train_pred))\n",
    "print(\"test acc.: \", accuracy_score(y_test,mlpy_test_pred))"
   ]
  },
  {
   "cell_type": "markdown",
   "metadata": {},
   "source": [
    "MLP is not an effective predictor for genre for either of the implementations of train or test splits of data. "
   ]
  },
  {
   "cell_type": "markdown",
   "metadata": {},
   "source": [
    "### Decision Tree Classifier\n"
   ]
  },
  {
   "cell_type": "code",
   "execution_count": null,
   "metadata": {},
   "outputs": [],
   "source": [
    "from sklearn.tree import DecisionTreeClassifier\n",
    "dtc = DecisionTreeClassifier\n",
    "dtc.fit = (x_train, y_train)"
   ]
  },
  {
   "cell_type": "code",
   "execution_count": null,
   "metadata": {},
   "outputs": [],
   "source": [
    "dtc_y_train_pred = dtc.predict(x_train)\n",
    "print('Accuracy score on training set: ', accuracy_score(dtc_y_train_pred, y_train))"
   ]
  },
  {
   "cell_type": "code",
   "execution_count": null,
   "metadata": {},
   "outputs": [],
   "source": [
    "dtc_y_test_pred = dtc.predict(x_test)\n",
    "print('Accuracy score on training set: ', accuracy_score(dtc_y_test_pred, y_test))"
   ]
  }
 ],
 "metadata": {
  "kernelspec": {
   "display_name": "Python 3",
   "language": "python",
   "name": "python3"
  },
  "language_info": {
   "codemirror_mode": {
    "name": "ipython",
    "version": 3
   },
   "file_extension": ".py",
   "mimetype": "text/x-python",
   "name": "python",
   "nbconvert_exporter": "python",
   "pygments_lexer": "ipython3",
   "version": "3.7.4"
  },
  "varInspector": {
   "cols": {
    "lenName": 16,
    "lenType": 16,
    "lenVar": 40
   },
   "kernels_config": {
    "python": {
     "delete_cmd_postfix": "",
     "delete_cmd_prefix": "del ",
     "library": "var_list.py",
     "varRefreshCmd": "print(var_dic_list())"
    },
    "r": {
     "delete_cmd_postfix": ") ",
     "delete_cmd_prefix": "rm(",
     "library": "var_list.r",
     "varRefreshCmd": "cat(var_dic_list()) "
    }
   },
   "oldHeight": 187,
   "position": {
    "height": "182px",
    "left": "1899px",
    "right": "20px",
    "top": "131px",
    "width": "491px"
   },
   "types_to_exclude": [
    "module",
    "function",
    "builtin_function_or_method",
    "instance",
    "_Feature"
   ],
   "varInspector_section_display": "block",
   "window_display": true
  }
 },
 "nbformat": 4,
 "nbformat_minor": 2
}
