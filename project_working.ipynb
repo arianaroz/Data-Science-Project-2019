{
 "cells": [
  {
   "cell_type": "markdown",
   "metadata": {},
   "source": [
    "# The Economics of Film\n",
    "#### By Ariana Rozsnyoi, Caitlin Apcar, Mikhail Pavlov and Zachary Ash"
   ]
  },
  {
   "cell_type": "markdown",
   "metadata": {},
   "source": [
    "# Introduction\n",
    "\n",
    "Since the invention of the camera and moving pictures, film has been the main way for the world to experience media. However, with almost every household now owning a television set and the rise in streaming services such as Netflix, it can be argued that the popularity of going to the cinema to see a film is decreasing. Even with this change in the way we consume media, there are still films that hit the billion dollar box office mark - a definite hallmark of a film's success. <br>\n",
    "<br>\n",
    "What else determines a film's success? Do the director, actors and production companies play a part in how a film will perform at the box office? Can we predict the success of a film based on this?"
   ]
  },
  {
   "cell_type": "markdown",
   "metadata": {},
   "source": [
    "# Datasets\n",
    "\n",
    "We used 3 datasets in this analysis:\n",
    "* [IMDB dataset](https://data.world/popculture/imdb-5000-movie-dataset)\n",
    "    * This dataset contains 28 variables for 5043 movies, spanning across 100 years in 66 countries. \n",
    "* [Movie Revenue dataset](https://zenodo.org/record/1240586#.Xb-Vqi1L21v) \n",
    "    * This dataset contains 14 variables for 212385 movies up until 2017."
   ]
  },
  {
   "cell_type": "markdown",
   "metadata": {},
   "source": [
    "## Import statements"
   ]
  },
  {
   "cell_type": "code",
   "execution_count": 1,
   "metadata": {},
   "outputs": [],
   "source": [
    "import pandas as pd\n",
    "import numpy as np\n",
    "import seaborn as sns\n",
    "import matplotlib.pyplot as plt\n",
    "from sklearn.model_selection import train_test_split\n",
    "from sklearn.neighbors import KNeighborsClassifier\n",
    "from sklearn.model_selection import cross_val_score\n",
    "from sklearn.metrics import accuracy_score, confusion_matrix\n",
    "from sklearn.feature_selection import RFE\n",
    "from sklearn.metrics import r2_score\n",
    "from sklearn.metrics import f1_score\n",
    "from sklearn.metrics import mean_absolute_error\n",
    "from sklearn.metrics import mean_squared_error\n",
    "from sklearn.naive_bayes import GaussianNB\n",
    "from sklearn import linear_model\n",
    "from sklearn.linear_model import LogisticRegression\n",
    "from sklearn.neural_network import MLPClassifier\n",
    "from sklearn.tree import DecisionTreeRegressor\n",
    "from collections import Counter\n",
    "from datetime import datetime\n",
    "import matplotlib.dates as mdates\n",
    "from matplotlib.dates import DateFormatter\n",
    "\n",
    "%matplotlib inline\n",
    "import warnings\n",
    "warnings.simplefilter('ignore')\n",
    "from wordcloud import WordCloud"
   ]
  },
  {
   "cell_type": "markdown",
   "metadata": {},
   "source": [
    "## Creating a usable Dataframe\n",
    "\n",
    "With our data coming from two seperate sources, it was ideal to merge them into a single data set as they both contained the same films but had varying columns."
   ]
  },
  {
   "cell_type": "code",
   "execution_count": 2,
   "metadata": {},
   "outputs": [],
   "source": [
    "#First Dataset \n",
    "\n",
    "movie_data = pd.read_csv(\"data/movie_metadata.csv\")"
   ]
  },
  {
   "cell_type": "code",
   "execution_count": 3,
   "metadata": {},
   "outputs": [
    {
     "data": {
      "text/plain": [
       "(5043, 28)"
      ]
     },
     "execution_count": 3,
     "metadata": {},
     "output_type": "execute_result"
    }
   ],
   "source": [
    "movie_data.shape"
   ]
  },
  {
   "cell_type": "code",
   "execution_count": 4,
   "metadata": {},
   "outputs": [
    {
     "data": {
      "text/html": [
       "<div>\n",
       "<style scoped>\n",
       "    .dataframe tbody tr th:only-of-type {\n",
       "        vertical-align: middle;\n",
       "    }\n",
       "\n",
       "    .dataframe tbody tr th {\n",
       "        vertical-align: top;\n",
       "    }\n",
       "\n",
       "    .dataframe thead th {\n",
       "        text-align: right;\n",
       "    }\n",
       "</style>\n",
       "<table border=\"1\" class=\"dataframe\">\n",
       "  <thead>\n",
       "    <tr style=\"text-align: right;\">\n",
       "      <th></th>\n",
       "      <th>color</th>\n",
       "      <th>director_name</th>\n",
       "      <th>num_critic_for_reviews</th>\n",
       "      <th>duration</th>\n",
       "      <th>director_facebook_likes</th>\n",
       "      <th>actor_3_facebook_likes</th>\n",
       "      <th>actor_2_name</th>\n",
       "      <th>actor_1_facebook_likes</th>\n",
       "      <th>gross</th>\n",
       "      <th>genres</th>\n",
       "      <th>...</th>\n",
       "      <th>num_user_for_reviews</th>\n",
       "      <th>language</th>\n",
       "      <th>country</th>\n",
       "      <th>content_rating</th>\n",
       "      <th>budget</th>\n",
       "      <th>title_year</th>\n",
       "      <th>actor_2_facebook_likes</th>\n",
       "      <th>imdb_score</th>\n",
       "      <th>aspect_ratio</th>\n",
       "      <th>movie_facebook_likes</th>\n",
       "    </tr>\n",
       "  </thead>\n",
       "  <tbody>\n",
       "    <tr>\n",
       "      <th>0</th>\n",
       "      <td>Color</td>\n",
       "      <td>James Cameron</td>\n",
       "      <td>723.0</td>\n",
       "      <td>178.0</td>\n",
       "      <td>0.0</td>\n",
       "      <td>855.0</td>\n",
       "      <td>Joel David Moore</td>\n",
       "      <td>1000.0</td>\n",
       "      <td>760505847.0</td>\n",
       "      <td>Action|Adventure|Fantasy|Sci-Fi</td>\n",
       "      <td>...</td>\n",
       "      <td>3054.0</td>\n",
       "      <td>English</td>\n",
       "      <td>USA</td>\n",
       "      <td>PG-13</td>\n",
       "      <td>237000000.0</td>\n",
       "      <td>2009.0</td>\n",
       "      <td>936.0</td>\n",
       "      <td>7.9</td>\n",
       "      <td>1.78</td>\n",
       "      <td>33000</td>\n",
       "    </tr>\n",
       "    <tr>\n",
       "      <th>1</th>\n",
       "      <td>Color</td>\n",
       "      <td>Gore Verbinski</td>\n",
       "      <td>302.0</td>\n",
       "      <td>169.0</td>\n",
       "      <td>563.0</td>\n",
       "      <td>1000.0</td>\n",
       "      <td>Orlando Bloom</td>\n",
       "      <td>40000.0</td>\n",
       "      <td>309404152.0</td>\n",
       "      <td>Action|Adventure|Fantasy</td>\n",
       "      <td>...</td>\n",
       "      <td>1238.0</td>\n",
       "      <td>English</td>\n",
       "      <td>USA</td>\n",
       "      <td>PG-13</td>\n",
       "      <td>300000000.0</td>\n",
       "      <td>2007.0</td>\n",
       "      <td>5000.0</td>\n",
       "      <td>7.1</td>\n",
       "      <td>2.35</td>\n",
       "      <td>0</td>\n",
       "    </tr>\n",
       "    <tr>\n",
       "      <th>2</th>\n",
       "      <td>Color</td>\n",
       "      <td>Sam Mendes</td>\n",
       "      <td>602.0</td>\n",
       "      <td>148.0</td>\n",
       "      <td>0.0</td>\n",
       "      <td>161.0</td>\n",
       "      <td>Rory Kinnear</td>\n",
       "      <td>11000.0</td>\n",
       "      <td>200074175.0</td>\n",
       "      <td>Action|Adventure|Thriller</td>\n",
       "      <td>...</td>\n",
       "      <td>994.0</td>\n",
       "      <td>English</td>\n",
       "      <td>UK</td>\n",
       "      <td>PG-13</td>\n",
       "      <td>245000000.0</td>\n",
       "      <td>2015.0</td>\n",
       "      <td>393.0</td>\n",
       "      <td>6.8</td>\n",
       "      <td>2.35</td>\n",
       "      <td>85000</td>\n",
       "    </tr>\n",
       "    <tr>\n",
       "      <th>3</th>\n",
       "      <td>Color</td>\n",
       "      <td>Christopher Nolan</td>\n",
       "      <td>813.0</td>\n",
       "      <td>164.0</td>\n",
       "      <td>22000.0</td>\n",
       "      <td>23000.0</td>\n",
       "      <td>Christian Bale</td>\n",
       "      <td>27000.0</td>\n",
       "      <td>448130642.0</td>\n",
       "      <td>Action|Thriller</td>\n",
       "      <td>...</td>\n",
       "      <td>2701.0</td>\n",
       "      <td>English</td>\n",
       "      <td>USA</td>\n",
       "      <td>PG-13</td>\n",
       "      <td>250000000.0</td>\n",
       "      <td>2012.0</td>\n",
       "      <td>23000.0</td>\n",
       "      <td>8.5</td>\n",
       "      <td>2.35</td>\n",
       "      <td>164000</td>\n",
       "    </tr>\n",
       "    <tr>\n",
       "      <th>4</th>\n",
       "      <td>NaN</td>\n",
       "      <td>Doug Walker</td>\n",
       "      <td>NaN</td>\n",
       "      <td>NaN</td>\n",
       "      <td>131.0</td>\n",
       "      <td>NaN</td>\n",
       "      <td>Rob Walker</td>\n",
       "      <td>131.0</td>\n",
       "      <td>NaN</td>\n",
       "      <td>Documentary</td>\n",
       "      <td>...</td>\n",
       "      <td>NaN</td>\n",
       "      <td>NaN</td>\n",
       "      <td>NaN</td>\n",
       "      <td>NaN</td>\n",
       "      <td>NaN</td>\n",
       "      <td>NaN</td>\n",
       "      <td>12.0</td>\n",
       "      <td>7.1</td>\n",
       "      <td>NaN</td>\n",
       "      <td>0</td>\n",
       "    </tr>\n",
       "  </tbody>\n",
       "</table>\n",
       "<p>5 rows × 28 columns</p>\n",
       "</div>"
      ],
      "text/plain": [
       "   color      director_name  num_critic_for_reviews  duration  \\\n",
       "0  Color      James Cameron                   723.0     178.0   \n",
       "1  Color     Gore Verbinski                   302.0     169.0   \n",
       "2  Color         Sam Mendes                   602.0     148.0   \n",
       "3  Color  Christopher Nolan                   813.0     164.0   \n",
       "4    NaN        Doug Walker                     NaN       NaN   \n",
       "\n",
       "   director_facebook_likes  actor_3_facebook_likes      actor_2_name  \\\n",
       "0                      0.0                   855.0  Joel David Moore   \n",
       "1                    563.0                  1000.0     Orlando Bloom   \n",
       "2                      0.0                   161.0      Rory Kinnear   \n",
       "3                  22000.0                 23000.0    Christian Bale   \n",
       "4                    131.0                     NaN        Rob Walker   \n",
       "\n",
       "   actor_1_facebook_likes        gross                           genres  ...  \\\n",
       "0                  1000.0  760505847.0  Action|Adventure|Fantasy|Sci-Fi  ...   \n",
       "1                 40000.0  309404152.0         Action|Adventure|Fantasy  ...   \n",
       "2                 11000.0  200074175.0        Action|Adventure|Thriller  ...   \n",
       "3                 27000.0  448130642.0                  Action|Thriller  ...   \n",
       "4                   131.0          NaN                      Documentary  ...   \n",
       "\n",
       "  num_user_for_reviews language  country  content_rating       budget  \\\n",
       "0               3054.0  English      USA           PG-13  237000000.0   \n",
       "1               1238.0  English      USA           PG-13  300000000.0   \n",
       "2                994.0  English       UK           PG-13  245000000.0   \n",
       "3               2701.0  English      USA           PG-13  250000000.0   \n",
       "4                  NaN      NaN      NaN             NaN          NaN   \n",
       "\n",
       "   title_year actor_2_facebook_likes imdb_score  aspect_ratio  \\\n",
       "0      2009.0                  936.0        7.9          1.78   \n",
       "1      2007.0                 5000.0        7.1          2.35   \n",
       "2      2015.0                  393.0        6.8          2.35   \n",
       "3      2012.0                23000.0        8.5          2.35   \n",
       "4         NaN                   12.0        7.1           NaN   \n",
       "\n",
       "  movie_facebook_likes  \n",
       "0                33000  \n",
       "1                    0  \n",
       "2                85000  \n",
       "3               164000  \n",
       "4                    0  \n",
       "\n",
       "[5 rows x 28 columns]"
      ]
     },
     "execution_count": 4,
     "metadata": {},
     "output_type": "execute_result"
    }
   ],
   "source": [
    "movie_data.head()"
   ]
  },
  {
   "cell_type": "code",
   "execution_count": 5,
   "metadata": {},
   "outputs": [],
   "source": [
    "#Second Dataset \n",
    "movies = pd.read_csv(\"data/movies.csv\")"
   ]
  },
  {
   "cell_type": "code",
   "execution_count": 6,
   "metadata": {},
   "outputs": [
    {
     "data": {
      "text/plain": [
       "(212385, 14)"
      ]
     },
     "execution_count": 6,
     "metadata": {},
     "output_type": "execute_result"
    }
   ],
   "source": [
    "movies.shape"
   ]
  },
  {
   "cell_type": "code",
   "execution_count": 7,
   "metadata": {},
   "outputs": [
    {
     "data": {
      "text/html": [
       "<div>\n",
       "<style scoped>\n",
       "    .dataframe tbody tr th:only-of-type {\n",
       "        vertical-align: middle;\n",
       "    }\n",
       "\n",
       "    .dataframe tbody tr th {\n",
       "        vertical-align: top;\n",
       "    }\n",
       "\n",
       "    .dataframe thead th {\n",
       "        text-align: right;\n",
       "    }\n",
       "</style>\n",
       "<table border=\"1\" class=\"dataframe\">\n",
       "  <thead>\n",
       "    <tr style=\"text-align: right;\">\n",
       "      <th></th>\n",
       "      <th>id</th>\n",
       "      <th>budget</th>\n",
       "      <th>genres</th>\n",
       "      <th>imdb_id</th>\n",
       "      <th>original_language</th>\n",
       "      <th>original_title</th>\n",
       "      <th>popularity</th>\n",
       "      <th>production_companies</th>\n",
       "      <th>production_countries</th>\n",
       "      <th>release_date</th>\n",
       "      <th>revenue</th>\n",
       "      <th>title</th>\n",
       "      <th>vote_average</th>\n",
       "      <th>vote_count</th>\n",
       "    </tr>\n",
       "  </thead>\n",
       "  <tbody>\n",
       "    <tr>\n",
       "      <th>0</th>\n",
       "      <td>5</td>\n",
       "      <td>4000000</td>\n",
       "      <td>Crime|Comedy</td>\n",
       "      <td>tt0113101</td>\n",
       "      <td>en</td>\n",
       "      <td>Four Rooms</td>\n",
       "      <td>1.698</td>\n",
       "      <td>Miramax Films</td>\n",
       "      <td>United States of America</td>\n",
       "      <td>25-12-95</td>\n",
       "      <td>4300000</td>\n",
       "      <td>Four Rooms</td>\n",
       "      <td>6.5</td>\n",
       "      <td>485</td>\n",
       "    </tr>\n",
       "    <tr>\n",
       "      <th>1</th>\n",
       "      <td>6</td>\n",
       "      <td>0</td>\n",
       "      <td>Action|Thriller|Crime</td>\n",
       "      <td>tt0107286</td>\n",
       "      <td>en</td>\n",
       "      <td>Judgment Night</td>\n",
       "      <td>1.32287</td>\n",
       "      <td>Universal Pictures</td>\n",
       "      <td>Japan</td>\n",
       "      <td>15-10-93</td>\n",
       "      <td>12136938</td>\n",
       "      <td>Judgment Night</td>\n",
       "      <td>6.5</td>\n",
       "      <td>69</td>\n",
       "    </tr>\n",
       "    <tr>\n",
       "      <th>2</th>\n",
       "      <td>8</td>\n",
       "      <td>42000</td>\n",
       "      <td>Documentary</td>\n",
       "      <td>tt0825671</td>\n",
       "      <td>en</td>\n",
       "      <td>Life in Loops (A Megacities RMX)</td>\n",
       "      <td>0.054716</td>\n",
       "      <td>inLoops</td>\n",
       "      <td>Austria</td>\n",
       "      <td>01-01-06</td>\n",
       "      <td>0</td>\n",
       "      <td>Life in Loops (A Megacities RMX)</td>\n",
       "      <td>6.4</td>\n",
       "      <td>4</td>\n",
       "    </tr>\n",
       "    <tr>\n",
       "      <th>3</th>\n",
       "      <td>11</td>\n",
       "      <td>11000000</td>\n",
       "      <td>Adventure|Action|Science Fiction</td>\n",
       "      <td>tt0076759</td>\n",
       "      <td>en</td>\n",
       "      <td>Star Wars</td>\n",
       "      <td>10.492614</td>\n",
       "      <td>Lucasfilm</td>\n",
       "      <td>United States of America</td>\n",
       "      <td>25-05-77</td>\n",
       "      <td>775398007</td>\n",
       "      <td>Star Wars</td>\n",
       "      <td>8.0</td>\n",
       "      <td>6168</td>\n",
       "    </tr>\n",
       "    <tr>\n",
       "      <th>4</th>\n",
       "      <td>12</td>\n",
       "      <td>94000000</td>\n",
       "      <td>Animation|Family</td>\n",
       "      <td>tt0266543</td>\n",
       "      <td>en</td>\n",
       "      <td>Finding Nemo</td>\n",
       "      <td>9.915573</td>\n",
       "      <td>Pixar Animation Studios</td>\n",
       "      <td>United States of America</td>\n",
       "      <td>30-05-03</td>\n",
       "      <td>940335536</td>\n",
       "      <td>Finding Nemo</td>\n",
       "      <td>7.6</td>\n",
       "      <td>5531</td>\n",
       "    </tr>\n",
       "  </tbody>\n",
       "</table>\n",
       "</div>"
      ],
      "text/plain": [
       "   id    budget                            genres    imdb_id  \\\n",
       "0   5   4000000                      Crime|Comedy  tt0113101   \n",
       "1   6         0             Action|Thriller|Crime  tt0107286   \n",
       "2   8     42000                       Documentary  tt0825671   \n",
       "3  11  11000000  Adventure|Action|Science Fiction  tt0076759   \n",
       "4  12  94000000                  Animation|Family  tt0266543   \n",
       "\n",
       "  original_language                    original_title popularity  \\\n",
       "0                en                        Four Rooms      1.698   \n",
       "1                en                    Judgment Night    1.32287   \n",
       "2                en  Life in Loops (A Megacities RMX)   0.054716   \n",
       "3                en                         Star Wars  10.492614   \n",
       "4                en                      Finding Nemo   9.915573   \n",
       "\n",
       "      production_companies      production_countries release_date    revenue  \\\n",
       "0            Miramax Films  United States of America     25-12-95    4300000   \n",
       "1       Universal Pictures                     Japan     15-10-93   12136938   \n",
       "2                  inLoops                   Austria     01-01-06          0   \n",
       "3                Lucasfilm  United States of America     25-05-77  775398007   \n",
       "4  Pixar Animation Studios  United States of America     30-05-03  940335536   \n",
       "\n",
       "                              title  vote_average  vote_count  \n",
       "0                        Four Rooms           6.5         485  \n",
       "1                    Judgment Night           6.5          69  \n",
       "2  Life in Loops (A Megacities RMX)           6.4           4  \n",
       "3                         Star Wars           8.0        6168  \n",
       "4                      Finding Nemo           7.6        5531  "
      ]
     },
     "execution_count": 7,
     "metadata": {},
     "output_type": "execute_result"
    }
   ],
   "source": [
    "movies.head()"
   ]
  },
  {
   "cell_type": "code",
   "execution_count": 8,
   "metadata": {
    "scrolled": true
   },
   "outputs": [
    {
     "data": {
      "text/plain": [
       "<bound method IndexOpsMixin.tolist of Index(['id', 'budget', 'genres', 'imdb_id', 'original_language',\n",
       "       'original_title', 'popularity', 'production_companies',\n",
       "       'production_countries', 'release_date', 'revenue', 'title',\n",
       "       'vote_average', 'vote_count'],\n",
       "      dtype='object')>"
      ]
     },
     "execution_count": 8,
     "metadata": {},
     "output_type": "execute_result"
    }
   ],
   "source": [
    "movies.columns.tolist "
   ]
  },
  {
   "cell_type": "markdown",
   "metadata": {},
   "source": [
    "To easily join the data frames we first need to extract the `IMDB ID` from the movie link url in the first data frame."
   ]
  },
  {
   "cell_type": "code",
   "execution_count": 9,
   "metadata": {},
   "outputs": [
    {
     "name": "stdout",
     "output_type": "stream",
     "text": [
      "http://www.imdb.com/title/tt2379713/?ref_=fn_tt_tt_1\n"
     ]
    },
    {
     "data": {
      "text/plain": [
       "'tt2379713'"
      ]
     },
     "execution_count": 9,
     "metadata": {},
     "output_type": "execute_result"
    }
   ],
   "source": [
    "print(movie_data['movie_imdb_link'][2])\n",
    "test = movie_data['movie_imdb_link'][2].split('/')\n",
    "test[-2]"
   ]
  },
  {
   "cell_type": "code",
   "execution_count": 10,
   "metadata": {},
   "outputs": [
    {
     "data": {
      "text/plain": [
       "5043"
      ]
     },
     "execution_count": 10,
     "metadata": {},
     "output_type": "execute_result"
    }
   ],
   "source": [
    "len(movie_data['movie_imdb_link'])"
   ]
  },
  {
   "cell_type": "code",
   "execution_count": 11,
   "metadata": {},
   "outputs": [],
   "source": [
    "#get length of the col\n",
    "total_len = len(movie_data['movie_imdb_link'])\n",
    "values = []\n",
    "for i in range(total_len):\n",
    "    value = movie_data['movie_imdb_link'][i].split('/')[-2]\n",
    "    values.append(value)#split the string to obtain id\n",
    "movie_data['imdb_id'] = values #add the values in a new column"
   ]
  },
  {
   "cell_type": "code",
   "execution_count": 12,
   "metadata": {},
   "outputs": [
    {
     "data": {
      "text/html": [
       "<div>\n",
       "<style scoped>\n",
       "    .dataframe tbody tr th:only-of-type {\n",
       "        vertical-align: middle;\n",
       "    }\n",
       "\n",
       "    .dataframe tbody tr th {\n",
       "        vertical-align: top;\n",
       "    }\n",
       "\n",
       "    .dataframe thead th {\n",
       "        text-align: right;\n",
       "    }\n",
       "</style>\n",
       "<table border=\"1\" class=\"dataframe\">\n",
       "  <thead>\n",
       "    <tr style=\"text-align: right;\">\n",
       "      <th></th>\n",
       "      <th>imdb_id</th>\n",
       "      <th>movie_imdb_link</th>\n",
       "    </tr>\n",
       "  </thead>\n",
       "  <tbody>\n",
       "    <tr>\n",
       "      <th>0</th>\n",
       "      <td>tt0499549</td>\n",
       "      <td>http://www.imdb.com/title/tt0499549/?ref_=fn_t...</td>\n",
       "    </tr>\n",
       "    <tr>\n",
       "      <th>1</th>\n",
       "      <td>tt0449088</td>\n",
       "      <td>http://www.imdb.com/title/tt0449088/?ref_=fn_t...</td>\n",
       "    </tr>\n",
       "    <tr>\n",
       "      <th>2</th>\n",
       "      <td>tt2379713</td>\n",
       "      <td>http://www.imdb.com/title/tt2379713/?ref_=fn_t...</td>\n",
       "    </tr>\n",
       "    <tr>\n",
       "      <th>3</th>\n",
       "      <td>tt1345836</td>\n",
       "      <td>http://www.imdb.com/title/tt1345836/?ref_=fn_t...</td>\n",
       "    </tr>\n",
       "    <tr>\n",
       "      <th>4</th>\n",
       "      <td>tt5289954</td>\n",
       "      <td>http://www.imdb.com/title/tt5289954/?ref_=fn_t...</td>\n",
       "    </tr>\n",
       "  </tbody>\n",
       "</table>\n",
       "</div>"
      ],
      "text/plain": [
       "     imdb_id                                    movie_imdb_link\n",
       "0  tt0499549  http://www.imdb.com/title/tt0499549/?ref_=fn_t...\n",
       "1  tt0449088  http://www.imdb.com/title/tt0449088/?ref_=fn_t...\n",
       "2  tt2379713  http://www.imdb.com/title/tt2379713/?ref_=fn_t...\n",
       "3  tt1345836  http://www.imdb.com/title/tt1345836/?ref_=fn_t...\n",
       "4  tt5289954  http://www.imdb.com/title/tt5289954/?ref_=fn_t..."
      ]
     },
     "execution_count": 12,
     "metadata": {},
     "output_type": "execute_result"
    }
   ],
   "source": [
    "#check that ID matches\n",
    "movie_data[['imdb_id','movie_imdb_link']].head()"
   ]
  },
  {
   "cell_type": "code",
   "execution_count": 13,
   "metadata": {},
   "outputs": [
    {
     "name": "stdout",
     "output_type": "stream",
     "text": [
      "Avatar \n"
     ]
    }
   ],
   "source": [
    "#example\n",
    "for index, row in movie_data.iterrows():\n",
    "    if row['imdb_id'] == 'tt0499549':\n",
    "        print(row['movie_title'])"
   ]
  },
  {
   "cell_type": "markdown",
   "metadata": {},
   "source": [
    "Now that we have the `IMDB ID` in both datasets, we can combine them into a single dataframe."
   ]
  },
  {
   "cell_type": "code",
   "execution_count": 14,
   "metadata": {},
   "outputs": [],
   "source": [
    "new_df = pd.merge(movies,movie_data,on='imdb_id')"
   ]
  },
  {
   "cell_type": "code",
   "execution_count": 15,
   "metadata": {},
   "outputs": [
    {
     "data": {
      "text/plain": [
       "(4594, 42)"
      ]
     },
     "execution_count": 15,
     "metadata": {},
     "output_type": "execute_result"
    }
   ],
   "source": [
    "new_df.shape"
   ]
  },
  {
   "cell_type": "code",
   "execution_count": 16,
   "metadata": {},
   "outputs": [
    {
     "data": {
      "text/html": [
       "<div>\n",
       "<style scoped>\n",
       "    .dataframe tbody tr th:only-of-type {\n",
       "        vertical-align: middle;\n",
       "    }\n",
       "\n",
       "    .dataframe tbody tr th {\n",
       "        vertical-align: top;\n",
       "    }\n",
       "\n",
       "    .dataframe thead th {\n",
       "        text-align: right;\n",
       "    }\n",
       "</style>\n",
       "<table border=\"1\" class=\"dataframe\">\n",
       "  <thead>\n",
       "    <tr style=\"text-align: right;\">\n",
       "      <th></th>\n",
       "      <th>id</th>\n",
       "      <th>budget_x</th>\n",
       "      <th>genres_x</th>\n",
       "      <th>imdb_id</th>\n",
       "      <th>original_language</th>\n",
       "      <th>original_title</th>\n",
       "      <th>popularity</th>\n",
       "      <th>production_companies</th>\n",
       "      <th>production_countries</th>\n",
       "      <th>release_date</th>\n",
       "      <th>...</th>\n",
       "      <th>num_user_for_reviews</th>\n",
       "      <th>language</th>\n",
       "      <th>country</th>\n",
       "      <th>content_rating</th>\n",
       "      <th>budget_y</th>\n",
       "      <th>title_year</th>\n",
       "      <th>actor_2_facebook_likes</th>\n",
       "      <th>imdb_score</th>\n",
       "      <th>aspect_ratio</th>\n",
       "      <th>movie_facebook_likes</th>\n",
       "    </tr>\n",
       "  </thead>\n",
       "  <tbody>\n",
       "    <tr>\n",
       "      <th>0</th>\n",
       "      <td>5</td>\n",
       "      <td>4000000</td>\n",
       "      <td>Crime|Comedy</td>\n",
       "      <td>tt0113101</td>\n",
       "      <td>en</td>\n",
       "      <td>Four Rooms</td>\n",
       "      <td>1.698</td>\n",
       "      <td>Miramax Films</td>\n",
       "      <td>United States of America</td>\n",
       "      <td>25-12-95</td>\n",
       "      <td>...</td>\n",
       "      <td>177.0</td>\n",
       "      <td>English</td>\n",
       "      <td>USA</td>\n",
       "      <td>R</td>\n",
       "      <td>4000000.0</td>\n",
       "      <td>1995.0</td>\n",
       "      <td>975.0</td>\n",
       "      <td>6.7</td>\n",
       "      <td>1.85</td>\n",
       "      <td>0</td>\n",
       "    </tr>\n",
       "    <tr>\n",
       "      <th>1</th>\n",
       "      <td>11</td>\n",
       "      <td>11000000</td>\n",
       "      <td>Adventure|Action|Science Fiction</td>\n",
       "      <td>tt0076759</td>\n",
       "      <td>en</td>\n",
       "      <td>Star Wars</td>\n",
       "      <td>10.492614</td>\n",
       "      <td>Lucasfilm</td>\n",
       "      <td>United States of America</td>\n",
       "      <td>25-05-77</td>\n",
       "      <td>...</td>\n",
       "      <td>1470.0</td>\n",
       "      <td>English</td>\n",
       "      <td>USA</td>\n",
       "      <td>PG</td>\n",
       "      <td>11000000.0</td>\n",
       "      <td>1977.0</td>\n",
       "      <td>1000.0</td>\n",
       "      <td>8.7</td>\n",
       "      <td>2.35</td>\n",
       "      <td>33000</td>\n",
       "    </tr>\n",
       "    <tr>\n",
       "      <th>2</th>\n",
       "      <td>12</td>\n",
       "      <td>94000000</td>\n",
       "      <td>Animation|Family</td>\n",
       "      <td>tt0266543</td>\n",
       "      <td>en</td>\n",
       "      <td>Finding Nemo</td>\n",
       "      <td>9.915573</td>\n",
       "      <td>Pixar Animation Studios</td>\n",
       "      <td>United States of America</td>\n",
       "      <td>30-05-03</td>\n",
       "      <td>...</td>\n",
       "      <td>866.0</td>\n",
       "      <td>English</td>\n",
       "      <td>USA</td>\n",
       "      <td>G</td>\n",
       "      <td>94000000.0</td>\n",
       "      <td>2003.0</td>\n",
       "      <td>939.0</td>\n",
       "      <td>8.2</td>\n",
       "      <td>1.85</td>\n",
       "      <td>11000</td>\n",
       "    </tr>\n",
       "    <tr>\n",
       "      <th>3</th>\n",
       "      <td>13</td>\n",
       "      <td>55000000</td>\n",
       "      <td>Comedy|Drama|Romance</td>\n",
       "      <td>tt0109830</td>\n",
       "      <td>en</td>\n",
       "      <td>Forrest Gump</td>\n",
       "      <td>10.351236</td>\n",
       "      <td>Paramount Pictures</td>\n",
       "      <td>United States of America</td>\n",
       "      <td>06-07-94</td>\n",
       "      <td>...</td>\n",
       "      <td>1398.0</td>\n",
       "      <td>English</td>\n",
       "      <td>USA</td>\n",
       "      <td>PG-13</td>\n",
       "      <td>55000000.0</td>\n",
       "      <td>1994.0</td>\n",
       "      <td>294.0</td>\n",
       "      <td>8.8</td>\n",
       "      <td>2.35</td>\n",
       "      <td>59000</td>\n",
       "    </tr>\n",
       "    <tr>\n",
       "      <th>4</th>\n",
       "      <td>14</td>\n",
       "      <td>15000000</td>\n",
       "      <td>Drama</td>\n",
       "      <td>tt0169547</td>\n",
       "      <td>en</td>\n",
       "      <td>American Beauty</td>\n",
       "      <td>8.191009</td>\n",
       "      <td>DreamWorks SKG</td>\n",
       "      <td>United States of America</td>\n",
       "      <td>15-09-99</td>\n",
       "      <td>...</td>\n",
       "      <td>2715.0</td>\n",
       "      <td>English</td>\n",
       "      <td>USA</td>\n",
       "      <td>R</td>\n",
       "      <td>15000000.0</td>\n",
       "      <td>1999.0</td>\n",
       "      <td>828.0</td>\n",
       "      <td>8.4</td>\n",
       "      <td>2.35</td>\n",
       "      <td>22000</td>\n",
       "    </tr>\n",
       "  </tbody>\n",
       "</table>\n",
       "<p>5 rows × 42 columns</p>\n",
       "</div>"
      ],
      "text/plain": [
       "   id  budget_x                          genres_x    imdb_id  \\\n",
       "0   5   4000000                      Crime|Comedy  tt0113101   \n",
       "1  11  11000000  Adventure|Action|Science Fiction  tt0076759   \n",
       "2  12  94000000                  Animation|Family  tt0266543   \n",
       "3  13  55000000              Comedy|Drama|Romance  tt0109830   \n",
       "4  14  15000000                             Drama  tt0169547   \n",
       "\n",
       "  original_language   original_title popularity     production_companies  \\\n",
       "0                en       Four Rooms      1.698            Miramax Films   \n",
       "1                en        Star Wars  10.492614                Lucasfilm   \n",
       "2                en     Finding Nemo   9.915573  Pixar Animation Studios   \n",
       "3                en     Forrest Gump  10.351236       Paramount Pictures   \n",
       "4                en  American Beauty   8.191009           DreamWorks SKG   \n",
       "\n",
       "       production_countries release_date  ...  num_user_for_reviews language  \\\n",
       "0  United States of America     25-12-95  ...                 177.0  English   \n",
       "1  United States of America     25-05-77  ...                1470.0  English   \n",
       "2  United States of America     30-05-03  ...                 866.0  English   \n",
       "3  United States of America     06-07-94  ...                1398.0  English   \n",
       "4  United States of America     15-09-99  ...                2715.0  English   \n",
       "\n",
       "   country  content_rating    budget_y title_year  actor_2_facebook_likes  \\\n",
       "0      USA               R   4000000.0     1995.0                   975.0   \n",
       "1      USA              PG  11000000.0     1977.0                  1000.0   \n",
       "2      USA               G  94000000.0     2003.0                   939.0   \n",
       "3      USA           PG-13  55000000.0     1994.0                   294.0   \n",
       "4      USA               R  15000000.0     1999.0                   828.0   \n",
       "\n",
       "   imdb_score  aspect_ratio  movie_facebook_likes  \n",
       "0         6.7          1.85                     0  \n",
       "1         8.7          2.35                 33000  \n",
       "2         8.2          1.85                 11000  \n",
       "3         8.8          2.35                 59000  \n",
       "4         8.4          2.35                 22000  \n",
       "\n",
       "[5 rows x 42 columns]"
      ]
     },
     "execution_count": 16,
     "metadata": {},
     "output_type": "execute_result"
    }
   ],
   "source": [
    "new_df.head()"
   ]
  },
  {
   "cell_type": "code",
   "execution_count": 17,
   "metadata": {},
   "outputs": [
    {
     "data": {
      "text/plain": [
       "(109, 12)"
      ]
     },
     "execution_count": 17,
     "metadata": {},
     "output_type": "execute_result"
    }
   ],
   "source": [
    "netflix = pd.read_csv(\"data/netflix_original.csv\")\n",
    "netflix.shape"
   ]
  },
  {
   "cell_type": "markdown",
   "metadata": {},
   "source": [
    "# Dropping Irrelevant Columns\n",
    "\n",
    "There are a number of columns in our merged dataframe that are duplicate or will not provide anything of use in our analysis so they will be dropped."
   ]
  },
  {
   "cell_type": "code",
   "execution_count": 18,
   "metadata": {},
   "outputs": [],
   "source": [
    "new_df= new_df.drop(['id', 'title','original_language', 'popularity', 'vote_count', 'color', 'num_critic_for_reviews', 'duration', \n",
    "                     'num_voted_users', 'cast_total_facebook_likes', 'facenumber_in_poster', 'plot_keywords', 'movie_imdb_link', \n",
    "                     'num_user_for_reviews', 'content_rating', 'aspect_ratio', 'original_title'], axis=1) "
   ]
  },
  {
   "cell_type": "code",
   "execution_count": 19,
   "metadata": {},
   "outputs": [
    {
     "data": {
      "text/plain": [
       "Index(['budget_x', 'genres_x', 'imdb_id', 'production_companies',\n",
       "       'production_countries', 'release_date', 'revenue', 'vote_average',\n",
       "       'director_name', 'director_facebook_likes', 'actor_3_facebook_likes',\n",
       "       'actor_2_name', 'actor_1_facebook_likes', 'gross', 'genres_y',\n",
       "       'actor_1_name', 'movie_title', 'actor_3_name', 'language', 'country',\n",
       "       'budget_y', 'title_year', 'actor_2_facebook_likes', 'imdb_score',\n",
       "       'movie_facebook_likes'],\n",
       "      dtype='object')"
      ]
     },
     "execution_count": 19,
     "metadata": {},
     "output_type": "execute_result"
    }
   ],
   "source": [
    "new_df.columns"
   ]
  },
  {
   "cell_type": "code",
   "execution_count": 20,
   "metadata": {},
   "outputs": [
    {
     "data": {
      "text/plain": [
       "(4594, 25)"
      ]
     },
     "execution_count": 20,
     "metadata": {},
     "output_type": "execute_result"
    }
   ],
   "source": [
    "new_df.shape"
   ]
  },
  {
   "cell_type": "code",
   "execution_count": 21,
   "metadata": {},
   "outputs": [
    {
     "data": {
      "text/html": [
       "<div>\n",
       "<style scoped>\n",
       "    .dataframe tbody tr th:only-of-type {\n",
       "        vertical-align: middle;\n",
       "    }\n",
       "\n",
       "    .dataframe tbody tr th {\n",
       "        vertical-align: top;\n",
       "    }\n",
       "\n",
       "    .dataframe thead th {\n",
       "        text-align: right;\n",
       "    }\n",
       "</style>\n",
       "<table border=\"1\" class=\"dataframe\">\n",
       "  <thead>\n",
       "    <tr style=\"text-align: right;\">\n",
       "      <th></th>\n",
       "      <th>budget_x</th>\n",
       "      <th>genres_x</th>\n",
       "      <th>imdb_id</th>\n",
       "      <th>production_companies</th>\n",
       "      <th>production_countries</th>\n",
       "      <th>release_date</th>\n",
       "      <th>revenue</th>\n",
       "      <th>vote_average</th>\n",
       "      <th>director_name</th>\n",
       "      <th>director_facebook_likes</th>\n",
       "      <th>...</th>\n",
       "      <th>actor_1_name</th>\n",
       "      <th>movie_title</th>\n",
       "      <th>actor_3_name</th>\n",
       "      <th>language</th>\n",
       "      <th>country</th>\n",
       "      <th>budget_y</th>\n",
       "      <th>title_year</th>\n",
       "      <th>actor_2_facebook_likes</th>\n",
       "      <th>imdb_score</th>\n",
       "      <th>movie_facebook_likes</th>\n",
       "    </tr>\n",
       "  </thead>\n",
       "  <tbody>\n",
       "    <tr>\n",
       "      <th>0</th>\n",
       "      <td>4000000</td>\n",
       "      <td>Crime|Comedy</td>\n",
       "      <td>tt0113101</td>\n",
       "      <td>Miramax Films</td>\n",
       "      <td>United States of America</td>\n",
       "      <td>25-12-95</td>\n",
       "      <td>4300000</td>\n",
       "      <td>6.5</td>\n",
       "      <td>Allison Anders</td>\n",
       "      <td>99.0</td>\n",
       "      <td>...</td>\n",
       "      <td>Salma Hayek</td>\n",
       "      <td>Four Rooms</td>\n",
       "      <td>Lili Taylor</td>\n",
       "      <td>English</td>\n",
       "      <td>USA</td>\n",
       "      <td>4000000.0</td>\n",
       "      <td>1995.0</td>\n",
       "      <td>975.0</td>\n",
       "      <td>6.7</td>\n",
       "      <td>0</td>\n",
       "    </tr>\n",
       "    <tr>\n",
       "      <th>1</th>\n",
       "      <td>11000000</td>\n",
       "      <td>Adventure|Action|Science Fiction</td>\n",
       "      <td>tt0076759</td>\n",
       "      <td>Lucasfilm</td>\n",
       "      <td>United States of America</td>\n",
       "      <td>25-05-77</td>\n",
       "      <td>775398007</td>\n",
       "      <td>8.0</td>\n",
       "      <td>George Lucas</td>\n",
       "      <td>0.0</td>\n",
       "      <td>...</td>\n",
       "      <td>Harrison Ford</td>\n",
       "      <td>Star Wars: Episode IV - A New Hope</td>\n",
       "      <td>Kenny Baker</td>\n",
       "      <td>English</td>\n",
       "      <td>USA</td>\n",
       "      <td>11000000.0</td>\n",
       "      <td>1977.0</td>\n",
       "      <td>1000.0</td>\n",
       "      <td>8.7</td>\n",
       "      <td>33000</td>\n",
       "    </tr>\n",
       "    <tr>\n",
       "      <th>2</th>\n",
       "      <td>94000000</td>\n",
       "      <td>Animation|Family</td>\n",
       "      <td>tt0266543</td>\n",
       "      <td>Pixar Animation Studios</td>\n",
       "      <td>United States of America</td>\n",
       "      <td>30-05-03</td>\n",
       "      <td>940335536</td>\n",
       "      <td>7.6</td>\n",
       "      <td>Andrew Stanton</td>\n",
       "      <td>475.0</td>\n",
       "      <td>...</td>\n",
       "      <td>Alexander Gould</td>\n",
       "      <td>Finding Nemo</td>\n",
       "      <td>Brad Garrett</td>\n",
       "      <td>English</td>\n",
       "      <td>USA</td>\n",
       "      <td>94000000.0</td>\n",
       "      <td>2003.0</td>\n",
       "      <td>939.0</td>\n",
       "      <td>8.2</td>\n",
       "      <td>11000</td>\n",
       "    </tr>\n",
       "    <tr>\n",
       "      <th>3</th>\n",
       "      <td>55000000</td>\n",
       "      <td>Comedy|Drama|Romance</td>\n",
       "      <td>tt0109830</td>\n",
       "      <td>Paramount Pictures</td>\n",
       "      <td>United States of America</td>\n",
       "      <td>06-07-94</td>\n",
       "      <td>677945399</td>\n",
       "      <td>8.2</td>\n",
       "      <td>Robert Zemeckis</td>\n",
       "      <td>0.0</td>\n",
       "      <td>...</td>\n",
       "      <td>Tom Hanks</td>\n",
       "      <td>Forrest Gump</td>\n",
       "      <td>Sam Anderson</td>\n",
       "      <td>English</td>\n",
       "      <td>USA</td>\n",
       "      <td>55000000.0</td>\n",
       "      <td>1994.0</td>\n",
       "      <td>294.0</td>\n",
       "      <td>8.8</td>\n",
       "      <td>59000</td>\n",
       "    </tr>\n",
       "    <tr>\n",
       "      <th>4</th>\n",
       "      <td>15000000</td>\n",
       "      <td>Drama</td>\n",
       "      <td>tt0169547</td>\n",
       "      <td>DreamWorks SKG</td>\n",
       "      <td>United States of America</td>\n",
       "      <td>15-09-99</td>\n",
       "      <td>356296601</td>\n",
       "      <td>7.9</td>\n",
       "      <td>Sam Mendes</td>\n",
       "      <td>0.0</td>\n",
       "      <td>...</td>\n",
       "      <td>Kevin Spacey</td>\n",
       "      <td>American Beauty</td>\n",
       "      <td>Ara Celi</td>\n",
       "      <td>English</td>\n",
       "      <td>USA</td>\n",
       "      <td>15000000.0</td>\n",
       "      <td>1999.0</td>\n",
       "      <td>828.0</td>\n",
       "      <td>8.4</td>\n",
       "      <td>22000</td>\n",
       "    </tr>\n",
       "  </tbody>\n",
       "</table>\n",
       "<p>5 rows × 25 columns</p>\n",
       "</div>"
      ],
      "text/plain": [
       "   budget_x                          genres_x    imdb_id  \\\n",
       "0   4000000                      Crime|Comedy  tt0113101   \n",
       "1  11000000  Adventure|Action|Science Fiction  tt0076759   \n",
       "2  94000000                  Animation|Family  tt0266543   \n",
       "3  55000000              Comedy|Drama|Romance  tt0109830   \n",
       "4  15000000                             Drama  tt0169547   \n",
       "\n",
       "      production_companies      production_countries release_date    revenue  \\\n",
       "0            Miramax Films  United States of America     25-12-95    4300000   \n",
       "1                Lucasfilm  United States of America     25-05-77  775398007   \n",
       "2  Pixar Animation Studios  United States of America     30-05-03  940335536   \n",
       "3       Paramount Pictures  United States of America     06-07-94  677945399   \n",
       "4           DreamWorks SKG  United States of America     15-09-99  356296601   \n",
       "\n",
       "   vote_average    director_name  director_facebook_likes  ...  \\\n",
       "0           6.5   Allison Anders                     99.0  ...   \n",
       "1           8.0     George Lucas                      0.0  ...   \n",
       "2           7.6   Andrew Stanton                    475.0  ...   \n",
       "3           8.2  Robert Zemeckis                      0.0  ...   \n",
       "4           7.9       Sam Mendes                      0.0  ...   \n",
       "\n",
       "      actor_1_name                          movie_title  actor_3_name  \\\n",
       "0      Salma Hayek                          Four Rooms    Lili Taylor   \n",
       "1    Harrison Ford  Star Wars: Episode IV - A New Hope    Kenny Baker   \n",
       "2  Alexander Gould                        Finding Nemo   Brad Garrett   \n",
       "3        Tom Hanks                        Forrest Gump   Sam Anderson   \n",
       "4     Kevin Spacey                     American Beauty       Ara Celi   \n",
       "\n",
       "   language country    budget_y title_year actor_2_facebook_likes imdb_score  \\\n",
       "0   English     USA   4000000.0     1995.0                  975.0        6.7   \n",
       "1   English     USA  11000000.0     1977.0                 1000.0        8.7   \n",
       "2   English     USA  94000000.0     2003.0                  939.0        8.2   \n",
       "3   English     USA  55000000.0     1994.0                  294.0        8.8   \n",
       "4   English     USA  15000000.0     1999.0                  828.0        8.4   \n",
       "\n",
       "  movie_facebook_likes  \n",
       "0                    0  \n",
       "1                33000  \n",
       "2                11000  \n",
       "3                59000  \n",
       "4                22000  \n",
       "\n",
       "[5 rows x 25 columns]"
      ]
     },
     "execution_count": 21,
     "metadata": {},
     "output_type": "execute_result"
    }
   ],
   "source": [
    "new_df.head()"
   ]
  },
  {
   "cell_type": "markdown",
   "metadata": {},
   "source": [
    "## Reformating the Dataframe"
   ]
  },
  {
   "cell_type": "code",
   "execution_count": 22,
   "metadata": {},
   "outputs": [],
   "source": [
    "#Reordering columns for easy reading\n",
    "sequence = ['imdb_id', 'movie_title','title_year','budget_x', 'genres_x',  'production_companies',\n",
    "       'production_countries', 'release_date', 'revenue', \n",
    "       'vote_average', 'director_name', 'director_facebook_likes',\n",
    "       'actor_3_facebook_likes', 'actor_2_name', 'actor_1_facebook_likes',\n",
    "       'gross', 'genres_y', 'actor_1_name',  'actor_3_name',\n",
    "       'language', 'country', 'budget_y', \n",
    "       'actor_2_facebook_likes', 'imdb_score', 'movie_facebook_likes']\n",
    "new_df = new_df.reindex(columns=sequence)"
   ]
  },
  {
   "cell_type": "code",
   "execution_count": 23,
   "metadata": {},
   "outputs": [
    {
     "data": {
      "text/html": [
       "<div>\n",
       "<style scoped>\n",
       "    .dataframe tbody tr th:only-of-type {\n",
       "        vertical-align: middle;\n",
       "    }\n",
       "\n",
       "    .dataframe tbody tr th {\n",
       "        vertical-align: top;\n",
       "    }\n",
       "\n",
       "    .dataframe thead th {\n",
       "        text-align: right;\n",
       "    }\n",
       "</style>\n",
       "<table border=\"1\" class=\"dataframe\">\n",
       "  <thead>\n",
       "    <tr style=\"text-align: right;\">\n",
       "      <th></th>\n",
       "      <th>imdb_id</th>\n",
       "      <th>movie_title</th>\n",
       "      <th>title_year</th>\n",
       "      <th>budget_x</th>\n",
       "      <th>genres_x</th>\n",
       "      <th>production_companies</th>\n",
       "      <th>production_countries</th>\n",
       "      <th>release_date</th>\n",
       "      <th>revenue</th>\n",
       "      <th>vote_average</th>\n",
       "      <th>...</th>\n",
       "      <th>gross</th>\n",
       "      <th>genres_y</th>\n",
       "      <th>actor_1_name</th>\n",
       "      <th>actor_3_name</th>\n",
       "      <th>language</th>\n",
       "      <th>country</th>\n",
       "      <th>budget_y</th>\n",
       "      <th>actor_2_facebook_likes</th>\n",
       "      <th>imdb_score</th>\n",
       "      <th>movie_facebook_likes</th>\n",
       "    </tr>\n",
       "  </thead>\n",
       "  <tbody>\n",
       "    <tr>\n",
       "      <th>0</th>\n",
       "      <td>tt0113101</td>\n",
       "      <td>Four Rooms</td>\n",
       "      <td>1995.0</td>\n",
       "      <td>4000000</td>\n",
       "      <td>Crime|Comedy</td>\n",
       "      <td>Miramax Films</td>\n",
       "      <td>United States of America</td>\n",
       "      <td>25-12-95</td>\n",
       "      <td>4300000</td>\n",
       "      <td>6.5</td>\n",
       "      <td>...</td>\n",
       "      <td>4301331.0</td>\n",
       "      <td>Comedy|Fantasy</td>\n",
       "      <td>Salma Hayek</td>\n",
       "      <td>Lili Taylor</td>\n",
       "      <td>English</td>\n",
       "      <td>USA</td>\n",
       "      <td>4000000.0</td>\n",
       "      <td>975.0</td>\n",
       "      <td>6.7</td>\n",
       "      <td>0</td>\n",
       "    </tr>\n",
       "    <tr>\n",
       "      <th>1</th>\n",
       "      <td>tt0076759</td>\n",
       "      <td>Star Wars: Episode IV - A New Hope</td>\n",
       "      <td>1977.0</td>\n",
       "      <td>11000000</td>\n",
       "      <td>Adventure|Action|Science Fiction</td>\n",
       "      <td>Lucasfilm</td>\n",
       "      <td>United States of America</td>\n",
       "      <td>25-05-77</td>\n",
       "      <td>775398007</td>\n",
       "      <td>8.0</td>\n",
       "      <td>...</td>\n",
       "      <td>460935665.0</td>\n",
       "      <td>Action|Adventure|Fantasy|Sci-Fi</td>\n",
       "      <td>Harrison Ford</td>\n",
       "      <td>Kenny Baker</td>\n",
       "      <td>English</td>\n",
       "      <td>USA</td>\n",
       "      <td>11000000.0</td>\n",
       "      <td>1000.0</td>\n",
       "      <td>8.7</td>\n",
       "      <td>33000</td>\n",
       "    </tr>\n",
       "    <tr>\n",
       "      <th>2</th>\n",
       "      <td>tt0266543</td>\n",
       "      <td>Finding Nemo</td>\n",
       "      <td>2003.0</td>\n",
       "      <td>94000000</td>\n",
       "      <td>Animation|Family</td>\n",
       "      <td>Pixar Animation Studios</td>\n",
       "      <td>United States of America</td>\n",
       "      <td>30-05-03</td>\n",
       "      <td>940335536</td>\n",
       "      <td>7.6</td>\n",
       "      <td>...</td>\n",
       "      <td>380838870.0</td>\n",
       "      <td>Adventure|Animation|Comedy|Family</td>\n",
       "      <td>Alexander Gould</td>\n",
       "      <td>Brad Garrett</td>\n",
       "      <td>English</td>\n",
       "      <td>USA</td>\n",
       "      <td>94000000.0</td>\n",
       "      <td>939.0</td>\n",
       "      <td>8.2</td>\n",
       "      <td>11000</td>\n",
       "    </tr>\n",
       "    <tr>\n",
       "      <th>3</th>\n",
       "      <td>tt0109830</td>\n",
       "      <td>Forrest Gump</td>\n",
       "      <td>1994.0</td>\n",
       "      <td>55000000</td>\n",
       "      <td>Comedy|Drama|Romance</td>\n",
       "      <td>Paramount Pictures</td>\n",
       "      <td>United States of America</td>\n",
       "      <td>06-07-94</td>\n",
       "      <td>677945399</td>\n",
       "      <td>8.2</td>\n",
       "      <td>...</td>\n",
       "      <td>329691196.0</td>\n",
       "      <td>Comedy|Drama</td>\n",
       "      <td>Tom Hanks</td>\n",
       "      <td>Sam Anderson</td>\n",
       "      <td>English</td>\n",
       "      <td>USA</td>\n",
       "      <td>55000000.0</td>\n",
       "      <td>294.0</td>\n",
       "      <td>8.8</td>\n",
       "      <td>59000</td>\n",
       "    </tr>\n",
       "    <tr>\n",
       "      <th>4</th>\n",
       "      <td>tt0169547</td>\n",
       "      <td>American Beauty</td>\n",
       "      <td>1999.0</td>\n",
       "      <td>15000000</td>\n",
       "      <td>Drama</td>\n",
       "      <td>DreamWorks SKG</td>\n",
       "      <td>United States of America</td>\n",
       "      <td>15-09-99</td>\n",
       "      <td>356296601</td>\n",
       "      <td>7.9</td>\n",
       "      <td>...</td>\n",
       "      <td>130058047.0</td>\n",
       "      <td>Drama</td>\n",
       "      <td>Kevin Spacey</td>\n",
       "      <td>Ara Celi</td>\n",
       "      <td>English</td>\n",
       "      <td>USA</td>\n",
       "      <td>15000000.0</td>\n",
       "      <td>828.0</td>\n",
       "      <td>8.4</td>\n",
       "      <td>22000</td>\n",
       "    </tr>\n",
       "  </tbody>\n",
       "</table>\n",
       "<p>5 rows × 25 columns</p>\n",
       "</div>"
      ],
      "text/plain": [
       "     imdb_id                          movie_title  title_year  budget_x  \\\n",
       "0  tt0113101                          Four Rooms       1995.0   4000000   \n",
       "1  tt0076759  Star Wars: Episode IV - A New Hope       1977.0  11000000   \n",
       "2  tt0266543                        Finding Nemo       2003.0  94000000   \n",
       "3  tt0109830                        Forrest Gump       1994.0  55000000   \n",
       "4  tt0169547                     American Beauty       1999.0  15000000   \n",
       "\n",
       "                           genres_x     production_companies  \\\n",
       "0                      Crime|Comedy            Miramax Films   \n",
       "1  Adventure|Action|Science Fiction                Lucasfilm   \n",
       "2                  Animation|Family  Pixar Animation Studios   \n",
       "3              Comedy|Drama|Romance       Paramount Pictures   \n",
       "4                             Drama           DreamWorks SKG   \n",
       "\n",
       "       production_countries release_date    revenue  vote_average  ...  \\\n",
       "0  United States of America     25-12-95    4300000           6.5  ...   \n",
       "1  United States of America     25-05-77  775398007           8.0  ...   \n",
       "2  United States of America     30-05-03  940335536           7.6  ...   \n",
       "3  United States of America     06-07-94  677945399           8.2  ...   \n",
       "4  United States of America     15-09-99  356296601           7.9  ...   \n",
       "\n",
       "         gross                           genres_y     actor_1_name  \\\n",
       "0    4301331.0                     Comedy|Fantasy      Salma Hayek   \n",
       "1  460935665.0    Action|Adventure|Fantasy|Sci-Fi    Harrison Ford   \n",
       "2  380838870.0  Adventure|Animation|Comedy|Family  Alexander Gould   \n",
       "3  329691196.0                       Comedy|Drama        Tom Hanks   \n",
       "4  130058047.0                              Drama     Kevin Spacey   \n",
       "\n",
       "   actor_3_name  language  country    budget_y actor_2_facebook_likes  \\\n",
       "0   Lili Taylor   English      USA   4000000.0                  975.0   \n",
       "1   Kenny Baker   English      USA  11000000.0                 1000.0   \n",
       "2  Brad Garrett   English      USA  94000000.0                  939.0   \n",
       "3  Sam Anderson   English      USA  55000000.0                  294.0   \n",
       "4      Ara Celi   English      USA  15000000.0                  828.0   \n",
       "\n",
       "  imdb_score movie_facebook_likes  \n",
       "0        6.7                    0  \n",
       "1        8.7                33000  \n",
       "2        8.2                11000  \n",
       "3        8.8                59000  \n",
       "4        8.4                22000  \n",
       "\n",
       "[5 rows x 25 columns]"
      ]
     },
     "execution_count": 23,
     "metadata": {},
     "output_type": "execute_result"
    }
   ],
   "source": [
    "new_df.head()"
   ]
  },
  {
   "cell_type": "code",
   "execution_count": 24,
   "metadata": {
    "scrolled": false
   },
   "outputs": [
    {
     "data": {
      "text/plain": [
       "(3683, 25)"
      ]
     },
     "execution_count": 24,
     "metadata": {},
     "output_type": "execute_result"
    }
   ],
   "source": [
    "#Dropping any rows that had missing/NaN data in order for us to be able to change the data types\n",
    "clean_df = new_df.dropna()\n",
    "\n",
    "clean_df.shape"
   ]
  },
  {
   "cell_type": "code",
   "execution_count": 25,
   "metadata": {},
   "outputs": [
    {
     "data": {
      "text/plain": [
       "imdb_id                     object\n",
       "movie_title                 object\n",
       "title_year                   int32\n",
       "budget_x                     int64\n",
       "genres_x                    object\n",
       "production_companies        object\n",
       "production_countries        object\n",
       "release_date                object\n",
       "revenue                      int64\n",
       "vote_average               float64\n",
       "director_name               object\n",
       "director_facebook_likes      int32\n",
       "actor_3_facebook_likes       int32\n",
       "actor_2_name                object\n",
       "actor_1_facebook_likes       int32\n",
       "gross                        int32\n",
       "genres_y                    object\n",
       "actor_1_name                object\n",
       "actor_3_name                object\n",
       "language                    object\n",
       "country                     object\n",
       "budget_y                     int32\n",
       "actor_2_facebook_likes     float64\n",
       "imdb_score                 float64\n",
       "movie_facebook_likes         int64\n",
       "dtype: object"
      ]
     },
     "execution_count": 25,
     "metadata": {},
     "output_type": "execute_result"
    }
   ],
   "source": [
    "#Converting columns that had floating point data types to integers\n",
    "clean_df.astype({'title_year': 'int32', 'budget_y': 'int32', 'gross': 'int32', 'director_facebook_likes': 'int32', 'actor_3_facebook_likes' : 'int32', 'actor_1_facebook_likes' : 'int32'}).dtypes"
   ]
  },
  {
   "cell_type": "code",
   "execution_count": 26,
   "metadata": {},
   "outputs": [],
   "source": [
    "clean_df['title_year'] = clean_df['title_year'].round(0).astype(int)"
   ]
  },
  {
   "cell_type": "code",
   "execution_count": 27,
   "metadata": {},
   "outputs": [
    {
     "data": {
      "text/plain": [
       "0    1995\n",
       "1    1977\n",
       "2    2003\n",
       "3    1994\n",
       "4    1999\n",
       "Name: title_year, dtype: int64"
      ]
     },
     "execution_count": 27,
     "metadata": {},
     "output_type": "execute_result"
    }
   ],
   "source": [
    "clean_df['title_year'].head()"
   ]
  },
  {
   "cell_type": "code",
   "execution_count": 28,
   "metadata": {},
   "outputs": [],
   "source": [
    "clean_df = clean_df.drop(['budget_y'], axis=1)"
   ]
  },
  {
   "cell_type": "code",
   "execution_count": 29,
   "metadata": {},
   "outputs": [
    {
     "data": {
      "text/plain": [
       "(3197, 24)"
      ]
     },
     "execution_count": 29,
     "metadata": {},
     "output_type": "execute_result"
    }
   ],
   "source": [
    "# drop rows that do not have any budget information\n",
    "clean_df = clean_df.drop(clean_df[clean_df.budget_x == 0].index)\n",
    "clean_df.shape"
   ]
  },
  {
   "cell_type": "markdown",
   "metadata": {},
   "source": [
    "## Exploring the Data"
   ]
  },
  {
   "cell_type": "code",
   "execution_count": 30,
   "metadata": {},
   "outputs": [
    {
     "data": {
      "image/png": "[encoded data removed]",
      "text/plain": [
       "<Figure size 720x720 with 1 Axes>"
      ]
     },
     "metadata": {
      "needs_background": "light"
     },
     "output_type": "display_data"
    }
   ],
   "source": [
    "# Create a wordcloud to display most common Production Companies\n",
    "\n",
    "wordcloud = WordCloud().generate(' '.join(clean_df['production_companies']))\n",
    "plt.rcParams[\"figure.figsize\"] = (10,10)\n",
    "plt.title('Production Companies Word Cloud')\n",
    "plt.imshow(wordcloud)\n",
    "plt.axis(\"off\")\n",
    "plt.show()"
   ]
  },
  {
   "cell_type": "code",
   "execution_count": 31,
   "metadata": {},
   "outputs": [
    {
     "data": {
      "image/png": "[encoded data removed]",
      "text/plain": [
       "<Figure size 720x720 with 1 Axes>"
      ]
     },
     "metadata": {
      "needs_background": "light"
     },
     "output_type": "display_data"
    }
   ],
   "source": [
    "#Create graphic of number of films released each year\n",
    "new_df.hist(column='title_year',bins=50, grid=False, color='lightblue',edgecolor='darkblue')\n",
    "plt.rcParams[\"figure.figsize\"] = (10,10)\n",
    "plt.xlabel('Title Year', fontsize=12)\n",
    "plt.ylabel('Movie count', fontsize=12)\n",
    "plt.title('Movie Releases per Year', fontsize=14)\n",
    "plt.show()"
   ]
  },
  {
   "cell_type": "markdown",
   "metadata": {},
   "source": [
    "We can see that the number of movies produced started to increase after the 1990s and in the 2000s. This can be attributed to the age of digital media, with directors transitioning from using 38/70mm film to digital camera recordings which are cheaper and easier to edit (no need to physically cut film!). <br>\n",
    "Also as disposable income and demand increased, directors and production companies needed to keep up and thus saturating the market with new movies. It can also be said that people nowadays are so used to binging content as a result of streaming services, that no one has the patience to wait for a movie's sequel - hence production companies churning them out so quickly in the last few years. "
   ]
  },
  {
   "cell_type": "code",
   "execution_count": 32,
   "metadata": {},
   "outputs": [
    {
     "data": {
      "text/html": [
       "<div>\n",
       "<style scoped>\n",
       "    .dataframe tbody tr th:only-of-type {\n",
       "        vertical-align: middle;\n",
       "    }\n",
       "\n",
       "    .dataframe tbody tr th {\n",
       "        vertical-align: top;\n",
       "    }\n",
       "\n",
       "    .dataframe thead th {\n",
       "        text-align: right;\n",
       "    }\n",
       "</style>\n",
       "<table border=\"1\" class=\"dataframe\">\n",
       "  <thead>\n",
       "    <tr style=\"text-align: right;\">\n",
       "      <th></th>\n",
       "      <th>title_year</th>\n",
       "      <th>imdb_score</th>\n",
       "      <th>production_countries</th>\n",
       "    </tr>\n",
       "  </thead>\n",
       "  <tbody>\n",
       "    <tr>\n",
       "      <th>0</th>\n",
       "      <td>1995</td>\n",
       "      <td>6.7</td>\n",
       "      <td>United States of America</td>\n",
       "    </tr>\n",
       "    <tr>\n",
       "      <th>1</th>\n",
       "      <td>1977</td>\n",
       "      <td>8.7</td>\n",
       "      <td>United States of America</td>\n",
       "    </tr>\n",
       "    <tr>\n",
       "      <th>2</th>\n",
       "      <td>2003</td>\n",
       "      <td>8.2</td>\n",
       "      <td>United States of America</td>\n",
       "    </tr>\n",
       "    <tr>\n",
       "      <th>3</th>\n",
       "      <td>1994</td>\n",
       "      <td>8.8</td>\n",
       "      <td>United States of America</td>\n",
       "    </tr>\n",
       "    <tr>\n",
       "      <th>4</th>\n",
       "      <td>1999</td>\n",
       "      <td>8.4</td>\n",
       "      <td>United States of America</td>\n",
       "    </tr>\n",
       "  </tbody>\n",
       "</table>\n",
       "</div>"
      ],
      "text/plain": [
       "   title_year  imdb_score      production_countries\n",
       "0        1995         6.7  United States of America\n",
       "1        1977         8.7  United States of America\n",
       "2        2003         8.2  United States of America\n",
       "3        1994         8.8  United States of America\n",
       "4        1999         8.4  United States of America"
      ]
     },
     "execution_count": 32,
     "metadata": {},
     "output_type": "execute_result"
    }
   ],
   "source": [
    "#Creating a new dataframe to store average scores\n",
    "average_score = clean_df[['title_year','imdb_score', 'production_countries']]\n",
    "average_score.head()"
   ]
  },
  {
   "cell_type": "code",
   "execution_count": 33,
   "metadata": {},
   "outputs": [
    {
     "data": {
      "text/html": [
       "<div>\n",
       "<style scoped>\n",
       "    .dataframe tbody tr th:only-of-type {\n",
       "        vertical-align: middle;\n",
       "    }\n",
       "\n",
       "    .dataframe tbody tr th {\n",
       "        vertical-align: top;\n",
       "    }\n",
       "\n",
       "    .dataframe thead th {\n",
       "        text-align: right;\n",
       "    }\n",
       "</style>\n",
       "<table border=\"1\" class=\"dataframe\">\n",
       "  <thead>\n",
       "    <tr style=\"text-align: right;\">\n",
       "      <th></th>\n",
       "      <th>imdb_score</th>\n",
       "      <th>production_countries</th>\n",
       "    </tr>\n",
       "    <tr>\n",
       "      <th>title_year</th>\n",
       "      <th></th>\n",
       "      <th></th>\n",
       "    </tr>\n",
       "  </thead>\n",
       "  <tbody>\n",
       "    <tr>\n",
       "      <th>1970-01-01 00:00:00.000001995</th>\n",
       "      <td>6.7</td>\n",
       "      <td>United States of America</td>\n",
       "    </tr>\n",
       "    <tr>\n",
       "      <th>1970-01-01 00:00:00.000001977</th>\n",
       "      <td>8.7</td>\n",
       "      <td>United States of America</td>\n",
       "    </tr>\n",
       "    <tr>\n",
       "      <th>1970-01-01 00:00:00.000002003</th>\n",
       "      <td>8.2</td>\n",
       "      <td>United States of America</td>\n",
       "    </tr>\n",
       "    <tr>\n",
       "      <th>1970-01-01 00:00:00.000001994</th>\n",
       "      <td>8.8</td>\n",
       "      <td>United States of America</td>\n",
       "    </tr>\n",
       "    <tr>\n",
       "      <th>1970-01-01 00:00:00.000001999</th>\n",
       "      <td>8.4</td>\n",
       "      <td>United States of America</td>\n",
       "    </tr>\n",
       "  </tbody>\n",
       "</table>\n",
       "</div>"
      ],
      "text/plain": [
       "                               imdb_score      production_countries\n",
       "title_year                                                         \n",
       "1970-01-01 00:00:00.000001995         6.7  United States of America\n",
       "1970-01-01 00:00:00.000001977         8.7  United States of America\n",
       "1970-01-01 00:00:00.000002003         8.2  United States of America\n",
       "1970-01-01 00:00:00.000001994         8.8  United States of America\n",
       "1970-01-01 00:00:00.000001999         8.4  United States of America"
      ]
     },
     "execution_count": 33,
     "metadata": {},
     "output_type": "execute_result"
    }
   ],
   "source": [
    "average_score['title_year'] = pd.to_datetime(average_score['title_year'])\n",
    "average_score.index = average_score['title_year']\n",
    "average_score = average_score.drop(['title_year'], 1)\n",
    "average_score.head()"
   ]
  },
  {
   "cell_type": "code",
   "execution_count": 34,
   "metadata": {},
   "outputs": [
    {
     "data": {
      "text/html": [
       "<div>\n",
       "<style scoped>\n",
       "    .dataframe tbody tr th:only-of-type {\n",
       "        vertical-align: middle;\n",
       "    }\n",
       "\n",
       "    .dataframe tbody tr th {\n",
       "        vertical-align: top;\n",
       "    }\n",
       "\n",
       "    .dataframe thead th {\n",
       "        text-align: right;\n",
       "    }\n",
       "</style>\n",
       "<table border=\"1\" class=\"dataframe\">\n",
       "  <thead>\n",
       "    <tr style=\"text-align: right;\">\n",
       "      <th></th>\n",
       "      <th>imdb_score</th>\n",
       "      <th>production_countries</th>\n",
       "    </tr>\n",
       "    <tr>\n",
       "      <th>title_year</th>\n",
       "      <th></th>\n",
       "      <th></th>\n",
       "    </tr>\n",
       "  </thead>\n",
       "  <tbody>\n",
       "    <tr>\n",
       "      <th>1970-01-01 00:00:00.000001995</th>\n",
       "      <td>6.7</td>\n",
       "      <td>United States of America</td>\n",
       "    </tr>\n",
       "    <tr>\n",
       "      <th>1970-01-01 00:00:00.000001977</th>\n",
       "      <td>8.7</td>\n",
       "      <td>United States of America</td>\n",
       "    </tr>\n",
       "    <tr>\n",
       "      <th>1970-01-01 00:00:00.000002003</th>\n",
       "      <td>8.2</td>\n",
       "      <td>United States of America</td>\n",
       "    </tr>\n",
       "    <tr>\n",
       "      <th>1970-01-01 00:00:00.000001994</th>\n",
       "      <td>8.8</td>\n",
       "      <td>United States of America</td>\n",
       "    </tr>\n",
       "    <tr>\n",
       "      <th>1970-01-01 00:00:00.000001999</th>\n",
       "      <td>8.4</td>\n",
       "      <td>United States of America</td>\n",
       "    </tr>\n",
       "  </tbody>\n",
       "</table>\n",
       "</div>"
      ],
      "text/plain": [
       "                               imdb_score      production_countries\n",
       "title_year                                                         \n",
       "1970-01-01 00:00:00.000001995         6.7  United States of America\n",
       "1970-01-01 00:00:00.000001977         8.7  United States of America\n",
       "1970-01-01 00:00:00.000002003         8.2  United States of America\n",
       "1970-01-01 00:00:00.000001994         8.8  United States of America\n",
       "1970-01-01 00:00:00.000001999         8.4  United States of America"
      ]
     },
     "execution_count": 34,
     "metadata": {},
     "output_type": "execute_result"
    }
   ],
   "source": [
    "usa = average_score[average_score['production_countries'].str.contains(\"United States of America\")]\n",
    "usa.head()"
   ]
  },
  {
   "cell_type": "code",
   "execution_count": 35,
   "metadata": {},
   "outputs": [
    {
     "data": {
      "text/html": [
       "<div>\n",
       "<style scoped>\n",
       "    .dataframe tbody tr th:only-of-type {\n",
       "        vertical-align: middle;\n",
       "    }\n",
       "\n",
       "    .dataframe tbody tr th {\n",
       "        vertical-align: top;\n",
       "    }\n",
       "\n",
       "    .dataframe thead th {\n",
       "        text-align: right;\n",
       "    }\n",
       "</style>\n",
       "<table border=\"1\" class=\"dataframe\">\n",
       "  <thead>\n",
       "    <tr style=\"text-align: right;\">\n",
       "      <th></th>\n",
       "      <th>imdb_score</th>\n",
       "      <th>production_countries</th>\n",
       "    </tr>\n",
       "    <tr>\n",
       "      <th>title_year</th>\n",
       "      <th></th>\n",
       "      <th></th>\n",
       "    </tr>\n",
       "  </thead>\n",
       "  <tbody>\n",
       "    <tr>\n",
       "      <th>1970-01-01</th>\n",
       "      <td>6.427977</td>\n",
       "      <td>United States of America</td>\n",
       "    </tr>\n",
       "  </tbody>\n",
       "</table>\n",
       "</div>"
      ],
      "text/plain": [
       "            imdb_score      production_countries\n",
       "title_year                                      \n",
       "1970-01-01    6.427977  United States of America"
      ]
     },
     "execution_count": 35,
     "metadata": {},
     "output_type": "execute_result"
    }
   ],
   "source": [
    "#Adapted from https://stackoverflow.com/questions/57577805/my-non-numeric-columns-are-deleted-on-resample\n",
    "num = usa.select_dtypes('float64').columns\n",
    "non_num = usa.columns.difference(num)\n",
    "d = {**{x: 'mean' for x in num}, **{x: 'first' for x in non_num}}\n",
    "\n",
    "#resample the data to get the mean imbd score for each year while keeping the non-numerical data\n",
    "usa = usa.resample('AS').agg(d)\n",
    "usa.head()"
   ]
  },
  {
   "cell_type": "code",
   "execution_count": 36,
   "metadata": {},
   "outputs": [],
   "source": [
    "usa = usa.dropna()"
   ]
  },
  {
   "cell_type": "code",
   "execution_count": 37,
   "metadata": {},
   "outputs": [
    {
     "data": {
      "text/html": [
       "<div>\n",
       "<style scoped>\n",
       "    .dataframe tbody tr th:only-of-type {\n",
       "        vertical-align: middle;\n",
       "    }\n",
       "\n",
       "    .dataframe tbody tr th {\n",
       "        vertical-align: top;\n",
       "    }\n",
       "\n",
       "    .dataframe thead th {\n",
       "        text-align: right;\n",
       "    }\n",
       "</style>\n",
       "<table border=\"1\" class=\"dataframe\">\n",
       "  <thead>\n",
       "    <tr style=\"text-align: right;\">\n",
       "      <th></th>\n",
       "      <th>imdb_score</th>\n",
       "      <th>production_countries</th>\n",
       "    </tr>\n",
       "    <tr>\n",
       "      <th>title_year</th>\n",
       "      <th></th>\n",
       "      <th></th>\n",
       "    </tr>\n",
       "  </thead>\n",
       "  <tbody>\n",
       "    <tr>\n",
       "      <th>1970-01-01</th>\n",
       "      <td>6.427977</td>\n",
       "      <td>United States of America</td>\n",
       "    </tr>\n",
       "  </tbody>\n",
       "</table>\n",
       "</div>"
      ],
      "text/plain": [
       "            imdb_score      production_countries\n",
       "title_year                                      \n",
       "1970-01-01    6.427977  United States of America"
      ]
     },
     "execution_count": 37,
     "metadata": {},
     "output_type": "execute_result"
    }
   ],
   "source": [
    "usa.head()"
   ]
  },
  {
   "cell_type": "code",
   "execution_count": 38,
   "metadata": {},
   "outputs": [],
   "source": [
    "usa.index = pd.to_datetime(usa.index, format='%Y').year #format the index to just display year"
   ]
  },
  {
   "cell_type": "code",
   "execution_count": 39,
   "metadata": {},
   "outputs": [],
   "source": [
    "usa_pivot = pd.pivot_table(usa, index=['production_countries'], columns=usa.index, values=\"imdb_score\")"
   ]
  },
  {
   "cell_type": "code",
   "execution_count": 40,
   "metadata": {},
   "outputs": [
    {
     "data": {
      "image/png": "[encoded data removed]",
      "text/plain": [
       "<Figure size 1080x360 with 2 Axes>"
      ]
     },
     "metadata": {
      "needs_background": "light"
     },
     "output_type": "display_data"
    }
   ],
   "source": [
    "fig = plt.figure(figsize = (15,5))\n",
    "ax = fig.add_subplot(111)\n",
    "sns.heatmap(usa_pivot,ax=ax, cbar_kws={'label': 'IMDB Score'})\n",
    "ax.set_ylabel('Production Country')\n",
    "ax.set_xlabel('year')\n",
    "ax.set_title('Average IMDB Score')\n",
    "plt.show()"
   ]
  },
  {
   "cell_type": "markdown",
   "metadata": {},
   "source": [
    "The above heatplot displays that the average IMDB score for American produced movies has declined over the years."
   ]
  },
  {
   "cell_type": "code",
   "execution_count": 41,
   "metadata": {},
   "outputs": [],
   "source": [
    "corr = clean_df.corr()"
   ]
  },
  {
   "cell_type": "code",
   "execution_count": 42,
   "metadata": {},
   "outputs": [
    {
     "data": {
      "image/png": "[encoded data removed]",
      "text/plain": [
       "<Figure size 720x432 with 2 Axes>"
      ]
     },
     "metadata": {
      "needs_background": "light"
     },
     "output_type": "display_data"
    }
   ],
   "source": [
    "fig = plt.figure(figsize = (10,6))\n",
    "ax = fig.add_subplot(111)\n",
    "sns.heatmap(corr,ax=ax, annot=True, fmt=\".3f\")\n",
    "plt.show()"
   ]
  },
  {
   "cell_type": "markdown",
   "metadata": {},
   "source": [
    "Correlation between 10 variables"
   ]
  },
  {
   "cell_type": "markdown",
   "metadata": {},
   "source": [
    "# Plot Highest Earning Movies"
   ]
  },
  {
   "cell_type": "code",
   "execution_count": 43,
   "metadata": {},
   "outputs": [],
   "source": [
    "#sort revenue column in descending order + store it in a new dataframe.\n",
    "top_10 = pd.DataFrame(clean_df['revenue'].sort_values(ascending = False))\n",
    "top_10['movie_title'] = clean_df['movie_title']\n",
    "\n",
    "top_10 = top_10.drop_duplicates()\n",
    "\n",
    "#get top 10 movies with high revenue data from the dataframe.\n",
    "top_10= top_10[['movie_title','revenue']][:10]"
   ]
  },
  {
   "cell_type": "code",
   "execution_count": 44,
   "metadata": {},
   "outputs": [
    {
     "data": {
      "image/png": "[encoded data removed]",
      "text/plain": [
       "<Figure size 864x360 with 1 Axes>"
      ]
     },
     "metadata": {},
     "output_type": "display_data"
    }
   ],
   "source": [
    "sns.set_style(\"whitegrid\")\n",
    "plt.figure(figsize=(12,5))\n",
    "ax = sns.pointplot(x='revenue',y='movie_title', data=top_10)\n",
    "ax.set_title(\"Top 10: Highest revenue Movies\",fontsize = 15)\n",
    "ax.set_xlabel(\"Revenue\",fontsize = 13)\n",
    "plt.show()"
   ]
  },
  {
   "cell_type": "markdown",
   "metadata": {},
   "source": [
    "# Plot Highest Earning Production Companies"
   ]
  },
  {
   "cell_type": "code",
   "execution_count": 45,
   "metadata": {},
   "outputs": [],
   "source": [
    "#sort revenue column in descending order + store it in a new dataframe for top production companies\n",
    "top_10_prod = pd.DataFrame(clean_df['revenue'].sort_values(ascending = False))\n",
    "top_10_prod['production_companies'] = clean_df['production_companies']\n",
    "top_10_prod['production_countries'] = clean_df['production_countries']\n",
    "top_10= top_10_prod[['production_companies','revenue', 'production_countries']][:20]"
   ]
  },
  {
   "cell_type": "code",
   "execution_count": 46,
   "metadata": {},
   "outputs": [
    {
     "data": {
      "image/png": "[encoded data removed]",
      "text/plain": [
       "<Figure size 1440x432 with 1 Axes>"
      ]
     },
     "metadata": {},
     "output_type": "display_data"
    }
   ],
   "source": [
    "plt.figure(figsize=(20, 6))\n",
    "ax = sns.barplot(x=\"production_companies\", y=\"revenue\", hue='production_countries',data=top_10,dodge=False, palette='muted');\n",
    "ax.set(xlabel='Production Company', ylabel='Revenue',title='Top 10 Production Companies')\n",
    "plt.legend(loc='upper right')\n",
    "plt.show()"
   ]
  },
  {
   "cell_type": "markdown",
   "metadata": {},
   "source": [
    "As we can see there is a high saturation of American production companies with 6/10 being American. It should be noted that we dropped foreign language films which is likely to have had an impact on these results.  "
   ]
  },
  {
   "cell_type": "markdown",
   "metadata": {},
   "source": [
    "# Plot Highest Earning Directors"
   ]
  },
  {
   "cell_type": "code",
   "execution_count": 47,
   "metadata": {},
   "outputs": [
    {
     "data": {
      "text/html": [
       "<div>\n",
       "<style scoped>\n",
       "    .dataframe tbody tr th:only-of-type {\n",
       "        vertical-align: middle;\n",
       "    }\n",
       "\n",
       "    .dataframe tbody tr th {\n",
       "        vertical-align: top;\n",
       "    }\n",
       "\n",
       "    .dataframe thead th {\n",
       "        text-align: right;\n",
       "    }\n",
       "</style>\n",
       "<table border=\"1\" class=\"dataframe\">\n",
       "  <thead>\n",
       "    <tr style=\"text-align: right;\">\n",
       "      <th></th>\n",
       "      <th>movie_title</th>\n",
       "      <th>revenue</th>\n",
       "      <th>director_name</th>\n",
       "    </tr>\n",
       "  </thead>\n",
       "  <tbody>\n",
       "    <tr>\n",
       "      <th>2627</th>\n",
       "      <td>Avatar</td>\n",
       "      <td>2781505847</td>\n",
       "      <td>James Cameron</td>\n",
       "    </tr>\n",
       "    <tr>\n",
       "      <th>240</th>\n",
       "      <td>Titanic</td>\n",
       "      <td>1845034188</td>\n",
       "      <td>James Cameron</td>\n",
       "    </tr>\n",
       "    <tr>\n",
       "      <th>2783</th>\n",
       "      <td>The Avengers</td>\n",
       "      <td>1519557910</td>\n",
       "      <td>Joss Whedon</td>\n",
       "    </tr>\n",
       "    <tr>\n",
       "      <th>3944</th>\n",
       "      <td>Jurassic World</td>\n",
       "      <td>1513528810</td>\n",
       "      <td>Colin Trevorrow</td>\n",
       "    </tr>\n",
       "    <tr>\n",
       "      <th>4039</th>\n",
       "      <td>Furious 7</td>\n",
       "      <td>1506249360</td>\n",
       "      <td>James Wan</td>\n",
       "    </tr>\n",
       "  </tbody>\n",
       "</table>\n",
       "</div>"
      ],
      "text/plain": [
       "          movie_title     revenue    director_name\n",
       "2627          Avatar   2781505847    James Cameron\n",
       "240          Titanic   1845034188    James Cameron\n",
       "2783    The Avengers   1519557910      Joss Whedon\n",
       "3944  Jurassic World   1513528810  Colin Trevorrow\n",
       "4039       Furious 7   1506249360        James Wan"
      ]
     },
     "execution_count": 47,
     "metadata": {},
     "output_type": "execute_result"
    }
   ],
   "source": [
    "# Using previously created top 10 revenue data, creating a new data frame to include the director\n",
    "top_10[['movie_title', 'director_name']] = clean_df[['movie_title', 'director_name']]\n",
    "\n",
    "top_10 = top_10.drop_duplicates()\n",
    "\n",
    "#get top 10 movies with high revenue data from the dataframe.\n",
    "top_10= top_10[['movie_title','revenue', 'director_name']][:10]\n",
    "\n",
    "top_10.head()"
   ]
  },
  {
   "cell_type": "code",
   "execution_count": 48,
   "metadata": {},
   "outputs": [
    {
     "data": {
      "image/png": "[encoded data removed]",
      "text/plain": [
       "<Figure size 1440x432 with 1 Axes>"
      ]
     },
     "metadata": {},
     "output_type": "display_data"
    }
   ],
   "source": [
    "plt.figure(figsize=(20, 6))\n",
    "ax = sns.barplot(x=\"director_name\", y=\"revenue\", hue='movie_title',data=top_10,dodge=False);\n",
    "plt.xlabel('Director', fontsize = 14)\n",
    "plt.ylabel('Revenue / $', fontsize = 14)\n",
    "plt.title('Top 10 Revenue Earning Directors', fontsize = 14)\n",
    "plt.legend(loc='upper right')\n",
    "plt.show()"
   ]
  },
  {
   "cell_type": "markdown",
   "metadata": {},
   "source": [
    "# Splitting Genres\n",
    "\n",
    "In our original dataframe, genres had been grouped together into a single column (`genres_x`). Obviously, films are classified into many genres and to have each genre apply to a seperate row would make for a messy (and enormous) dataframe. <br>\n",
    "\n",
    "We created two datasets for different eploration and training purposes. The clean_dummy dataset which converts each genre to dummy values and then is joined back to the entire dataframe. Each genre has it's own column and if it applies to a film it is marked with a `1` in that row. <br>\n",
    "\n",
    "The `clean_string` dataset includes the genres as object values. A new column `genres` is added which includes the object vaule of the genre for exploration purposes."
   ]
  },
  {
   "cell_type": "code",
   "execution_count": 49,
   "metadata": {},
   "outputs": [],
   "source": [
    "#Creating a dummy dataframe for genres and joining it back into our original dataframe\n",
    "clean_dummy = pd.DataFrame(clean_df).copy()"
   ]
  },
  {
   "cell_type": "code",
   "execution_count": 50,
   "metadata": {},
   "outputs": [],
   "source": [
    "clean_dummy = clean_dummy.join(clean_dummy.pop('genres_x').str.get_dummies('|'))"
   ]
  },
  {
   "cell_type": "code",
   "execution_count": 51,
   "metadata": {},
   "outputs": [
    {
     "data": {
      "text/html": [
       "<div>\n",
       "<style scoped>\n",
       "    .dataframe tbody tr th:only-of-type {\n",
       "        vertical-align: middle;\n",
       "    }\n",
       "\n",
       "    .dataframe tbody tr th {\n",
       "        vertical-align: top;\n",
       "    }\n",
       "\n",
       "    .dataframe thead th {\n",
       "        text-align: right;\n",
       "    }\n",
       "</style>\n",
       "<table border=\"1\" class=\"dataframe\">\n",
       "  <thead>\n",
       "    <tr style=\"text-align: right;\">\n",
       "      <th></th>\n",
       "      <th>imdb_id</th>\n",
       "      <th>movie_title</th>\n",
       "      <th>title_year</th>\n",
       "      <th>budget_x</th>\n",
       "      <th>production_companies</th>\n",
       "      <th>production_countries</th>\n",
       "      <th>release_date</th>\n",
       "      <th>revenue</th>\n",
       "      <th>vote_average</th>\n",
       "      <th>director_name</th>\n",
       "      <th>...</th>\n",
       "      <th>Foreign</th>\n",
       "      <th>History</th>\n",
       "      <th>Horror</th>\n",
       "      <th>Music</th>\n",
       "      <th>Mystery</th>\n",
       "      <th>Romance</th>\n",
       "      <th>Science Fiction</th>\n",
       "      <th>Thriller</th>\n",
       "      <th>War</th>\n",
       "      <th>Western</th>\n",
       "    </tr>\n",
       "  </thead>\n",
       "  <tbody>\n",
       "    <tr>\n",
       "      <th>0</th>\n",
       "      <td>tt0113101</td>\n",
       "      <td>Four Rooms</td>\n",
       "      <td>1995</td>\n",
       "      <td>4000000</td>\n",
       "      <td>Miramax Films</td>\n",
       "      <td>United States of America</td>\n",
       "      <td>25-12-95</td>\n",
       "      <td>4300000</td>\n",
       "      <td>6.5</td>\n",
       "      <td>Allison Anders</td>\n",
       "      <td>...</td>\n",
       "      <td>0</td>\n",
       "      <td>0</td>\n",
       "      <td>0</td>\n",
       "      <td>0</td>\n",
       "      <td>0</td>\n",
       "      <td>0</td>\n",
       "      <td>0</td>\n",
       "      <td>0</td>\n",
       "      <td>0</td>\n",
       "      <td>0</td>\n",
       "    </tr>\n",
       "    <tr>\n",
       "      <th>1</th>\n",
       "      <td>tt0076759</td>\n",
       "      <td>Star Wars: Episode IV - A New Hope</td>\n",
       "      <td>1977</td>\n",
       "      <td>11000000</td>\n",
       "      <td>Lucasfilm</td>\n",
       "      <td>United States of America</td>\n",
       "      <td>25-05-77</td>\n",
       "      <td>775398007</td>\n",
       "      <td>8.0</td>\n",
       "      <td>George Lucas</td>\n",
       "      <td>...</td>\n",
       "      <td>0</td>\n",
       "      <td>0</td>\n",
       "      <td>0</td>\n",
       "      <td>0</td>\n",
       "      <td>0</td>\n",
       "      <td>0</td>\n",
       "      <td>1</td>\n",
       "      <td>0</td>\n",
       "      <td>0</td>\n",
       "      <td>0</td>\n",
       "    </tr>\n",
       "    <tr>\n",
       "      <th>2</th>\n",
       "      <td>tt0266543</td>\n",
       "      <td>Finding Nemo</td>\n",
       "      <td>2003</td>\n",
       "      <td>94000000</td>\n",
       "      <td>Pixar Animation Studios</td>\n",
       "      <td>United States of America</td>\n",
       "      <td>30-05-03</td>\n",
       "      <td>940335536</td>\n",
       "      <td>7.6</td>\n",
       "      <td>Andrew Stanton</td>\n",
       "      <td>...</td>\n",
       "      <td>0</td>\n",
       "      <td>0</td>\n",
       "      <td>0</td>\n",
       "      <td>0</td>\n",
       "      <td>0</td>\n",
       "      <td>0</td>\n",
       "      <td>0</td>\n",
       "      <td>0</td>\n",
       "      <td>0</td>\n",
       "      <td>0</td>\n",
       "    </tr>\n",
       "    <tr>\n",
       "      <th>3</th>\n",
       "      <td>tt0109830</td>\n",
       "      <td>Forrest Gump</td>\n",
       "      <td>1994</td>\n",
       "      <td>55000000</td>\n",
       "      <td>Paramount Pictures</td>\n",
       "      <td>United States of America</td>\n",
       "      <td>06-07-94</td>\n",
       "      <td>677945399</td>\n",
       "      <td>8.2</td>\n",
       "      <td>Robert Zemeckis</td>\n",
       "      <td>...</td>\n",
       "      <td>0</td>\n",
       "      <td>0</td>\n",
       "      <td>0</td>\n",
       "      <td>0</td>\n",
       "      <td>0</td>\n",
       "      <td>1</td>\n",
       "      <td>0</td>\n",
       "      <td>0</td>\n",
       "      <td>0</td>\n",
       "      <td>0</td>\n",
       "    </tr>\n",
       "    <tr>\n",
       "      <th>4</th>\n",
       "      <td>tt0169547</td>\n",
       "      <td>American Beauty</td>\n",
       "      <td>1999</td>\n",
       "      <td>15000000</td>\n",
       "      <td>DreamWorks SKG</td>\n",
       "      <td>United States of America</td>\n",
       "      <td>15-09-99</td>\n",
       "      <td>356296601</td>\n",
       "      <td>7.9</td>\n",
       "      <td>Sam Mendes</td>\n",
       "      <td>...</td>\n",
       "      <td>0</td>\n",
       "      <td>0</td>\n",
       "      <td>0</td>\n",
       "      <td>0</td>\n",
       "      <td>0</td>\n",
       "      <td>0</td>\n",
       "      <td>0</td>\n",
       "      <td>0</td>\n",
       "      <td>0</td>\n",
       "      <td>0</td>\n",
       "    </tr>\n",
       "  </tbody>\n",
       "</table>\n",
       "<p>5 rows × 42 columns</p>\n",
       "</div>"
      ],
      "text/plain": [
       "     imdb_id                          movie_title  title_year  budget_x  \\\n",
       "0  tt0113101                          Four Rooms         1995   4000000   \n",
       "1  tt0076759  Star Wars: Episode IV - A New Hope         1977  11000000   \n",
       "2  tt0266543                        Finding Nemo         2003  94000000   \n",
       "3  tt0109830                        Forrest Gump         1994  55000000   \n",
       "4  tt0169547                     American Beauty         1999  15000000   \n",
       "\n",
       "      production_companies      production_countries release_date    revenue  \\\n",
       "0            Miramax Films  United States of America     25-12-95    4300000   \n",
       "1                Lucasfilm  United States of America     25-05-77  775398007   \n",
       "2  Pixar Animation Studios  United States of America     30-05-03  940335536   \n",
       "3       Paramount Pictures  United States of America     06-07-94  677945399   \n",
       "4           DreamWorks SKG  United States of America     15-09-99  356296601   \n",
       "\n",
       "   vote_average    director_name  ...  Foreign  History Horror  Music  \\\n",
       "0           6.5   Allison Anders  ...        0        0      0      0   \n",
       "1           8.0     George Lucas  ...        0        0      0      0   \n",
       "2           7.6   Andrew Stanton  ...        0        0      0      0   \n",
       "3           8.2  Robert Zemeckis  ...        0        0      0      0   \n",
       "4           7.9       Sam Mendes  ...        0        0      0      0   \n",
       "\n",
       "   Mystery Romance Science Fiction Thriller War Western  \n",
       "0        0       0               0        0   0       0  \n",
       "1        0       0               1        0   0       0  \n",
       "2        0       0               0        0   0       0  \n",
       "3        0       1               0        0   0       0  \n",
       "4        0       0               0        0   0       0  \n",
       "\n",
       "[5 rows x 42 columns]"
      ]
     },
     "execution_count": 51,
     "metadata": {},
     "output_type": "execute_result"
    }
   ],
   "source": [
    "clean_dummy.head()"
   ]
  },
  {
   "cell_type": "markdown",
   "metadata": {},
   "source": [
    "# Exploring Genres\n",
    "\n",
    "\n",
    "Code has been adapted from https://stackoverflow.com/questions/12680754/split-explode-pandas-dataframe-string-entry-to-separate-rows"
   ]
  },
  {
   "cell_type": "code",
   "execution_count": 52,
   "metadata": {},
   "outputs": [],
   "source": [
    "#go through genres_x column and split on | to get the genre and apply to a series\n",
    "clean = clean_df['genres_x'].str.split('|').apply(pd.Series, 1).stack()"
   ]
  },
  {
   "cell_type": "code",
   "execution_count": 53,
   "metadata": {},
   "outputs": [],
   "source": [
    "clean.index = clean.index.droplevel(-1) #drop the multi-index\n",
    "clean.name = 'genres' #add new column with the genre names\n",
    "clean_string = clean_df.join(clean) #join back df"
   ]
  },
  {
   "cell_type": "code",
   "execution_count": 54,
   "metadata": {},
   "outputs": [],
   "source": [
    "clean_string = clean_string.drop(['genres_x', 'genres_y'], 1)"
   ]
  },
  {
   "cell_type": "code",
   "execution_count": 55,
   "metadata": {},
   "outputs": [],
   "source": [
    "genre = (pd.DataFrame(clean_string.groupby('genres').movie_title.nunique())).sort_values('movie_title', ascending=False)"
   ]
  },
  {
   "cell_type": "code",
   "execution_count": 56,
   "metadata": {},
   "outputs": [
    {
     "data": {
      "image/png": "[encoded data removed]",
      "text/plain": [
       "<Figure size 1440x576 with 1 Axes>"
      ]
     },
     "metadata": {},
     "output_type": "display_data"
    }
   ],
   "source": [
    "plt.figure(figsize=(20, 8))\n",
    "ax = sns.barplot(x=\"movie_title\", y=genre.index, data=genre,dodge=False);\n",
    "ax.set(xlabel='Movie Count', ylabel='Genres',title='Movies per genre')\n",
    "plt.show()"
   ]
  },
  {
   "cell_type": "markdown",
   "metadata": {},
   "source": [
    "The above plot demonstrates that the most common film genres are Drama, Comedy and Thriller."
   ]
  },
  {
   "cell_type": "markdown",
   "metadata": {},
   "source": [
    "The above plot demonstrates that the most common genres for Netflix originals are Family Animation, Comedy and Drama."
   ]
  },
  {
   "cell_type": "markdown",
   "metadata": {},
   "source": [
    "# Analysis Questions"
   ]
  },
  {
   "cell_type": "markdown",
   "metadata": {},
   "source": [
    "* Can we can predict a film’s genre based on its budget or other factors?\n",
    "* Is there a relationship between a movie's IMDB score and it's gross box office earnings?\n",
    "* Does a director’s IMDB score have any impact on popularity or profit ?\n",
    "* Looking at the patterns of budget spend over time - is there a noticeable increase or decrease. If so why?\n",
    "* Does the time of year a movie is released impact profit?\n",
    "* Does social media have an impact on movie success? Do more social media likes lead to more profit generated?\n",
    "* Overall do economic impacts lead to a decrease in film uniqueness and originality?"
   ]
  },
  {
   "cell_type": "markdown",
   "metadata": {},
   "source": [
    "# Prediciting a Film's Genre "
   ]
  },
  {
   "cell_type": "markdown",
   "metadata": {},
   "source": [
    "## K Nearest Neighbours Model"
   ]
  },
  {
   "cell_type": "code",
   "execution_count": 57,
   "metadata": {},
   "outputs": [
    {
     "name": "stdout",
     "output_type": "stream",
     "text": [
      "(1700, 23)\n",
      "(6798, 23)\n"
     ]
    }
   ],
   "source": [
    "#Creating training and testing dataframes\n",
    "train, test = train_test_split(clean_string, test_size=0.2, random_state=22)\n",
    "print(test.shape)\n",
    "print(train.shape)"
   ]
  },
  {
   "cell_type": "code",
   "execution_count": 58,
   "metadata": {},
   "outputs": [
    {
     "name": "stdout",
     "output_type": "stream",
     "text": [
      "x_train shape: (6798, 2)\n",
      "y_train shape: (6798,)\n",
      "x_test shape: (1700, 2)\n",
      "y_test shape: (1700,)\n"
     ]
    }
   ],
   "source": [
    "#Create X and Y train/test data\n",
    "x_train = train[['budget_x', 'revenue']]\n",
    "y_train = train['genres']\n",
    "\n",
    "x_test = test[['budget_x','revenue']]\n",
    "y_test = test['genres']\n",
    "\n",
    "print('x_train shape:', x_train.shape)\n",
    "print('y_train shape:', y_train.shape)\n",
    "print('x_test shape:', x_test.shape)\n",
    "print('y_test shape:', y_test.shape)"
   ]
  },
  {
   "cell_type": "code",
   "execution_count": 59,
   "metadata": {},
   "outputs": [
    {
     "data": {
      "text/plain": [
       "KNeighborsClassifier(algorithm='auto', leaf_size=30, metric='minkowski',\n",
       "                     metric_params=None, n_jobs=None, n_neighbors=1, p=2,\n",
       "                     weights='uniform')"
      ]
     },
     "execution_count": 59,
     "metadata": {},
     "output_type": "execute_result"
    }
   ],
   "source": [
    "#Initalise and Fit our model\n",
    "knn = KNeighborsClassifier(n_neighbors=1)\n",
    "knn.fit(x_train, y_train)"
   ]
  },
  {
   "cell_type": "code",
   "execution_count": 60,
   "metadata": {},
   "outputs": [
    {
     "name": "stdout",
     "output_type": "stream",
     "text": [
      "Training set metrics\n",
      "Accuracy score:  0.4240953221535746\n",
      "F1:  0.42487039863929\n"
     ]
    }
   ],
   "source": [
    "y_train_p = knn.predict(x_train)\n",
    "\n",
    "print('Training set metrics')\n",
    "print('Accuracy score: ', accuracy_score(y_train_p, y_train)) \n",
    "print('F1: ', f1_score(y_train_p, y_train, average='weighted')) "
   ]
  },
  {
   "cell_type": "code",
   "execution_count": 61,
   "metadata": {},
   "outputs": [
    {
     "name": "stdout",
     "output_type": "stream",
     "text": [
      "Testing set metrics\n",
      "Accuracy score:  0.042352941176470586\n",
      "F1:  0.042510933054874495\n"
     ]
    }
   ],
   "source": [
    "y_test_p = knn.predict(x_test)\n",
    "\n",
    "print('Testing set metrics')\n",
    "print('Accuracy score: ', accuracy_score(y_test_p, y_test)) \n",
    "print('F1: ', f1_score(y_test_p, y_test, average='weighted')) "
   ]
  },
  {
   "cell_type": "markdown",
   "metadata": {},
   "source": [
    "As we can see the model is performing poorly on the training set and extremly poorly on the test set. A reason for this may be the high number of variance in the provided values. Where budget and revenue can range anywhere from the tens of thousands up to millions of dollars."
   ]
  },
  {
   "cell_type": "markdown",
   "metadata": {},
   "source": [
    "## Cross Fold Validation Model"
   ]
  },
  {
   "cell_type": "markdown",
   "metadata": {},
   "source": [
    "Fine tuning the parameters with CV looking at the accuracy score of different K values and CV folds."
   ]
  },
  {
   "cell_type": "code",
   "execution_count": 62,
   "metadata": {},
   "outputs": [
    {
     "name": "stdout",
     "output_type": "stream",
     "text": [
      "[0.0869741570121276, 0.11035903160280244, 0.11246952458225361, 0.12736184911793053, 0.12329729806245611, 0.13219148255703606, 0.1330814564473501, 0.13653993850704405, 0.1442089467289846, 0.14541942127348945]\n"
     ]
    }
   ],
   "source": [
    "neighbors = list(range(1,11))\n",
    "cv_scores = []\n",
    "for n in neighbors:\n",
    "    knn = KNeighborsClassifier(n_neighbors=n)\n",
    "    scores = cross_val_score(knn, x_test, y_test, cv=10, scoring='accuracy')\n",
    "    cv_scores.append(scores.mean()) #get mean for each fold\n",
    "print(cv_scores)"
   ]
  },
  {
   "cell_type": "code",
   "execution_count": 63,
   "metadata": {},
   "outputs": [
    {
     "data": {
      "image/png": "[encoded data removed]",
      "text/plain": [
       "<Figure size 648x432 with 1 Axes>"
      ]
     },
     "metadata": {},
     "output_type": "display_data"
    }
   ],
   "source": [
    "plt.figure(figsize=(9, 6))\n",
    "plt.plot(neighbors, cv_scores)\n",
    "plt.ylabel(\"10-fold acc score\")\n",
    "plt.title(\"10-fold acc scores at different k values\")\n",
    "plt.grid()\n",
    "plt.show()"
   ]
  },
  {
   "cell_type": "code",
   "execution_count": 64,
   "metadata": {},
   "outputs": [
    {
     "name": "stdout",
     "output_type": "stream",
     "text": [
      "[0.9130258429878724, 0.8896409683971975, 0.8875304754177464, 0.8726381508820695, 0.8767027019375438, 0.867808517442964, 0.8669185435526499, 0.863460061492956, 0.8557910532710153, 0.8545805787265106]\n"
     ]
    }
   ],
   "source": [
    "errors = [1-score for score in cv_scores] \n",
    "print(errors)"
   ]
  },
  {
   "cell_type": "code",
   "execution_count": 65,
   "metadata": {},
   "outputs": [
    {
     "data": {
      "image/png": "[encoded data removed]",
      "text/plain": [
       "<Figure size 648x432 with 1 Axes>"
      ]
     },
     "metadata": {},
     "output_type": "display_data"
    }
   ],
   "source": [
    "plt.figure(figsize=(9, 6))\n",
    "plt.plot(neighbors, errors, color='red')\n",
    "plt.title(\"Misclassification error vs K\")\n",
    "plt.grid()\n",
    "plt.show()"
   ]
  },
  {
   "cell_type": "markdown",
   "metadata": {},
   "source": [
    "The accuracy improves after 10 cv-folds however the model is still unable to adequately predict the genre. As we can see in the second plot, the misclassification error is very high, only dropping to 0.86 after 10 cv-folds."
   ]
  },
  {
   "cell_type": "markdown",
   "metadata": {},
   "source": [
    "## Gaussian Naive Bayes"
   ]
  },
  {
   "cell_type": "code",
   "execution_count": 66,
   "metadata": {},
   "outputs": [
    {
     "data": {
      "text/plain": [
       "GaussianNB(priors=None, var_smoothing=1e-09)"
      ]
     },
     "execution_count": 66,
     "metadata": {},
     "output_type": "execute_result"
    }
   ],
   "source": [
    "gnb = GaussianNB()\n",
    "gnb.fit(x_train, y_train)"
   ]
  },
  {
   "cell_type": "code",
   "execution_count": 67,
   "metadata": {},
   "outputs": [
    {
     "name": "stdout",
     "output_type": "stream",
     "text": [
      "Accuracy score on training set:  0.1829949985289791\n",
      "F1:  0.26532633274406014\n"
     ]
    }
   ],
   "source": [
    "y_train_pred = gnb.predict(x_train)\n",
    "print('Accuracy score on training set: ', accuracy_score(y_train_pred, y_train)) \n",
    "print('F1: ', f1_score(y_train_pred, y_train, average='weighted')) "
   ]
  },
  {
   "cell_type": "code",
   "execution_count": 68,
   "metadata": {},
   "outputs": [
    {
     "name": "stdout",
     "output_type": "stream",
     "text": [
      "Accuracy score on testing set:  0.18529411764705883\n",
      "F1:  0.27069545418221386\n"
     ]
    }
   ],
   "source": [
    "y_test_pred = gnb.predict(x_test)\n",
    "print('Accuracy score on testing set: ', accuracy_score(y_test, y_test_pred))\n",
    "print('F1: ', f1_score(y_test_pred, y_test, average='weighted')) "
   ]
  },
  {
   "cell_type": "markdown",
   "metadata": {},
   "source": [
    "In terms of overfitting Gaussian Navie Bayes is performing better than KNN, but still the model is predicitng very poorly."
   ]
  },
  {
   "cell_type": "markdown",
   "metadata": {},
   "source": [
    "## Logistic Regression"
   ]
  },
  {
   "cell_type": "code",
   "execution_count": 69,
   "metadata": {},
   "outputs": [
    {
     "data": {
      "text/plain": [
       "LogisticRegression(C=1.0, class_weight=None, dual=False, fit_intercept=True,\n",
       "                   intercept_scaling=1, l1_ratio=None, max_iter=100,\n",
       "                   multi_class='warn', n_jobs=None, penalty='l2',\n",
       "                   random_state=None, solver='warn', tol=0.0001, verbose=0,\n",
       "                   warm_start=False)"
      ]
     },
     "execution_count": 69,
     "metadata": {},
     "output_type": "execute_result"
    }
   ],
   "source": [
    "\n",
    "lrmodel = LogisticRegression()\n",
    "lrmodel.fit(x_train,y_train)"
   ]
  },
  {
   "cell_type": "code",
   "execution_count": 70,
   "metadata": {},
   "outputs": [
    {
     "name": "stdout",
     "output_type": "stream",
     "text": [
      "Training set metrics\n",
      "Accuracy score:  0.10856134157105031\n",
      "F1:  0.18670893470535693\n"
     ]
    }
   ],
   "source": [
    "y_train_pred = lrmodel.predict(x_train)\n",
    "\n",
    "print('Training set metrics')\n",
    "print('Accuracy score: ', accuracy_score(y_train_pred, y_train)) \n",
    "print('F1: ', f1_score(y_train_pred, y_train, average='weighted')) "
   ]
  },
  {
   "cell_type": "code",
   "execution_count": 71,
   "metadata": {},
   "outputs": [
    {
     "name": "stdout",
     "output_type": "stream",
     "text": [
      "Testing set metrics\n",
      "Accuracy score:  0.09823529411764706\n",
      "F1:  0.17012272507823462\n"
     ]
    }
   ],
   "source": [
    "y_test_pred = lrmodel.predict(x_test)\n",
    "\n",
    "print('Testing set metrics')\n",
    "print('Accuracy score: ', accuracy_score(y_test_pred, y_test)) \n",
    "print('F1: ', f1_score(y_test_pred, y_test, average='weighted')) "
   ]
  },
  {
   "cell_type": "markdown",
   "metadata": {},
   "source": [
    "## MLP Classifier"
   ]
  },
  {
   "cell_type": "code",
   "execution_count": 72,
   "metadata": {},
   "outputs": [
    {
     "data": {
      "text/plain": [
       "MLPClassifier(activation='relu', alpha=0.0001, batch_size='auto', beta_1=0.9,\n",
       "              beta_2=0.999, early_stopping=False, epsilon=1e-08,\n",
       "              hidden_layer_sizes=(100,), learning_rate='constant',\n",
       "              learning_rate_init=0.001, max_iter=200, momentum=0.9,\n",
       "              n_iter_no_change=10, nesterovs_momentum=True, power_t=0.5,\n",
       "              random_state=0, shuffle=True, solver='adam', tol=0.0001,\n",
       "              validation_fraction=0.1, verbose=False, warm_start=False)"
      ]
     },
     "execution_count": 72,
     "metadata": {},
     "output_type": "execute_result"
    }
   ],
   "source": [
    "mlp = MLPClassifier(random_state=0)\n",
    "mlp.fit(x_train,y_train)"
   ]
  },
  {
   "cell_type": "code",
   "execution_count": 73,
   "metadata": {},
   "outputs": [
    {
     "name": "stdout",
     "output_type": "stream",
     "text": [
      "train acc:  0.08693733451015004\n",
      "test acc:  0.07294117647058823\n"
     ]
    }
   ],
   "source": [
    "mlpy_train_pred = mlp.predict(x_train)\n",
    "mlpy_test_pred = mlp.predict(x_test)\n",
    "print(\"train acc: \", accuracy_score(y_train, mlpy_train_pred))\n",
    "print(\"test acc: \", accuracy_score(y_test,mlpy_test_pred))"
   ]
  },
  {
   "cell_type": "markdown",
   "metadata": {},
   "source": [
    "MLP is not an effective predictor for genre for either of the implementations of train or test splits of data. "
   ]
  },
  {
   "cell_type": "markdown",
   "metadata": {},
   "source": [
    "Overall it is quite difficult to predict genre based on budget, revenue or gross variables."
   ]
  },
  {
   "cell_type": "markdown",
   "metadata": {},
   "source": [
    "# IMDB Score vs Gross\n",
    "\n",
    "Is there a relationship between a movie's IMDB score and it's gross box office earnings?\n"
   ]
  },
  {
   "cell_type": "markdown",
   "metadata": {},
   "source": [
    "## Decision Tree Regressor"
   ]
  },
  {
   "cell_type": "code",
   "execution_count": 74,
   "metadata": {},
   "outputs": [],
   "source": [
    "#Converting \n",
    "clean_dummy['revenue'] = clean_dummy['revenue'].astype(int)"
   ]
  },
  {
   "cell_type": "code",
   "execution_count": 75,
   "metadata": {},
   "outputs": [],
   "source": [
    "clean_dummy['gross'] = clean_dummy['gross'].astype(int)"
   ]
  },
  {
   "cell_type": "code",
   "execution_count": 76,
   "metadata": {},
   "outputs": [
    {
     "name": "stdout",
     "output_type": "stream",
     "text": [
      "(640, 42)\n",
      "(2557, 42)\n"
     ]
    }
   ],
   "source": [
    "train, test = train_test_split(clean_dummy, test_size=0.2, random_state=22)\n",
    "print(test.shape)\n",
    "print(train.shape)"
   ]
  },
  {
   "cell_type": "code",
   "execution_count": 77,
   "metadata": {},
   "outputs": [
    {
     "name": "stdout",
     "output_type": "stream",
     "text": [
      "x_train shape: (2557, 2)\n",
      "y_train shape: (2557,)\n",
      "x_test shape: (640, 2)\n",
      "y_test shape: (640,)\n"
     ]
    }
   ],
   "source": [
    "#Create X and Y train/test data\n",
    "x_train = train[['gross', 'revenue']]\n",
    "y_train = train['imdb_score']\n",
    "\n",
    "x_test = test[['gross', 'revenue']]\n",
    "y_test = test['imdb_score']\n",
    "\n",
    "print('x_train shape:', x_train.shape)\n",
    "print('y_train shape:', y_train.shape)\n",
    "print('x_test shape:', x_test.shape)\n",
    "print('y_test shape:', y_test.shape)"
   ]
  },
  {
   "cell_type": "code",
   "execution_count": 78,
   "metadata": {},
   "outputs": [
    {
     "data": {
      "text/plain": [
       "DecisionTreeRegressor(criterion='mse', max_depth=None, max_features=None,\n",
       "                      max_leaf_nodes=None, min_impurity_decrease=0.0,\n",
       "                      min_impurity_split=None, min_samples_leaf=1,\n",
       "                      min_samples_split=2, min_weight_fraction_leaf=0.0,\n",
       "                      presort=False, random_state=None, splitter='best')"
      ]
     },
     "execution_count": 78,
     "metadata": {},
     "output_type": "execute_result"
    }
   ],
   "source": [
    "tree = DecisionTreeRegressor()\n",
    "tree.fit(x_train, y_train)"
   ]
  },
  {
   "cell_type": "code",
   "execution_count": 79,
   "metadata": {},
   "outputs": [
    {
     "name": "stdout",
     "output_type": "stream",
     "text": [
      "R2 score on training set:  0.9995776812766773\n",
      "MSE on Training Set: 0.021021991576433863\n"
     ]
    }
   ],
   "source": [
    "y_train_pred = tree.predict(x_train)\n",
    "print('R2 score on training set: ', r2_score(y_train_pred, y_train))\n",
    "print('MSE on Training Set:', np.sqrt(mean_squared_error(y_train_pred, y_train)))\n",
    "\n"
   ]
  },
  {
   "cell_type": "code",
   "execution_count": 80,
   "metadata": {},
   "outputs": [
    {
     "name": "stdout",
     "output_type": "stream",
     "text": [
      "R2 score on testing set:  -0.6526414070849957\n",
      "MSE on Testing Set: 1.4333145589855703\n"
     ]
    }
   ],
   "source": [
    "y_test_pred = tree.predict(x_test)\n",
    "print('R2 score on testing set: ', r2_score(y_test_pred, y_test))\n",
    "print('MSE on Testing Set:', np.sqrt(mean_squared_error(y_test_pred, y_test)))"
   ]
  },
  {
   "cell_type": "markdown",
   "metadata": {},
   "source": [
    "Although the R Squared score and MSE on the training set peforms extremely well, the testing set does not. This could be attributed to the fact that the predicting variables and subjective and will change over time. As a result of inflation, the world's economy has changed over time, a top box office earning film in the 1960s might earn half of what a film in 2019 would. <br>\n",
    "Also, people's taste in films have changed since moving pictures were first invented and they will always continue to. It's impossible to predict what is a \"successful\" movie because that can only be determined by the social climate of the time. "
   ]
  },
  {
   "cell_type": "code",
   "execution_count": 81,
   "metadata": {},
   "outputs": [
    {
     "data": {
      "text/plain": [
       "Text(0.5, 1.0, 'Decision Tree Regression')"
      ]
     },
     "execution_count": 81,
     "metadata": {},
     "output_type": "execute_result"
    },
    {
     "data": {
      "image/png": "[encoded data removed]",
      "text/plain": [
       "<Figure size 576x360 with 1 Axes>"
      ]
     },
     "metadata": {},
     "output_type": "display_data"
    }
   ],
   "source": [
    "plt.figure(figsize=(8, 5))\n",
    "plt.scatter(x_train['gross'], y_train, marker = \"*\", s=50, color = 'green')\n",
    "plt.xlabel(\"Gross\", fontsize = 12)\n",
    "plt.ylabel(\"Score\", fontsize = 12)\n",
    "plt.grid()\n",
    "plt.title(\"Decision Tree Regression\", fontsize = 14)"
   ]
  },
  {
   "cell_type": "code",
   "execution_count": 82,
   "metadata": {},
   "outputs": [
    {
     "data": {
      "text/plain": [
       "Text(0.5, 1.0, 'Decision Tree Regression')"
      ]
     },
     "execution_count": 82,
     "metadata": {},
     "output_type": "execute_result"
    },
    {
     "data": {
      "image/png": "[encoded data removed]",
      "text/plain": [
       "<Figure size 576x360 with 1 Axes>"
      ]
     },
     "metadata": {},
     "output_type": "display_data"
    }
   ],
   "source": [
    "plt.figure(figsize=(8, 5))\n",
    "plt.scatter(x_train['revenue'], y_train, marker = \"*\", s=50, color = 'purple')\n",
    "plt.xlabel(\"Revenye\", fontsize = 12)\n",
    "plt.ylabel(\"Score\", fontsize = 12)\n",
    "plt.grid()\n",
    "plt.title(\"Decision Tree Regression\", fontsize = 14)"
   ]
  },
  {
   "cell_type": "markdown",
   "metadata": {},
   "source": [
    "# Actor Popularity vs Gross"
   ]
  },
  {
   "cell_type": "code",
   "execution_count": 83,
   "metadata": {},
   "outputs": [
    {
     "name": "stdout",
     "output_type": "stream",
     "text": [
      "x_train shape: (2557, 3)\n",
      "y_train shape: (2557,)\n",
      "x_test shape: (640, 3)\n",
      "y_test shape: (640,)\n"
     ]
    }
   ],
   "source": [
    "#Create X and Y train/test data\n",
    "x_train = train[['actor_3_facebook_likes', 'actor_2_facebook_likes', 'actor_1_facebook_likes']]\n",
    "y_train = train['gross']\n",
    "\n",
    "x_test = test[['actor_3_facebook_likes', 'actor_2_facebook_likes', 'actor_1_facebook_likes']]\n",
    "y_test = test['gross']\n",
    "\n",
    "print('x_train shape:', x_train.shape)\n",
    "print('y_train shape:', y_train.shape)\n",
    "print('x_test shape:', x_test.shape)\n",
    "print('y_test shape:', y_test.shape)"
   ]
  },
  {
   "cell_type": "code",
   "execution_count": 84,
   "metadata": {},
   "outputs": [
    {
     "data": {
      "text/plain": [
       "DecisionTreeRegressor(criterion='mse', max_depth=None, max_features=None,\n",
       "                      max_leaf_nodes=None, min_impurity_decrease=0.0,\n",
       "                      min_impurity_split=None, min_samples_leaf=1,\n",
       "                      min_samples_split=2, min_weight_fraction_leaf=0.0,\n",
       "                      presort=False, random_state=0, splitter='best')"
      ]
     },
     "execution_count": 84,
     "metadata": {},
     "output_type": "execute_result"
    }
   ],
   "source": [
    "actor_tree = DecisionTreeRegressor(random_state=0)\n",
    "actor_tree.fit(x_train, y_train)"
   ]
  },
  {
   "cell_type": "code",
   "execution_count": 85,
   "metadata": {},
   "outputs": [
    {
     "name": "stdout",
     "output_type": "stream",
     "text": [
      "R2 score on training set:  0.9820095446441194\n",
      "MSE on Training Set: 9789702.179144086\n"
     ]
    }
   ],
   "source": [
    "y_train_pred = actor_tree.predict(x_train)\n",
    "print('R2 score on training set: ', r2_score(y_train_pred, y_train))\n",
    "print('MSE on Training Set:', np.sqrt(mean_squared_error(y_train_pred, y_train)))\n"
   ]
  },
  {
   "cell_type": "code",
   "execution_count": 86,
   "metadata": {},
   "outputs": [
    {
     "name": "stdout",
     "output_type": "stream",
     "text": [
      "R2 score on testing set:  -0.5441815210745611\n",
      "MSE on Testing Set: 90957835.2354946\n"
     ]
    }
   ],
   "source": [
    "y_test_pred = actor_tree.predict(x_test)\n",
    "print('R2 score on testing set: ', r2_score(y_test_pred, y_test))\n",
    "print('MSE on Testing Set:', np.sqrt(mean_squared_error(y_test_pred, y_test)))\n",
    "\n",
    "\n"
   ]
  },
  {
   "cell_type": "markdown",
   "metadata": {},
   "source": [
    "# Patterns of Budget"
   ]
  },
  {
   "cell_type": "code",
   "execution_count": 87,
   "metadata": {},
   "outputs": [],
   "source": [
    "budget = clean_df[['budget_x', 'title_year']]"
   ]
  },
  {
   "cell_type": "code",
   "execution_count": 88,
   "metadata": {},
   "outputs": [],
   "source": [
    "budget.set_index(['title_year'],drop=True,inplace=True)\n",
    "budget.index = pd.to_datetime(budget.index,format='%Y')"
   ]
  },
  {
   "cell_type": "code",
   "execution_count": 89,
   "metadata": {},
   "outputs": [],
   "source": [
    "new_budget = budget.resample('AS', how='sum')"
   ]
  },
  {
   "cell_type": "code",
   "execution_count": 90,
   "metadata": {},
   "outputs": [],
   "source": [
    "new_budget.index = pd.to_datetime(new_budget.index,format='%Y').year"
   ]
  },
  {
   "cell_type": "code",
   "execution_count": 97,
   "metadata": {},
   "outputs": [
    {
     "data": {
      "image/png": "[encoded data removed]",
      "text/plain": [
       "<Figure size 1440x504 with 1 Axes>"
      ]
     },
     "metadata": {},
     "output_type": "display_data"
    }
   ],
   "source": [
    "fig, ax = plt.subplots(figsize=(20,7))\n",
    "ax.plot(new_budget.index, new_budget['budget_x'], color='darkblue')\n",
    "ax.set_xticks(range(1929,2020,4))\n",
    "plt.ylabel('Budget',fontsize = 14)\n",
    "plt.xlabel('Year',fontsize = 14)\n",
    "plt.title('Budget Allocated',fontsize = 16)\n",
    "plt.grid()\n",
    "plt.show()"
   ]
  },
  {
   "cell_type": "markdown",
   "metadata": {},
   "source": [
    "The plot demonstrates clear increases and decreases of budget allocation in certain years. Film budgets slowly started to increase in the 1980s with a sharp increase in the 2000s. However there are noticable drops between 2007- 2008. This can be attributed to Global Finanical Crisis (GFC) between 2007-2008. Also during this time period was the Writers strike of American film and screenwriters. The strike was to address increased funding for writers in comaprison to the profits of larger production companies. <br>\n",
    "The sudden drop in budget around 2015 can be attributed to the rise in accessability to streaming services - in 2016 [Netflix](https://en.wikipedia.org/wiki/Netflix) was available in 190 countries. Since then the number of Netflix Original movies has skyrocketed, pulling budget funding away from mainstream production companies. "
   ]
  },
  {
   "cell_type": "markdown",
   "metadata": {},
   "source": [
    "## Exploring the impact of Social Media likes on Gross profit \n"
   ]
  },
  {
   "cell_type": "code",
   "execution_count": 92,
   "metadata": {},
   "outputs": [],
   "source": [
    "#create a new dataframe sorted by movie likes in descending order\n",
    "social_media = pd.DataFrame(clean_df['movie_facebook_likes'].sort_values(ascending = False))\n",
    "social_media['gross'] = clean_df['gross']\n",
    "social_media['actor_1_likes']=clean_df['actor_1_facebook_likes']\n",
    "social_media['actor_2_likes']=clean_df['actor_2_facebook_likes']\n",
    "social_media['actor_3_likes']=clean_df['actor_3_facebook_likes']\n",
    "social_media['movie'] = clean_df['movie_title']\n",
    "social_media = social_media.drop(social_media[social_media.movie_facebook_likes == 0].index)"
   ]
  },
  {
   "cell_type": "code",
   "execution_count": 93,
   "metadata": {},
   "outputs": [
    {
     "data": {
      "text/plain": [
       "<matplotlib.legend.Legend at 0x1a18d1b208>"
      ]
     },
     "execution_count": 93,
     "metadata": {},
     "output_type": "execute_result"
    },
    {
     "data": {
      "image/png": "[encoded data removed]",
      "text/plain": [
       "<Figure size 720x720 with 1 Axes>"
      ]
     },
     "metadata": {},
     "output_type": "display_data"
    }
   ],
   "source": [
    "plt.scatter(social_media['movie_facebook_likes'][:100], social_media['gross'][:100],c = \"r\", label = \"Movie likes\")\n",
    "plt.scatter(social_media['actor_1_likes'][:100], social_media['gross'][:100],c = \"b\", label = \"Actor #1 likes\")\n",
    "plt.scatter(social_media['actor_2_likes'][:100], social_media['gross'][:100],c = \"g\", label = \"Actor #2 likes\")\n",
    "plt.scatter(social_media['actor_3_likes'][:100], social_media['gross'][:100],c = \"y\", label = \"Actor #3 likes\")\n",
    "plt.xlabel(\"Total facebook likes\", fontsize=12)\n",
    "plt.ylabel(\"Total gross $ for movie in millions\", fontsize=12)\n",
    "plt.legend()"
   ]
  },
  {
   "cell_type": "markdown",
   "metadata": {},
   "source": [
    "The above graph shows there does not seem to be a direct correlation between the facebook likes of a particular movie, or the actors staring in the movies facebook likes drawing in more ticket sales.\n"
   ]
  },
  {
   "cell_type": "code",
   "execution_count": 94,
   "metadata": {},
   "outputs": [
    {
     "name": "stdout",
     "output_type": "stream",
     "text": [
      "x train shape :  (1337, 4)\n",
      "x test shape :  (335, 4)\n",
      "y train shape :  (1337,)\n",
      "y test shape :  (335,)\n"
     ]
    }
   ],
   "source": [
    "#creating a new training and test set for social media variables specifically\n",
    "media_train, media_test = train_test_split(social_media, test_size = 0.2, random_state = 22)\n",
    "x_media_train = media_train[['actor_1_likes','actor_2_likes','actor_3_likes','movie_facebook_likes']]\n",
    "x_media_test = media_test[['actor_1_likes','actor_2_likes','actor_3_likes','movie_facebook_likes']]\n",
    "y_media_train = media_train['gross']\n",
    "y_media_test = media_test['gross']\n",
    "print(\"x train shape : \", x_media_train.shape)\n",
    "print(\"x test shape : \", x_media_test.shape)\n",
    "print(\"y train shape : \", y_media_train.shape)\n",
    "print(\"y test shape : \", y_media_test.shape)"
   ]
  },
  {
   "cell_type": "code",
   "execution_count": null,
   "metadata": {},
   "outputs": [],
   "source": []
  },
  {
   "cell_type": "code",
   "execution_count": 101,
   "metadata": {},
   "outputs": [
    {
     "ename": "SyntaxError",
     "evalue": "invalid syntax (<ipython-input-101-8607d4cfeea6>, line 12)",
     "output_type": "error",
     "traceback": [
      "\u001b[0;36m  File \u001b[0;32m\"<ipython-input-101-8607d4cfeea6>\"\u001b[0;36m, line \u001b[0;32m12\u001b[0m\n\u001b[0;31m    Accuracy score for y_predict:  0.0029850746268656717\u001b[0m\n\u001b[0m                 ^\u001b[0m\n\u001b[0;31mSyntaxError\u001b[0m\u001b[0;31m:\u001b[0m invalid syntax\n"
     ]
    }
   ],
   "source": [
    "socialLR = LogisticRegression()\n",
    "socialLR.fit(x_media_train, y_media_train)\n",
    "LogisticRegression(C=1.0, class_weight=None, dual=False, fit_intercept=True,\n",
    "                   intercept_scaling=1, l1_ratio=None, max_iter=100,\n",
    "                   multi_class='warn', n_jobs=None, penalty='l2',\n",
    "                   random_state=None, solver='warn', tol=0.0001, verbose=0,\n",
    "                   warm_start=False)\n",
    "1\n",
    "media_y_pred = socialLR.predict(x_media_test)\n",
    "2\n",
    "print(\"Accuracy score for y_predict: \",accuracy_score(y_media_test,media_y_pred))\n"
   ]
  },
  {
   "cell_type": "code",
   "execution_count": null,
   "metadata": {},
   "outputs": [],
   "source": []
  }
 ],
 "metadata": {
  "kernelspec": {
   "display_name": "Python 3",
   "language": "python",
   "name": "python3"
  },
  "language_info": {
   "codemirror_mode": {
    "name": "ipython",
    "version": 3
   },
   "file_extension": ".py",
   "mimetype": "text/x-python",
   "name": "python",
   "nbconvert_exporter": "python",
   "pygments_lexer": "ipython3",
   "version": "3.7.3"
  },
  "varInspector": {
   "cols": {
    "lenName": 16,
    "lenType": 16,
    "lenVar": 40
   },
   "kernels_config": {
    "python": {
     "delete_cmd_postfix": "",
     "delete_cmd_prefix": "del ",
     "library": "var_list.py",
     "varRefreshCmd": "print(var_dic_list())"
    },
    "r": {
     "delete_cmd_postfix": ") ",
     "delete_cmd_prefix": "rm(",
     "library": "var_list.r",
     "varRefreshCmd": "cat(var_dic_list()) "
    }
   },
   "oldHeight": 187,
   "position": {
    "height": "182px",
    "left": "1899px",
    "right": "20px",
    "top": "131px",
    "width": "491px"
   },
   "types_to_exclude": [
    "module",
    "function",
    "builtin_function_or_method",
    "instance",
    "_Feature"
   ],
   "varInspector_section_display": "block",
   "window_display": true
  }
 },
 "nbformat": 4,
 "nbformat_minor": 2
}
